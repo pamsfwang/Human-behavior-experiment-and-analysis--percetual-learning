{
  "nbformat": 4,
  "nbformat_minor": 0,
  "metadata": {
    "colab": {
      "name": "stochastic_stimuli.ipynb",
      "version": "0.3.2",
      "provenance": [],
      "include_colab_link": true
    },
    "kernelspec": {
      "name": "python2",
      "display_name": "Python 2"
    }
  },
  "cells": [
    {
      "cell_type": "markdown",
      "metadata": {
        "id": "view-in-github",
        "colab_type": "text"
      },
      "source": [
        "[View in Colaboratory](https://colab.research.google.com/github/pamsfwang/perceptual_learning/blob/master/stochastic_stimuli.ipynb)"
      ]
    },
    {
      "metadata": {
        "id": "vywyQdQUVjtR",
        "colab_type": "code",
        "colab": {}
      },
      "cell_type": "code",
      "source": [
        "import tensorflow as tf\n",
        "import numpy\n",
        "import os\n",
        "import pandas as pd\n",
        "from sklearn.linear_model import LogisticRegression\n",
        "\n",
        "import matplotlib.pyplot as plt\n",
        "\n",
        "\n"
      ],
      "execution_count": 0,
      "outputs": []
    },
    {
      "metadata": {
        "id": "78snJY1vVk-b",
        "colab_type": "code",
        "colab": {
          "base_uri": "https://localhost:8080/",
          "height": 306
        },
        "outputId": "7e524c2d-bc9f-4afd-d6c4-6aee12ca2a4b"
      },
      "cell_type": "code",
      "source": [
        "#Mount Google drive on Colab\n",
        "#step01\n",
        "!apt-get install -y -qq software-properties-common python-software-properties module-init-tools\n",
        "!add-apt-repository -y ppa:alessandro-strada/ppa 2>&1 > /dev/null\n",
        "!apt-get update -qq 2>&1 > /dev/null\n",
        "!apt-get -y install -qq google-drive-ocamlfuse fuse\n",
        "\n",
        "\n",
        "from google.colab import auth\n",
        "auth.authenticate_user()\n",
        "\n",
        "from oauth2client.client import GoogleCredentials\n",
        "creds = GoogleCredentials.get_application_default()\n",
        "\n",
        "import getpass\n",
        "!google-drive-ocamlfuse -headless -id={creds.client_id} -secret={creds.client_secret} < /dev/null 2>&1 | grep URL\n",
        "vcode = getpass.getpass()\n",
        "!echo {vcode} | google-drive-ocamlfuse -headless -id={creds.client_id} -secret={creds.client_secret}\n",
        "#step02: code for mounting google drive on Linux\n",
        "!mkdir -p drive\n",
        "!google-drive-ocamlfuse drive\n",
        "\n",
        "#step03: change directory to the google drive folder for the project\n",
        "os.getcwd()\n",
        "!ls\n",
        "os.chdir('./drive/Colab_files')\n",
        "os.getcwd()\n",
        "!ls"
      ],
      "execution_count": 251,
      "outputs": [
        {
          "output_type": "stream",
          "text": [
            "gpg: keybox '/tmp/tmpre25jypc/pubring.gpg' created\n",
            "gpg: /tmp/tmpre25jypc/trustdb.gpg: trustdb created\n",
            "gpg: key AD5F235DF639B041: public key \"Launchpad PPA for Alessandro Strada\" imported\n",
            "gpg: Total number processed: 1\n",
            "gpg:               imported: 1\n",
            "Warning: apt-key output should not be parsed (stdout is not a terminal)\n",
            "··········\n",
            "drive\t\t\t     notebooks\n",
            "jfj_stimuli_param.csv\t     stimuli_param_uniqueF3.csv\n",
            "jfj_stimuli_param_test.csv   stimuli_param_uniqueF3_test_new.csv\n",
            "jfj_stimuli_param_train.csv  stimuli_param_uniqueF3_train_new.csv\n",
            "models\t\t\t     stimuli_param_uniqueF3_train_new.csv.ods\n",
            "drive\t\t\t     notebooks\n",
            "jfj_stimuli_param.csv\t     stimuli_param_uniqueF3.csv\n",
            "jfj_stimuli_param_test.csv   stimuli_param_uniqueF3_test_new.csv\n",
            "jfj_stimuli_param_train.csv  stimuli_param_uniqueF3_train_new.csv\n",
            "models\t\t\t     stimuli_param_uniqueF3_train_new.csv.ods\n"
          ],
          "name": "stdout"
        }
      ]
    },
    {
      "metadata": {
        "id": "1KNTEbVpl_Kd",
        "colab_type": "code",
        "colab": {}
      },
      "cell_type": "code",
      "source": [
        "#specify variables\n",
        "train_data = 'stimuli_param_uniqueF3_train_new.csv' #'jfj_stimuli_param_train.csv'\n",
        "test_data = 'stimuli_param_uniqueF3_test_new.csv'# 'jfj_stimuli_param_test.csv'\n",
        "\n",
        "num_features = 3\n",
        "node_hidden01 = 10\n",
        "epoch = 5000\n",
        "learning_rate = 0.005\n",
        "initial_weight01 = -0.01\n",
        "initial_weight02 = 0.01"
      ],
      "execution_count": 0,
      "outputs": []
    },
    {
      "metadata": {
        "id": "xqZqjlYyVveh",
        "colab_type": "code",
        "colab": {
          "base_uri": "https://localhost:8080/",
          "height": 510
        },
        "outputId": "d65475c9-447c-45cb-ebb4-32c4f08ce09f"
      },
      "cell_type": "code",
      "source": [
        "#load data\n",
        "df=pd.read_csv(train_data, sep=',',header=None)\n",
        "df.shape\n",
        "nsamples =df.shape[0]\n",
        "print \"number of training samples:\",nsamples\n",
        "\n",
        "#shuffle the data\n",
        "df_array = df.values\n",
        "new = numpy.take(df_array,numpy.random.permutation(df_array.shape[0]),axis=0,out=df_array);\n",
        "\n",
        "##separate data into features and labels (numpy.array)\n",
        "temp = new[:,0:num_features] #df.iloc[:,0:num_features]\n",
        "x_data = temp #temp.values\n",
        "print \"dimension of feature dataset:\",x_data.shape\n",
        "print(x_data[0:5,:])\n",
        "\n",
        "temp = new[:,3]#df.iloc[:,num_features]\n",
        "y_data = temp #temp.values\n",
        "print \"dimension of category dataset:\",y_data.shape\n",
        "print(y_data[0:5])\n",
        "\n",
        "\n",
        "#load test data\n",
        "df=pd.read_csv(test_data, sep=',',header=None)\n",
        "df.shape\n",
        "print \"number of test samples:\",df.shape[0]\n",
        "\n",
        "##separate data into features and labels (numpy.array)\n",
        "temp = df.iloc[:,0:num_features]\n",
        "test_x_data = temp.values\n",
        "print \"dimension of feature dataset:\",test_x_data.shape\n",
        "print(test_x_data)\n",
        "\n",
        "temp = df.iloc[:,num_features]\n",
        "test_y_data = temp.values\n",
        "print \"dimension of category dataset:\",test_y_data.shape\n",
        "print(test_y_data)"
      ],
      "execution_count": 308,
      "outputs": [
        {
          "output_type": "stream",
          "text": [
            "number of training samples: 52\n",
            "dimension of feature dataset: (52, 3)\n",
            "[[2.  1.  6.8]\n",
            " [2.  4.  2.6]\n",
            " [3.  3.  0.2]\n",
            " [3.  3.  1.4]\n",
            " [2.  3.  2.3]]\n",
            "dimension of category dataset: (52,)\n",
            "[1. 0. 1. 0. 1.]\n",
            "number of test samples: 16\n",
            "dimension of feature dataset: (16, 3)\n",
            "[[1.  0.  1.2]\n",
            " [1.  1.  4.2]\n",
            " [2.  0.  5.7]\n",
            " [2.  1.  1.8]\n",
            " [2.  4.  5.7]\n",
            " [3.  0.  2.1]\n",
            " [3.  1.  5.3]\n",
            " [4.  0.  5.7]\n",
            " [1.  4.  4.2]\n",
            " [2.  3.  0. ]\n",
            " [2.  4.  1.8]\n",
            " [3.  3.  4.2]\n",
            " [3.  4.  1.6]\n",
            " [3.  0.  1.1]\n",
            " [4.  3.  6.2]\n",
            " [4.  4.  4.2]]\n",
            "dimension of category dataset: (16,)\n",
            "[1 1 1 1 1 1 1 1 0 0 0 0 0 0 0 0]\n"
          ],
          "name": "stdout"
        }
      ]
    },
    {
      "metadata": {
        "id": "3qdf-WKN8cA3",
        "colab_type": "code",
        "colab": {
          "base_uri": "https://localhost:8080/",
          "height": 51
        },
        "outputId": "c4f12a08-9418-4d67-c16c-197750d2c369"
      },
      "cell_type": "code",
      "source": [
        "#logistic regression\n",
        "logisticRegr = LogisticRegression()\n",
        "logisticRegr.fit(x_data, y_data)\n",
        "predictions = logisticRegr.predict(test_x_data)\n",
        "\n",
        "acc = []\n",
        "temp = predictions+test_y_data\n",
        "for ii in xrange(len(temp)):\n",
        "  if temp[ii] ==2 or temp[ii]==0:\n",
        "    acc.append(1)\n",
        "  else:\n",
        "    acc.append(0)\n",
        "    \n",
        "accuracy_per = float(sum(acc))/float(len(acc))\n",
        "print(\"calculate accuracy :\" + repr(accuracy_per))\n",
        "#print(len(acc))\n",
        "#print(acc)\n",
        "score = logisticRegr.score(test_x_data, test_y_data)\n",
        "print(score)\n",
        "\n"
      ],
      "execution_count": 309,
      "outputs": [
        {
          "output_type": "stream",
          "text": [
            "calculate accuracy :0.8125\n",
            "0.8125\n"
          ],
          "name": "stdout"
        }
      ]
    },
    {
      "metadata": {
        "id": "gpN1pq3UWGT8",
        "colab_type": "code",
        "colab": {}
      },
      "cell_type": "code",
      "source": [
        "##set up network layers\n",
        "#You can think of most the tensorflow variables as actually being functions that we will call when we want to get their value. \n",
        "input_ph = tf.placeholder(tf.float32, shape=[num_features,1]) \n",
        "#This will be the place the input to the network is inserted\n",
        "#shape: number of features\n",
        "\n",
        "target_ph =  tf.placeholder(tf.float32, shape=[1,1]) \n",
        "#This will be the place the target for the network is insertedd\n",
        "#shape = number of node\n",
        "\n",
        "#First layer weights\n",
        "W1 = tf.Variable(tf.random_uniform([node_hidden01,num_features],initial_weight01,initial_weight02)) \n",
        "#first layer: 3 input feautres to 10 nodes in the hidden layer\n",
        "\n",
        "b1 = tf.Variable(tf.random_uniform([node_hidden01,1],initial_weight01,initial_weight02)) # \" \" biases\n",
        "#one bias to the 10 nodes in the hidden layer\n",
        "#[# nodes, # nodes], sampling from a random uniform distribution from -1 to 1 for initial weights\n",
        "\n",
        "#2nd layer\n",
        "W2 = tf.Variable(tf.random_uniform([1,node_hidden01],initial_weight01,initial_weight02)) \n",
        "#second layer: 10 nodes in the first hidden layer to one node in the second\n",
        "b2 = tf.Variable(tf.random_uniform([1],initial_weight01,initial_weight02))\n",
        "\n",
        "\n",
        "#####\n",
        "\n",
        "##construct the network\n",
        "h1 = tf.nn.tanh(tf.matmul(W1,input_ph)+b1)\n",
        "#y = tanh(x1w11+x2w21)\n",
        "#tf.matmul: matrix multiplication\n",
        "\n",
        "output = tf.nn.sigmoid(tf.matmul(W2,h1)+b2) \n",
        "#This is the actual construction of the network. \n",
        "#When we want to get the output of the network, we will tell tensorflow what to put in the input placeholder, and then we'll run this output function\n",
        "\n",
        "loss = tf.reduce_sum(tf.square(output - target_ph))\n",
        "#This is the function we're trying to optimize. The reduce_sum is not really necessary since we only have a single output, just using it to flatten the output.\n",
        "\n",
        "#optimizer = tf.train.AdamOptimizer(learning_rate) \n",
        "optimizer = tf.train.AdamOptimizer(learning_rate)\n",
        "#This is a fancy version of momentum based gradient descent optimization.\n",
        "\n",
        "train = optimizer.minimize(loss) \n",
        "#This will be how we tell the network to train on an example\n"
      ],
      "execution_count": 0,
      "outputs": []
    },
    {
      "metadata": {
        "id": "TsesbB7WyIBk",
        "colab_type": "code",
        "colab": {}
      },
      "cell_type": "code",
      "source": [
        "def test():\n",
        "    MSE = 0.0\n",
        "    for i in xrange(len(x_data)):\n",
        "      MSE += sess.run(loss,feed_dict={input_ph: x_data[i].reshape([num_features,1]),target_ph: y_data[i].reshape([1,1])}) #test on a test data point. feed_dict is how you pass things in to the placeholders created above\n",
        "    MSE /= len(x_data)\n",
        "    return MSE\n",
        "\n",
        "def accuracy():\n",
        "    temp =numpy.empty((nsamples,1))\n",
        "    #acc=[]\n",
        "    for i in xrange(len(x_data)):\n",
        "        #temp.append(sess.run(output,feed_dict={input_ph: x_data[i].reshape([num_features,1])}))\n",
        "        result = sess.run(output,feed_dict={input_ph: x_data[i].reshape([num_features,1])})\n",
        "        temp[i,:] = result\n",
        "        #temp= numpy.append(temp,[result],axis=0)\n",
        "    return temp\n",
        "    #t2 = temp+y_data\n",
        "    #for ii in xrange(len(t2)):\n",
        "    #  if t2[ii] ==2 or t2[ii]==0:\n",
        "    #    acc.append(1)\n",
        "    #  else:\n",
        "    #    acc.append(0)\n",
        "    #accuracy_per = float(sum(acc))/float(len(acc)) \n",
        "    #return accuracy_per\n",
        "    \n",
        "    \n",
        "def hidden():\n",
        "    temp = numpy.empty((nsamples,node_hidden01))\n",
        "    for i in xrange(len(y_data)):\n",
        "        #temp.append(sess.run(h1,feed_dict={input_ph: x_data[i].reshape([num_features,1])}))\n",
        "        result = sess.run(h1,feed_dict={input_ph: x_data[i].reshape([num_features,1])})\n",
        "        temp[i,:]=numpy.transpose(result)\n",
        "    return temp"
      ],
      "execution_count": 0,
      "outputs": []
    },
    {
      "metadata": {
        "id": "7GAP-OA_Znhv",
        "colab_type": "code",
        "colab": {
          "base_uri": "https://localhost:8080/",
          "height": 459
        },
        "outputId": "9073a477-1976-42a2-d54e-790bfe0c66b4"
      },
      "cell_type": "code",
      "source": [
        "# Launch the graph -- tell tensorflow to initialize everything.\n",
        "init = tf.global_variables_initializer()\n",
        "sess = tf.Session()\n",
        "sess.run(init) #first argument to sess.run is function to run, here we're running the initialize function\n",
        "\n",
        "# Fit the function\n",
        "print \"Pre training MSE:\", test\n",
        "ac = numpy.empty((nsamples,epoch))\n",
        "hid = []#numpy.empty((node_hidden01,nsamples,epoch))\n",
        "los = []\n",
        "new_y = numpy.empty((nsamples,epoch))\n",
        "new_x = numpy.empty((nsamples,num_features,epoch))\n",
        "for step in xrange(epoch):\n",
        "  #load data\n",
        "  df=pd.read_csv(train_data, sep=',',header=None)\n",
        "  #shuffle the data\n",
        "  df_array = df.values\n",
        "  new = numpy.take(df_array,numpy.random.permutation(df_array.shape[0]),axis=0,out=df_array);\n",
        "  #separate data into features and labels (numpy.array)\n",
        "  x_data = new[:,0:num_features] #features\n",
        "  y_data = new[:,3] #labels\n",
        "  \n",
        "  #run the model \n",
        "  for item in xrange(nsamples):\n",
        "    sess.run(train,feed_dict={input_ph: x_data[item].reshape([num_features,1]),target_ph: y_data[item].reshape([1,1])}) \n",
        "  \n",
        "  \n",
        "  #save out results on each iteration\n",
        "  ac[:,step]=numpy.transpose(accuracy())\n",
        "  #ac.append(accuracy())\n",
        "  #hid[:,step]=numpy.transpose(hidden())\n",
        "  hid.append(hidden())\n",
        "  los.append(test())\n",
        "  new_y[:,step] = y_data\n",
        "  new_x[:,:,step] = x_data\n",
        "  \n",
        "  #print out loss\n",
        "  if step % 100 == 0:\n",
        "    print \"On step %i, test MSE %f\" %(step,test())"
      ],
      "execution_count": 0,
      "outputs": [
        {
          "output_type": "stream",
          "text": [
            "Pre training MSE: <function test at 0x7f0f09c4fa28>\n",
            "On step 0, test MSE 0.249455\n",
            "On step 100, test MSE 0.201976\n",
            "On step 200, test MSE 0.201124\n",
            "On step 300, test MSE 0.198334\n",
            "On step 400, test MSE 0.195319\n",
            "On step 500, test MSE 0.187233\n",
            "On step 600, test MSE 0.182820\n",
            "On step 700, test MSE 0.180504\n",
            "On step 800, test MSE 0.175518\n",
            "On step 900, test MSE 0.170811\n",
            "On step 1000, test MSE 0.165717\n",
            "On step 1100, test MSE 0.162610\n",
            "On step 1200, test MSE 0.160304\n",
            "On step 1300, test MSE 0.158646\n",
            "On step 1400, test MSE 0.157692\n",
            "On step 1500, test MSE 0.156451\n",
            "On step 1600, test MSE 0.155629\n",
            "On step 1700, test MSE 0.155447\n",
            "On step 1800, test MSE 0.154188\n",
            "On step 1900, test MSE 0.153197\n",
            "On step 2000, test MSE 0.152629\n",
            "On step 2100, test MSE 0.152343\n",
            "On step 2200, test MSE 0.150739\n",
            "On step 2300, test MSE 0.149725\n",
            "On step 2400, test MSE 0.148438\n"
          ],
          "name": "stdout"
        }
      ]
    },
    {
      "metadata": {
        "id": "SHiOQFuVnbGN",
        "colab_type": "code",
        "colab": {
          "base_uri": "https://localhost:8080/",
          "height": 51
        },
        "outputId": "0b4de23a-a594-48cd-943a-d77fe927b97e"
      },
      "cell_type": "code",
      "source": [
        "print \"Post training MSE:\", test()\n",
        "print \"Final weights:\"\n",
        "#print(sess.run(W1),sess.run(b1),sess.run(W2),sess.run(b2))\n"
      ],
      "execution_count": 305,
      "outputs": [
        {
          "output_type": "stream",
          "text": [
            "Post training MSE: 0.037189333065881944\n",
            "Final weights:\n"
          ],
          "name": "stdout"
        }
      ]
    },
    {
      "metadata": {
        "id": "anAlvAn1d1SU",
        "colab_type": "code",
        "colab": {
          "base_uri": "https://localhost:8080/",
          "height": 391
        },
        "outputId": "34d66f98-57fd-48a0-8e15-06e55a538040"
      },
      "cell_type": "code",
      "source": [
        "plt.plot(los)\n",
        "plt.ylabel('Loss', fontsize = 20)\n",
        "plt.xlabel('Epoch',fontsize = 20)\n",
        "plt.title('Training loss', fontsize = 20)\n",
        "plt.show()\n",
        "\n",
        "#plt.imshow(hid[1][:][1],cmap=plt.cm.BuPu_r)\n",
        "#plt.show()"
      ],
      "execution_count": 312,
      "outputs": [
        {
          "output_type": "display_data",
          "data": {
            "image/png": "[encoded data removed]",
            "text/plain": [
              "<matplotlib.figure.Figure at 0x7f0f062074d0>"
            ]
          },
          "metadata": {
            "tags": []
          }
        }
      ]
    },
    {
      "metadata": {
        "id": "nhAfg2XIE5xv",
        "colab_type": "code",
        "colab": {
          "base_uri": "https://localhost:8080/",
          "height": 255
        },
        "outputId": "58f475c7-3a75-4e7c-86c2-363c956c29b5"
      },
      "cell_type": "code",
      "source": [
        "len(new_y[1])\n",
        "len(hid[1])\n",
        "\n",
        "dim1=len(hid)\n",
        "dim2 = len(hid[0])\n",
        "dim3 = len(hid[0][0])\n",
        "print(repr(dim1),repr(dim2),repr(dim3))\n",
        "\n",
        "print(new_y[:,0])\n",
        "#print(hid[1][1])\n",
        "#print(hid[1][2])\n",
        "\n",
        "zero_ind = numpy.asarray(numpy.where(new_y[:,0]==0))\n",
        "print(zero_ind)\n",
        "print(new_y[:,0][zero_ind])\n",
        "print(zero_ind.shape)\n",
        "\n",
        "#nn = numpy.empty((len(zero_ind),node_hidden01))\n",
        "nn = hid[0][zero_ind]\n",
        "print(nn.shape)\n",
        "#print(numpy.corrcoef(hid[1][1],hid[1][2],rowvar=False))\n",
        "#corr(hid[1][1],hid[1][2])\n",
        "nnewshape = numpy.reshape(nn,(26,10))\n",
        "print(nnewshape.shape)\n",
        "meanzero = numpy.mean(nnewshape,axis=0)\n",
        "print('shape of the average hidden layer'+repr(meanzero.shape))\n",
        "print(meanzero)\n"
      ],
      "execution_count": 259,
      "outputs": [
        {
          "output_type": "stream",
          "text": [
            "('5000', '52', '10')\n",
            "[1. 1. 0. 1. 0. 0. 1. 0. 0. 0. 1. 1. 1. 0. 1. 0. 1. 1. 0. 1. 1. 0. 0. 1.\n",
            " 0. 1. 0. 0. 1. 1. 1. 1. 0. 0. 1. 0. 0. 0. 0. 1. 0. 1. 0. 1. 0. 0. 1. 0.\n",
            " 0. 1. 1. 1.]\n",
            "[[ 2  4  5  7  8  9 13 15 18 21 22 24 26 27 32 33 35 36 37 38 40 42 44 45\n",
            "  47 48]]\n",
            "[[0. 0. 0. 0. 0. 0. 0. 0. 0. 0. 0. 0. 0. 0. 0. 0. 0. 0. 0. 0. 0. 0. 0. 0.\n",
            "  0. 0.]]\n",
            "(1, 26)\n",
            "(1, 26, 10)\n",
            "(26, 10)\n",
            "shape of the average hidden layer(10,)\n",
            "[-0.29020978  0.23491973  0.27593293 -0.20822945  0.17894969 -0.14457464\n",
            "  0.07964603  0.27337324  0.20773087 -0.15495575]\n"
          ],
          "name": "stdout"
        }
      ]
    },
    {
      "metadata": {
        "id": "El4oLiAsoeui",
        "colab_type": "code",
        "colab": {
          "base_uri": "https://localhost:8080/",
          "height": 153
        },
        "outputId": "a796012a-5b69-4f85-ec00-45de00ba76af"
      },
      "cell_type": "code",
      "source": [
        "one_ind = numpy.asarray(numpy.where(new_y[:,0]==1))\n",
        "print(one_ind)\n",
        "none = hid[0][one_ind]\n",
        "\n",
        "noneshape = numpy.reshape(none,(26,10))\n",
        "print(noneshape.shape)\n",
        "meanone = numpy.mean(noneshape,axis=0)\n",
        "print('shape of the average hidden layer'+repr(meanone.shape))\n",
        "print(meanone)\n",
        "\n",
        "co = numpy.corrcoef(meanzero,meanone)\n",
        "print(co)\n"
      ],
      "execution_count": 246,
      "outputs": [
        {
          "output_type": "stream",
          "text": [
            "[[ 2  5  8  9 13 14 15 18 21 24 27 28 29 32 33 34 35 37 38 40 42 43 45 47\n",
            "  48 50]]\n",
            "(26, 10)\n",
            "shape of the average hidden layer(10,)\n",
            "[-0.17636411  0.15684113  0.16349359 -0.16670421 -0.18732448  0.15829348\n",
            "  0.15733762 -0.11771902  0.17352752  0.12826859]\n",
            "[[1.        0.9997676]\n",
            " [0.9997676 1.       ]]\n"
          ],
          "name": "stdout"
        }
      ]
    },
    {
      "metadata": {
        "id": "sIArQEytpL5Z",
        "colab_type": "code",
        "colab": {}
      },
      "cell_type": "code",
      "source": [
        "final_co = [];#numpy.empty((0,epoch))\n",
        "for step in xrange(epoch):\n",
        "  zero_ind = numpy.asarray(numpy.where(new_y[:,0]==0))\n",
        "  nn = hid[step][zero_ind]\n",
        "  nnewshape = numpy.reshape(nn,(26,10))\n",
        "  meanzero = numpy.mean(nnewshape,axis=0)\n",
        "  \n",
        "  one_ind = numpy.asarray(numpy.where(new_y[:,0]==1))\n",
        "  none = hid[step][one_ind]\n",
        "  noneshape = numpy.reshape(none,(26,10))\n",
        "  meanone = numpy.mean(noneshape,axis=0)\n",
        "\n",
        "  co = numpy.corrcoef(meanzero,meanone)\n",
        "  final_co.append(co[0,1])\n",
        "  #print(co)\n",
        "#print(final_co)\n"
      ],
      "execution_count": 0,
      "outputs": []
    },
    {
      "metadata": {
        "id": "kdMwiEE0otAA",
        "colab_type": "code",
        "colab": {
          "base_uri": "https://localhost:8080/",
          "height": 391
        },
        "outputId": "32ef3d6b-c1bc-4ad2-d413-ff61792eb336"
      },
      "cell_type": "code",
      "source": [
        "f = numpy.asarray(final_co)\n",
        "x_epoch = numpy.asarray(range(1,epoch+1))\n",
        "\n",
        "plt.scatter(x_epoch,f)\n",
        "plt.ylabel('Correlations', fontsize = 20)\n",
        "plt.xlabel('Epoch',fontsize = 20)\n",
        "plt.title('Correlations across two categories', fontsize = 20)\n",
        "plt.grid(False)\n",
        "plt.show()\n"
      ],
      "execution_count": 315,
      "outputs": [
        {
          "output_type": "display_data",
          "data": {
            "image/png": "[encoded data removed]",
            "text/plain": [
              "<matplotlib.figure.Figure at 0x7f0f054f3350>"
            ]
          },
          "metadata": {
            "tags": []
          }
        }
      ]
    },
    {
      "metadata": {
        "id": "BBc3QAsoNoet",
        "colab_type": "code",
        "colab": {
          "base_uri": "https://localhost:8080/",
          "height": 34
        },
        "outputId": "73329881-7961-4d44-9f4a-36d1faba3ef8"
      },
      "cell_type": "code",
      "source": [
        "type(numpy.asarray(zero_ind))"
      ],
      "execution_count": 224,
      "outputs": [
        {
          "output_type": "execute_result",
          "data": {
            "text/plain": [
              "numpy.ndarray"
            ]
          },
          "metadata": {
            "tags": []
          },
          "execution_count": 224
        }
      ]
    },
    {
      "metadata": {
        "id": "hzUWGuvLjgNj",
        "colab_type": "code",
        "colab": {}
      },
      "cell_type": "code",
      "source": [
        "len(ac[1])\n"
      ],
      "execution_count": 0,
      "outputs": []
    },
    {
      "metadata": {
        "id": "G6VMqaOySMfU",
        "colab_type": "code",
        "colab": {
          "base_uri": "https://localhost:8080/",
          "height": 34
        },
        "outputId": "97b25070-d237-4953-9529-907c1f126e48"
      },
      "cell_type": "code",
      "source": [
        "a = numpy.array([3, 5,7,6])\n",
        "print(a[1:2])\n",
        "  "
      ],
      "execution_count": 177,
      "outputs": [
        {
          "output_type": "stream",
          "text": [
            "[5]\n"
          ],
          "name": "stdout"
        }
      ]
    },
    {
      "metadata": {
        "id": "8yq5h2T4hT26",
        "colab_type": "code",
        "colab": {
          "base_uri": "https://localhost:8080/",
          "height": 225
        },
        "outputId": "64185dc7-93c0-4abc-a689-dc95232f026b"
      },
      "cell_type": "code",
      "source": [
        "#load test data\n",
        "df=pd.read_csv(test_data, sep=',',header=None)\n",
        "df.shape\n",
        "print \"number of test samples:\",df.shape[0]\n",
        "\n",
        "##separate data into features and labels (numpy.array)\n",
        "temp = df.iloc[:,0:num_features]\n",
        "test_x_data = temp.values\n",
        "print \"dimension of feature dataset:\",test_x_data.shape\n",
        "print(test_x_data)\n",
        "\n",
        "temp = df.iloc[:,num_features]\n",
        "test_y_data = temp.values\n",
        "print \"dimension of category dataset:\",test_y_data.shape\n",
        "print(test_y_data)"
      ],
      "execution_count": 5,
      "outputs": [
        {
          "output_type": "stream",
          "text": [
            "number of test samples: 8\n",
            "dimension of feature dataset: (8, 3)\n",
            "[[1 1 2]\n",
            " [2 1 2]\n",
            " [3 3 2]\n",
            " [4 3 2]\n",
            " [1 3 2]\n",
            " [2 3 2]\n",
            " [3 1 2]\n",
            " [4 1 2]]\n",
            "dimension of category dataset: (8,)\n",
            "[1 1 1 1 0 0 0 0]\n"
          ],
          "name": "stdout"
        }
      ]
    },
    {
      "metadata": {
        "id": "nHlK5Rt2dwpu",
        "colab_type": "code",
        "colab": {
          "base_uri": "https://localhost:8080/",
          "height": 130
        },
        "outputId": "2696a385-d3d6-4e89-a492-e4d9ccd63952"
      },
      "cell_type": "code",
      "source": [
        "# Launch the graph -- tell tensorflow to initialize everything.\n",
        "init = tf.global_variables_initializer()\n",
        "sess = tf.Session()\n",
        "sess.run(init) #first argument to sess.run is function to run, here we're running the initialize function\n",
        "\n",
        "# Fit the function\n",
        "print \"Pre training MSE:\", test\n",
        "ac = []\n",
        "hid = []\n",
        "los = []\n",
        "for step in xrange(600):\n",
        "  for item in xrange(nsamples):\n",
        "    #sess.run(train,feed_dict={input_ph: x_data[item].reshape([3,1]),target_ph: y_data[item].reshape([1,1])}) \n",
        "  sess.run(train,feed_dict={input_ph: x_data[step % nsamples].reshape([num_features,1]),target_ph: y_data[step % nsamples].reshape([1,1])}) \n",
        "  #sess.run(train): this will train the model, update the weights\n",
        "  #Run training on an example\n",
        "  ac.append(accuracy())\n",
        "  hid.append(hidden())\n",
        "  los.append(test())\n",
        "  if step % 100 == 0:\n",
        "    print \"On step %i, test MSE %f\" %(step,test())"
      ],
      "execution_count": 33,
      "outputs": [
        {
          "output_type": "error",
          "ename": "IndentationError",
          "evalue": "ignored",
          "traceback": [
            "\u001b[0;36m  File \u001b[0;32m\"<ipython-input-33-6896b0994b5b>\"\u001b[0;36m, line \u001b[0;32m13\u001b[0m\n\u001b[0;31m    sess.run(train,feed_dict={input_ph: x_data[step % nsamples].reshape([3,1]),target_ph: y_data[step % nsamples].reshape([1,1])})\u001b[0m\n\u001b[0m       ^\u001b[0m\n\u001b[0;31mIndentationError\u001b[0m\u001b[0;31m:\u001b[0m expected an indented block\n"
          ]
        }
      ]
    }
  ]
}