{
 "cells": [
  {
   "cell_type": "markdown",
   "metadata": {
    "colab_type": "text",
    "id": "view-in-github"
   },
   "source": [
    "[View in Colaboratory](https://colab.research.google.com/github/pamsfwang/perceptual_learning/blob/master/stochastic_stimuli_uniqueF3.ipynb)"
   ]
  },
  {
   "cell_type": "markdown",
   "metadata": {
    "colab_type": "text",
    "id": "Eyp5tqtN6u4N"
   },
   "source": [
    "**Use neural network to check learning of stimuli parameters - uniqueF3 design**   \n",
    "Shao-Fang Wang 2018\n",
    "\n",
    "- each object has three features, four levels in each feature. Objects are divided into two categories\n",
    "- 52 training objects in total\n",
    "- a simpel neural network with one hidden layer, stochastic learning. The model is trained on feature\n",
    "\n"
   ]
  },
  {
   "cell_type": "code",
   "execution_count": 0,
   "metadata": {
    "colab": {
     "base_uri": "https://localhost:8080/",
     "height": 170
    },
    "colab_type": "code",
    "id": "9olKNL9_VPj7",
    "outputId": "e542c09f-87a0-447d-de35-54db889972f8"
   },
   "outputs": [
    {
     "name": "stdout",
     "output_type": "stream",
     "text": [
      "Collecting sklearn\n",
      "  Downloading https://files.pythonhosted.org/packages/1e/7a/dbb3be0ce9bd5c8b7e3d87328e79063f8b263b2b1bfa4774cb1147bfcd3f/sklearn-0.0.tar.gz\n",
      "Requirement already satisfied: scikit-learn in /usr/local/lib/python2.7/dist-packages (from sklearn) (0.19.2)\n",
      "Building wheels for collected packages: sklearn\n",
      "  Running setup.py bdist_wheel for sklearn ... \u001b[?25l-\b \bdone\n",
      "\u001b[?25h  Stored in directory: /content/.cache/pip/wheels/76/03/bb/589d421d27431bcd2c6da284d5f2286c8e3b2ea3cf1594c074\n",
      "Successfully built sklearn\n",
      "Installing collected packages: sklearn\n",
      "Successfully installed sklearn-0.0\n"
     ]
    }
   ],
   "source": [
    "!pip install sklearn"
   ]
  },
  {
   "cell_type": "code",
   "execution_count": 0,
   "metadata": {
    "colab": {},
    "colab_type": "code",
    "id": "vywyQdQUVjtR"
   },
   "outputs": [],
   "source": [
    "import tensorflow as tf\n",
    "import numpy\n",
    "import os\n",
    "import pandas as pd\n",
    "\n",
    "#secondary analysis\n",
    "from sklearn.linear_model import LogisticRegression\n",
    "from sklearn.decomposition import PCA\n",
    "\n",
    "import matplotlib.pyplot as plt"
   ]
  },
  {
   "cell_type": "code",
   "execution_count": 19,
   "metadata": {
    "colab": {
     "base_uri": "https://localhost:8080/",
     "height": 445
    },
    "colab_type": "code",
    "id": "78snJY1vVk-b",
    "outputId": "0c6b3dde-3739-45c3-e170-80c2f917d84d"
   },
   "outputs": [
    {
     "name": "stdout",
     "output_type": "stream",
     "text": [
      "gpg: keybox '/tmp/tmp5gtewath/pubring.gpg' created\n",
      "gpg: /tmp/tmp5gtewath/trustdb.gpg: trustdb created\n",
      "gpg: key AD5F235DF639B041: public key \"Launchpad PPA for Alessandro Strada\" imported\n",
      "gpg: Total number processed: 1\n",
      "gpg:               imported: 1\n",
      "Warning: apt-key output should not be parsed (stdout is not a terminal)\n"
     ]
    },
    {
     "name": "stderr",
     "output_type": "stream",
     "text": [
      "WARNING:google.auth._default:No project ID could be determined. Consider running `gcloud config set project` or setting the GOOGLE_CLOUD_PROJECT environment variable\n"
     ]
    },
    {
     "name": "stdout",
     "output_type": "stream",
     "text": [
      "··········\n",
      "drive\t\t\t     notebooks\n",
      "jfj_stimuli_param.csv\t     stimuli_param_uniqueF3.csv\n",
      "jfj_stimuli_param_test.csv   stimuli_param_uniqueF3_test.csv\n",
      "jfj_stimuli_param_train.csv  stimuli_param_uniqueF3_test_new.csv\n",
      "jm_stimuli_param.csv\t     stimuli_param_uniqueF3_train_new.csv\n",
      "jm_stimuli_param_test.csv    stimuli_param_uniqueF3_train_new.csv.ods\n",
      "jm_stimuli_param_train.csv   wp_stimuli_param_train.csv\n",
      "models\n",
      "drive\t\t\t     notebooks\n",
      "jfj_stimuli_param.csv\t     stimuli_param_uniqueF3.csv\n",
      "jfj_stimuli_param_test.csv   stimuli_param_uniqueF3_test.csv\n",
      "jfj_stimuli_param_train.csv  stimuli_param_uniqueF3_test_new.csv\n",
      "jm_stimuli_param.csv\t     stimuli_param_uniqueF3_train_new.csv\n",
      "jm_stimuli_param_test.csv    stimuli_param_uniqueF3_train_new.csv.ods\n",
      "jm_stimuli_param_train.csv   wp_stimuli_param_train.csv\n",
      "models\n"
     ]
    }
   ],
   "source": [
    "#Mount Google drive on Colab\n",
    "#step01\n",
    "!apt-get install -y -qq software-properties-common python-software-properties module-init-tools\n",
    "!add-apt-repository -y ppa:alessandro-strada/ppa 2>&1 > /dev/null\n",
    "!apt-get update -qq 2>&1 > /dev/null\n",
    "!apt-get -y install -qq google-drive-ocamlfuse fuse\n",
    "\n",
    "\n",
    "from google.colab import auth\n",
    "auth.authenticate_user()\n",
    "\n",
    "from oauth2client.client import GoogleCredentials\n",
    "creds = GoogleCredentials.get_application_default()\n",
    "\n",
    "import getpass\n",
    "!google-drive-ocamlfuse -headless -id={creds.client_id} -secret={creds.client_secret} < /dev/null 2>&1 | grep URL\n",
    "vcode = getpass.getpass()\n",
    "!echo {vcode} | google-drive-ocamlfuse -headless -id={creds.client_id} -secret={creds.client_secret}\n",
    "#step02: code for mounting google drive on Linux\n",
    "!mkdir -p drive\n",
    "!google-drive-ocamlfuse drive\n",
    "\n",
    "#step03: change directory to the google drive folder for the project\n",
    "os.getcwd()\n",
    "!ls\n",
    "os.chdir('./drive/Colab_files')\n",
    "os.getcwd()\n",
    "!ls"
   ]
  },
  {
   "cell_type": "code",
   "execution_count": 0,
   "metadata": {
    "colab": {},
    "colab_type": "code",
    "id": "1KNTEbVpl_Kd"
   },
   "outputs": [],
   "source": [
    "#specify variables\n",
    "train_data = 'stimuli_param_uniqueF3_train_new.csv' \n",
    "test_data = 'stimuli_param_uniqueF3_test.csv' #this is the latest version\n",
    "\n",
    "num_features = 3\n",
    "node_hidden01 = 6\n",
    "epoch = 6000\n",
    "learning_rate = 0.005\n",
    "initial_weight01 = -0.01\n",
    "initial_weight02 = 0.01"
   ]
  },
  {
   "cell_type": "code",
   "execution_count": 21,
   "metadata": {
    "colab": {
     "base_uri": "https://localhost:8080/",
     "height": 680
    },
    "colab_type": "code",
    "id": "xqZqjlYyVveh",
    "outputId": "5a4cf4d9-67f4-46fe-dd7f-579081df9a7e"
   },
   "outputs": [
    {
     "name": "stdout",
     "output_type": "stream",
     "text": [
      "number of training samples: 52\n",
      "dimension of feature dataset: (52, 3)\n",
      "[[1.  2.  0.3]\n",
      " [2.  3.  2.3]\n",
      " [2.  3.  6.6]\n",
      " [2.  2.  3. ]\n",
      " [3.  1.  3.2]]\n",
      "dimension of category dataset: (52,)\n",
      "[1. 1. 0. 1. 1.]\n",
      "number of test samples: 26\n",
      "dimension of feature dataset: (26, 3)\n",
      "[[1.  0.  5.2]\n",
      " [1.  1.  4.9]\n",
      " [1.  3.  1.5]\n",
      " [2.  0.  5.2]\n",
      " [2.  0.  4.9]\n",
      " [2.  1.  4. ]\n",
      " [2.  1.  1.6]\n",
      " [2.  3.  0.2]\n",
      " [3.  0.  3.6]\n",
      " [3.  1.  1.2]\n",
      " [3.  3.  3.7]\n",
      " [4.  0.  6.8]\n",
      " [4.  4.  1.5]\n",
      " [1.  0.  7.1]\n",
      " [1.  4.  5.1]\n",
      " [2.  3.  1.1]\n",
      " [2.  4.  5.3]\n",
      " [2.  1.  2.4]\n",
      " [3.  3.  7.4]\n",
      " [3.  3.  4.1]\n",
      " [3.  4.  3.9]\n",
      " [3.  4.  2.3]\n",
      " [3.  0.  2.2]\n",
      " [4.  3.  4.4]\n",
      " [4.  4.  0.9]\n",
      " [4.  1.  2. ]]\n",
      "dimension of category dataset: (26,)\n",
      "[1 1 1 1 1 1 1 1 1 1 1 1 1 0 0 0 0 0 0 0 0 0 0 0 0 0]\n"
     ]
    }
   ],
   "source": [
    "#load data\n",
    "df=pd.read_csv(train_data, sep=',',header=None)\n",
    "df.shape\n",
    "nsamples =df.shape[0]\n",
    "print \"number of training samples:\",nsamples\n",
    "\n",
    "#shuffle the data\n",
    "df_array = df.values\n",
    "new = numpy.take(df_array,numpy.random.permutation(df_array.shape[0]),axis=0,out=df_array);\n",
    "\n",
    "##separate data into features and labels (numpy.array)\n",
    "temp = new[:,0:num_features] #df.iloc[:,0:num_features]\n",
    "x_data = temp #temp.values\n",
    "print \"dimension of feature dataset:\",x_data.shape\n",
    "print(x_data[0:5,:])\n",
    "\n",
    "temp = new[:,3]#df.iloc[:,num_features]\n",
    "y_data = temp #temp.values\n",
    "print \"dimension of category dataset:\",y_data.shape\n",
    "print(y_data[0:5])\n",
    "\n",
    "\n",
    "#load test data\n",
    "df=pd.read_csv(test_data, sep=',',header=None)\n",
    "df.shape\n",
    "print \"number of test samples:\",df.shape[0]\n",
    "\n",
    "##separate data into features and labels (numpy.array)\n",
    "temp = df.iloc[:,0:num_features]\n",
    "test_x_data = temp.values\n",
    "print \"dimension of feature dataset:\",test_x_data.shape\n",
    "print(test_x_data)\n",
    "\n",
    "temp = df.iloc[:,num_features]\n",
    "test_y_data = temp.values\n",
    "print \"dimension of category dataset:\",test_y_data.shape\n",
    "print(test_y_data)"
   ]
  },
  {
   "cell_type": "code",
   "execution_count": 22,
   "metadata": {
    "colab": {
     "base_uri": "https://localhost:8080/",
     "height": 51
    },
    "colab_type": "code",
    "id": "3qdf-WKN8cA3",
    "outputId": "8339decd-8886-45c1-93cc-d7ac88b8bf5b"
   },
   "outputs": [
    {
     "name": "stdout",
     "output_type": "stream",
     "text": [
      "calculate accuracy :0.7307692307692307\n",
      "0.7307692307692307\n"
     ]
    }
   ],
   "source": [
    "#logistic regression\n",
    "logisticRegr = LogisticRegression()\n",
    "logisticRegr.fit(x_data, y_data)\n",
    "predictions = logisticRegr.predict(test_x_data)\n",
    "\n",
    "acc = []\n",
    "temp = predictions+test_y_data\n",
    "for ii in xrange(len(temp)):\n",
    "  if temp[ii] ==2 or temp[ii]==0:\n",
    "    acc.append(1)\n",
    "  else:\n",
    "    acc.append(0)\n",
    "    \n",
    "accuracy_per = float(sum(acc))/float(len(acc))\n",
    "print(\"calculate accuracy :\" + repr(accuracy_per))\n",
    "#print(len(acc))\n",
    "#print(acc)\n",
    "score = logisticRegr.score(test_x_data, test_y_data)\n",
    "print(score)\n",
    "\n"
   ]
  },
  {
   "cell_type": "code",
   "execution_count": 0,
   "metadata": {
    "colab": {},
    "colab_type": "code",
    "id": "gpN1pq3UWGT8"
   },
   "outputs": [],
   "source": [
    "##set up network layers\n",
    "#You can think of most the tensorflow variables as actually being functions that we will call when we want to get their value. \n",
    "input_ph = tf.placeholder(tf.float32, shape=[num_features,1]) \n",
    "#This will be the place the input to the network is inserted\n",
    "#shape: number of features\n",
    "\n",
    "target_ph =  tf.placeholder(tf.float32, shape=[1,1]) \n",
    "#This will be the place the target for the network is insertedd\n",
    "#shape = number of node\n",
    "\n",
    "#First layer weights\n",
    "W1 = tf.Variable(tf.random_uniform([node_hidden01,num_features],initial_weight01,initial_weight02)) \n",
    "#first layer: 3 input feautres to 10 nodes in the hidden layer\n",
    "\n",
    "b1 = tf.Variable(tf.random_uniform([node_hidden01,1],initial_weight01,initial_weight02)) # \" \" biases\n",
    "#one bias to the 10 nodes in the hidden layer\n",
    "#[# nodes, # nodes], sampling from a random uniform distribution from -1 to 1 for initial weights\n",
    "\n",
    "#2nd layer\n",
    "W2 = tf.Variable(tf.random_uniform([1,node_hidden01],initial_weight01,initial_weight02)) \n",
    "#second layer: 10 nodes in the first hidden layer to one node in the second\n",
    "b2 = tf.Variable(tf.random_uniform([1],initial_weight01,initial_weight02))\n",
    "\n",
    "\n",
    "#####\n",
    "\n",
    "##construct the network\n",
    "h1 = tf.nn.tanh(tf.matmul(W1,input_ph)+b1)\n",
    "#y = tanh(x1w11+x2w21)\n",
    "#tf.matmul: matrix multiplication\n",
    "\n",
    "output = tf.nn.sigmoid(tf.matmul(W2,h1)+b2) \n",
    "#This is the actual construction of the network. \n",
    "#When we want to get the output of the network, we will tell tensorflow what to put in the input placeholder, and then we'll run this output function\n",
    "\n",
    "loss = tf.reduce_sum(tf.square(output - target_ph))\n",
    "#This is the function we're trying to optimize. The reduce_sum is not really necessary since we only have a single output, just using it to flatten the output.\n",
    "\n",
    "#optimizer = tf.train.AdamOptimizer(learning_rate) \n",
    "optimizer = tf.train.AdamOptimizer(learning_rate)\n",
    "#This is a fancy version of momentum based gradient descent optimization.\n",
    "\n",
    "train = optimizer.minimize(loss) \n",
    "#This will be how we tell the network to train on an example\n"
   ]
  },
  {
   "cell_type": "code",
   "execution_count": 0,
   "metadata": {
    "colab": {},
    "colab_type": "code",
    "id": "TsesbB7WyIBk"
   },
   "outputs": [],
   "source": [
    "#Define functions for calculating loss, accuracy, and hidden layer activity\n",
    "def test():\n",
    "    MSE = 0.0\n",
    "    for i in xrange(len(x_data)):\n",
    "      MSE += sess.run(loss,feed_dict={input_ph: x_data[i].reshape([num_features,1]),target_ph: y_data[i].reshape([1,1])}) #test on a test data point. feed_dict is how you pass things in to the placeholders created above\n",
    "    MSE /= len(x_data)\n",
    "    return MSE\n",
    "\n",
    "def accuracy():\n",
    "    temp =numpy.empty((nsamples,1))\n",
    "    #acc=[]\n",
    "    for i in xrange(len(x_data)):\n",
    "        #temp.append(sess.run(output,feed_dict={input_ph: x_data[i].reshape([num_features,1])}))\n",
    "        result = sess.run(output,feed_dict={input_ph: x_data[i].reshape([num_features,1])})\n",
    "        temp[i,:] = result\n",
    "        #temp= numpy.append(temp,[result],axis=0)\n",
    "    return temp\n",
    "    \n",
    "def hidden():\n",
    "    temp = numpy.empty((nsamples,node_hidden01))\n",
    "    for i in xrange(len(y_data)):\n",
    "        #temp.append(sess.run(h1,feed_dict={input_ph: x_data[i].reshape([num_features,1])}))\n",
    "        result = sess.run(h1,feed_dict={input_ph: x_data[i].reshape([num_features,1])})\n",
    "        temp[i,:]=numpy.transpose(result)\n",
    "    return temp"
   ]
  },
  {
   "cell_type": "code",
   "execution_count": 25,
   "metadata": {
    "colab": {
     "base_uri": "https://localhost:8080/",
     "height": 1071
    },
    "colab_type": "code",
    "id": "7GAP-OA_Znhv",
    "outputId": "e893e013-0d40-4a20-866b-24cab811ac69"
   },
   "outputs": [
    {
     "name": "stdout",
     "output_type": "stream",
     "text": [
      "Pre training MSE: 0.24999472756798452\n",
      "On step 0, test MSE 0.249212\n",
      "On step 100, test MSE 0.199975\n",
      "On step 200, test MSE 0.196549\n",
      "On step 300, test MSE 0.188341\n",
      "On step 400, test MSE 0.182018\n",
      "On step 500, test MSE 0.175465\n",
      "On step 600, test MSE 0.168956\n",
      "On step 700, test MSE 0.165914\n",
      "On step 800, test MSE 0.163673\n",
      "On step 900, test MSE 0.162918\n",
      "On step 1000, test MSE 0.160520\n",
      "On step 1100, test MSE 0.159437\n",
      "On step 1200, test MSE 0.158552\n",
      "On step 1300, test MSE 0.157341\n",
      "On step 1400, test MSE 0.156756\n",
      "On step 1500, test MSE 0.155870\n",
      "On step 1600, test MSE 0.152331\n",
      "On step 1700, test MSE 0.146293\n",
      "On step 1800, test MSE 0.143311\n",
      "On step 1900, test MSE 0.141628\n",
      "On step 2000, test MSE 0.137132\n",
      "On step 2100, test MSE 0.128006\n",
      "On step 2200, test MSE 0.117419\n",
      "On step 2300, test MSE 0.111651\n",
      "On step 2400, test MSE 0.107952\n",
      "On step 2500, test MSE 0.105289\n",
      "On step 2600, test MSE 0.104576\n",
      "On step 2700, test MSE 0.102575\n",
      "On step 2800, test MSE 0.101268\n",
      "On step 2900, test MSE 0.100768\n",
      "On step 3000, test MSE 0.105919\n",
      "On step 3100, test MSE 0.097916\n",
      "On step 3200, test MSE 0.096751\n",
      "On step 3300, test MSE 0.103617\n",
      "On step 3400, test MSE 0.095386\n",
      "On step 3500, test MSE 0.094612\n",
      "On step 3600, test MSE 0.097138\n",
      "On step 3700, test MSE 0.094305\n",
      "On step 3800, test MSE 0.092945\n",
      "On step 3900, test MSE 0.092215\n",
      "On step 4000, test MSE 0.092045\n",
      "On step 4100, test MSE 0.091903\n",
      "On step 4200, test MSE 0.092057\n",
      "On step 4300, test MSE 0.090179\n",
      "On step 4400, test MSE 0.089465\n",
      "On step 4500, test MSE 0.089813\n",
      "On step 4600, test MSE 0.088158\n",
      "On step 4700, test MSE 0.088098\n",
      "On step 4800, test MSE 0.088795\n",
      "On step 4900, test MSE 0.087230\n",
      "On step 5000, test MSE 0.085105\n",
      "On step 5100, test MSE 0.086642\n",
      "On step 5200, test MSE 0.086204\n",
      "On step 5300, test MSE 0.085566\n",
      "On step 5400, test MSE 0.084068\n",
      "On step 5500, test MSE 0.083791\n",
      "On step 5600, test MSE 0.084147\n",
      "On step 5700, test MSE 0.085847\n",
      "On step 5800, test MSE 0.085133\n",
      "On step 5900, test MSE 0.084239\n",
      "Post training MSE: 0.08352705367474106\n"
     ]
    }
   ],
   "source": [
    "# Launch the graph -- tell tensorflow to initialize everything.\n",
    "init = tf.global_variables_initializer()\n",
    "sess = tf.Session()\n",
    "sess.run(init) #first argument to sess.run is function to run, here we're running the initialize function\n",
    "\n",
    "# Fit the function\n",
    "print \"Pre training MSE:\", test()\n",
    "ac = numpy.empty((nsamples,epoch))\n",
    "hid = []#numpy.empty((node_hidden01,nsamples,epoch))\n",
    "los = []\n",
    "new_y = numpy.empty((nsamples,epoch))\n",
    "new_x = numpy.empty((nsamples,num_features,epoch))\n",
    "\n",
    "for step in xrange(epoch):\n",
    "  #load data\n",
    "  df=pd.read_csv(train_data, sep=',',header=None)\n",
    "  #shuffle the data\n",
    "  df_array = df.values\n",
    "  new = numpy.take(df_array,numpy.random.permutation(df_array.shape[0]),axis=0,out=df_array);\n",
    "  #separate data into features and labels (numpy.array)\n",
    "  x_data = new[:,0:num_features] #features\n",
    "  y_data = new[:,3] #labels\n",
    "  \n",
    "  #run the model \n",
    "  for item in xrange(nsamples):\n",
    "    sess.run(train,feed_dict={input_ph: x_data[item].reshape([num_features,1]),target_ph: y_data[item].reshape([1,1])}) \n",
    "  \n",
    "  \n",
    "  #save out results on each iteration\n",
    "  ac[:,step]=numpy.transpose(accuracy())\n",
    "  #ac.append(accuracy())\n",
    "  #hid[:,step]=numpy.transpose(hidden())\n",
    "  hid.append(hidden())\n",
    "  los.append(test())\n",
    "  new_y[:,step] = y_data\n",
    "  new_x[:,:,step] = x_data\n",
    "  \n",
    "  #print out loss\n",
    "  if step % 100 == 0:\n",
    "    print \"On step %i, test MSE %f\" %(step,test())\n",
    "\n",
    "print \"Post training MSE:\", test()"
   ]
  },
  {
   "cell_type": "code",
   "execution_count": 26,
   "metadata": {
    "colab": {
     "base_uri": "https://localhost:8080/",
     "height": 391
    },
    "colab_type": "code",
    "id": "anAlvAn1d1SU",
    "outputId": "7409c923-ee3c-4e90-d7af-56735cd5997e"
   },
   "outputs": [
    {
     "data": {
      "image/png": "[encoded data removed]",
      "text/plain": [
       "<matplotlib.figure.Figure at 0x7f34f826ed90>"
      ]
     },
     "metadata": {
      "tags": []
     },
     "output_type": "display_data"
    }
   ],
   "source": [
    "plt.plot(los)\n",
    "plt.ylabel('Loss', fontsize = 20)\n",
    "plt.xlabel('Epoch',fontsize = 20)\n",
    "plt.title('Training loss', fontsize = 20)\n",
    "plt.show()\n"
   ]
  },
  {
   "cell_type": "code",
   "execution_count": 27,
   "metadata": {
    "colab": {
     "base_uri": "https://localhost:8080/",
     "height": 238
    },
    "colab_type": "code",
    "id": "SHiOQFuVnbGN",
    "outputId": "5786d52d-2ee1-4f56-acc2-f157ded0bbf5"
   },
   "outputs": [
    {
     "name": "stdout",
     "output_type": "stream",
     "text": [
      "Final weights:\n",
      "(array([[ 6.210137  ,  4.676092  , -7.996991  ],\n",
      "       [ 1.7467271 , -1.1844908 ,  1.2420573 ],\n",
      "       [-1.9616036 , -2.4728322 , -0.39313912],\n",
      "       [ 6.1513433 ,  0.51752275, -3.2697425 ],\n",
      "       [-5.170054  , -1.5754119 ,  8.009163  ],\n",
      "       [ 9.683705  ,  0.82177216, -4.252787  ]], dtype=float32), array([[13.782767  ],\n",
      "       [-7.422298  ],\n",
      "       [12.418139  ],\n",
      "       [ 0.49573648],\n",
      "       [-4.7285495 ],\n",
      "       [-4.424337  ]], dtype=float32), array([[ 7.001533 ,  3.7791114,  4.369699 , -3.579479 , -3.693432 ,\n",
      "        -2.8548253]], dtype=float32), array([2.4593267], dtype=float32))\n"
     ]
    }
   ],
   "source": [
    "print \"Final weights:\"\n",
    "print(sess.run(W1),sess.run(b1),sess.run(W2),sess.run(b2))\n"
   ]
  },
  {
   "cell_type": "code",
   "execution_count": 28,
   "metadata": {
    "colab": {
     "base_uri": "https://localhost:8080/",
     "height": 381
    },
    "colab_type": "code",
    "id": "DW_AOw_Z_W2m",
    "outputId": "4e7b63ec-9718-4a2f-edbe-b34dc0698778"
   },
   "outputs": [
    {
     "name": "stdout",
     "output_type": "stream",
     "text": [
      "Dimensions of hidden layer activity mtr: 6000 52 6\n"
     ]
    },
    {
     "data": {
      "text/plain": [
       "<matplotlib.image.AxesImage at 0x7f34fd7486d0>"
      ]
     },
     "execution_count": 28,
     "metadata": {
      "tags": []
     },
     "output_type": "execute_result"
    },
    {
     "data": {
      "image/png": "[encoded data removed]",
      "text/plain": [
       "<matplotlib.figure.Figure at 0x7f34f81a4c10>"
      ]
     },
     "metadata": {
      "tags": []
     },
     "output_type": "display_data"
    }
   ],
   "source": [
    "print(\"Dimensions of hidden layer activity mtr: \"+repr(len(hid))+\" \"+ repr(len(hid[0]))+\" \"+repr(len(hid[0][0])))\n",
    "\n",
    "hid_array = numpy.asarray(hid)\n",
    "plt.imshow(numpy.reshape(hid_array[:,1,:],(node_hidden01,epoch)), aspect='auto')"
   ]
  },
  {
   "cell_type": "code",
   "execution_count": 0,
   "metadata": {
    "colab": {},
    "colab_type": "code",
    "id": "sIArQEytpL5Z"
   },
   "outputs": [],
   "source": [
    "#Correlations of hidden layer activity across two categories\n",
    "final_co = [];#numpy.empty((0,epoch))\n",
    "mean_hid_zero_activity = numpy.empty((node_hidden01,epoch))\n",
    "mean_hid_one_activity = numpy.empty((node_hidden01,epoch))\n",
    "for step in xrange(epoch):\n",
    "  zero_ind = numpy.asarray(numpy.where(new_y[:,step]==0))\n",
    "  #print(zero_ind)\n",
    "  hid_zero = hid[step][zero_ind]\n",
    "  hid_zeroreshape = numpy.reshape(hid_zero,(nsamples/2,node_hidden01))\n",
    "  meanzero = numpy.mean(hid_zeroreshape,axis=0)\n",
    "  \n",
    "  one_ind = numpy.asarray(numpy.where(new_y[:,step]==1))\n",
    "  #print(one_ind)\n",
    "  hid_one = hid[step][one_ind]\n",
    "  hid_onereshape = numpy.reshape(hid_one,(nsamples/2,node_hidden01))\n",
    "  meanone = numpy.mean(hid_onereshape,axis=0)\n",
    "   \n",
    "  co = numpy.corrcoef(meanzero,meanone)\n",
    "  final_co.append(co[0,1])\n",
    "  \n",
    "  #save mean activity for each epoch\n",
    "  mean_hid_zero_activity[:,step]= meanzero\n",
    "  mean_hid_one_activity[:,step] = meanone\n",
    "  #print(co)\n",
    "#print(final_co)\n",
    "\n"
   ]
  },
  {
   "cell_type": "code",
   "execution_count": 41,
   "metadata": {
    "colab": {
     "base_uri": "https://localhost:8080/",
     "height": 707
    },
    "colab_type": "code",
    "id": "K86L59GY7QjN",
    "outputId": "2fea8da8-1a10-404b-b85e-d404ff4b2704"
   },
   "outputs": [
    {
     "data": {
      "image/png": "[encoded data removed]",
      "text/plain": [
       "<matplotlib.figure.Figure at 0x7f34f79a35d0>"
      ]
     },
     "metadata": {
      "tags": []
     },
     "output_type": "display_data"
    },
    {
     "data": {
      "image/png": "[encoded data removed]",
      "text/plain": [
       "<matplotlib.figure.Figure at 0x7f34f79b6c10>"
      ]
     },
     "metadata": {
      "tags": []
     },
     "output_type": "display_data"
    }
   ],
   "source": [
    "#Ploting\n",
    "plt.imshow(mean_hid_zero_activity, aspect='auto')\n",
    "plt.title('Mean hidden layer activity for category A for each epoch')\n",
    "plt.grid(False)\n",
    "plt.colorbar()\n",
    "plt.show()\n",
    "\n",
    "\n",
    "plt.imshow(mean_hid_one_activity, aspect = 'auto')\n",
    "plt.title('Mean hidden layer activity for category B for each epoch')\n",
    "plt.grid(False)\n",
    "plt.colorbar()\n",
    "plt.show()"
   ]
  },
  {
   "cell_type": "code",
   "execution_count": 42,
   "metadata": {
    "colab": {
     "base_uri": "https://localhost:8080/",
     "height": 391
    },
    "colab_type": "code",
    "id": "kdMwiEE0otAA",
    "outputId": "b121988e-90ec-45ed-ebb4-7da53e0f33c1"
   },
   "outputs": [
    {
     "data": {
      "image/png": "[encoded data removed]",
      "text/plain": [
       "<matplotlib.figure.Figure at 0x7f34f7824b50>"
      ]
     },
     "metadata": {
      "tags": []
     },
     "output_type": "display_data"
    }
   ],
   "source": [
    "f = numpy.asarray(final_co)\n",
    "x_epoch = numpy.asarray(range(1,epoch+1))\n",
    "\n",
    "plt.scatter(x_epoch,f)\n",
    "plt.ylabel('Correlations', fontsize = 20)\n",
    "plt.xlabel('Epoch',fontsize = 20)\n",
    "plt.title('Correlations across two categories', fontsize = 20)\n",
    "plt.rcParams['figure.facecolor'] = '0.00'\n",
    "plt.show()\n",
    "\n"
   ]
  }
 ],
 "metadata": {
  "colab": {
   "include_colab_link": true,
   "name": "stochastic_stimuli_uniqueF3.ipynb",
   "provenance": [],
   "version": "0.3.2"
  },
  "kernelspec": {
   "display_name": "Python 3",
   "language": "python",
   "name": "python3"
  },
  "language_info": {
   "codemirror_mode": {
    "name": "ipython",
    "version": 3
   },
   "file_extension": ".py",
   "mimetype": "text/x-python",
   "name": "python",
   "nbconvert_exporter": "python",
   "pygments_lexer": "ipython3",
   "version": "3.7.1"
  }
 },
 "nbformat": 4,
 "nbformat_minor": 1
}
