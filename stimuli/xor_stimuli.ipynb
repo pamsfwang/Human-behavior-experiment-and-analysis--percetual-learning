{
  "nbformat": 4,
  "nbformat_minor": 0,
  "metadata": {
    "colab": {
      "name": "xor_stimuli.ipynb",
      "version": "0.3.2",
      "provenance": [],
      "include_colab_link": true
    },
    "kernelspec": {
      "name": "python2",
      "display_name": "Python 2"
    }
  },
  "cells": [
    {
      "cell_type": "markdown",
      "metadata": {
        "id": "view-in-github",
        "colab_type": "text"
      },
      "source": [
        "[View in Colaboratory](https://colab.research.google.com/github/pamsfwang/perceptual_learning/blob/master/xor_stimuli.ipynb)"
      ]
    },
    {
      "metadata": {
        "id": "vywyQdQUVjtR",
        "colab_type": "code",
        "colab": {}
      },
      "cell_type": "code",
      "source": [
        "import tensorflow as tf\n",
        "import numpy\n",
        "import os\n",
        "import pandas as pd\n",
        "import matplotlib.pyplot as plt\n"
      ],
      "execution_count": 0,
      "outputs": []
    },
    {
      "metadata": {
        "id": "78snJY1vVk-b",
        "colab_type": "code",
        "colab": {
          "base_uri": "https://localhost:8080/",
          "height": 306
        },
        "outputId": "cb75ff76-d5ed-469e-af1b-7eae59206f13"
      },
      "cell_type": "code",
      "source": [
        "#Mount Google drive on Colab\n",
        "#step01\n",
        "!apt-get install -y -qq software-properties-common python-software-properties module-init-tools\n",
        "!add-apt-repository -y ppa:alessandro-strada/ppa 2>&1 > /dev/null\n",
        "!apt-get update -qq 2>&1 > /dev/null\n",
        "!apt-get -y install -qq google-drive-ocamlfuse fuse\n",
        "\n",
        "\n",
        "from google.colab import auth\n",
        "auth.authenticate_user()\n",
        "\n",
        "from oauth2client.client import GoogleCredentials\n",
        "creds = GoogleCredentials.get_application_default()\n",
        "\n",
        "import getpass\n",
        "!google-drive-ocamlfuse -headless -id={creds.client_id} -secret={creds.client_secret} < /dev/null 2>&1 | grep URL\n",
        "vcode = getpass.getpass()\n",
        "!echo {vcode} | google-drive-ocamlfuse -headless -id={creds.client_id} -secret={creds.client_secret}\n",
        "#step02: code for mounting google drive on Linux\n",
        "!mkdir -p drive\n",
        "!google-drive-ocamlfuse drive\n",
        "\n",
        "#step03: change directory to the google drive folder for the project\n",
        "os.getcwd()\n",
        "!ls\n",
        "os.chdir('./drive/Colab_files')\n",
        "os.getcwd()\n",
        "!ls"
      ],
      "execution_count": 6,
      "outputs": [
        {
          "output_type": "stream",
          "text": [
            "gpg: keybox '/tmp/tmpr2kzsf1t/pubring.gpg' created\n",
            "gpg: /tmp/tmpr2kzsf1t/trustdb.gpg: trustdb created\n",
            "gpg: key AD5F235DF639B041: public key \"Launchpad PPA for Alessandro Strada\" imported\n",
            "gpg: Total number processed: 1\n",
            "gpg:               imported: 1\n",
            "Warning: apt-key output should not be parsed (stdout is not a terminal)\n",
            "··········\n",
            "drive\t\t\t     notebooks\n",
            "jfj_stimuli_param.csv\t     stimuli_param_uniqueF3.csv\n",
            "jfj_stimuli_param_test.csv   stimuli_param_uniqueF3_test_new.csv\n",
            "jfj_stimuli_param_train.csv  stimuli_param_uniqueF3_train_new.csv\n",
            "models\n",
            "drive\t\t\t     notebooks\n",
            "jfj_stimuli_param.csv\t     stimuli_param_uniqueF3.csv\n",
            "jfj_stimuli_param_test.csv   stimuli_param_uniqueF3_test_new.csv\n",
            "jfj_stimuli_param_train.csv  stimuli_param_uniqueF3_train_new.csv\n",
            "models\n"
          ],
          "name": "stdout"
        }
      ]
    },
    {
      "metadata": {
        "id": "1KNTEbVpl_Kd",
        "colab_type": "code",
        "colab": {}
      },
      "cell_type": "code",
      "source": [
        "#specify variables\n",
        "train_data = 'stimuli_param_uniqueF3_train_new.csv' #'jfj_stimuli_param_train.csv'\n",
        "test_data = 'jfj_stimuli_param_test.csv'\n",
        "\n",
        "num_features = 3\n",
        "node_hidden01 = 10\n",
        "learning_rate = 0.005"
      ],
      "execution_count": 0,
      "outputs": []
    },
    {
      "metadata": {
        "id": "xqZqjlYyVveh",
        "colab_type": "code",
        "colab": {
          "base_uri": "https://localhost:8080/",
          "height": 170
        },
        "outputId": "d2b2960c-ddc8-4663-f3d7-82d4b65e5dde"
      },
      "cell_type": "code",
      "source": [
        "#load data\n",
        "df=pd.read_csv(train_data, sep=',',header=None)\n",
        "df.shape\n",
        "nsamples =df.shape[0]\n",
        "print \"number of training samples:\",nsamples\n",
        "\n",
        "#shuffle the data\n",
        "df_array = df.values\n",
        "new = numpy.take(df_array,numpy.random.permutation(df_array.shape[0]),axis=0,out=df_array);\n",
        "\n",
        "##separate data into features and labels (numpy.array)\n",
        "temp = new[:,0:3] #df.iloc[:,0:num_features]\n",
        "x_data = temp #temp.values\n",
        "print \"dimension of feature dataset:\",x_data.shape\n",
        "print(x_data[0:5,:])\n",
        "\n",
        "temp = new[:,3]#df.iloc[:,num_features]\n",
        "y_data = temp #temp.values\n",
        "print \"dimension of category dataset:\",y_data.shape\n",
        "print(y_data[0:5])"
      ],
      "execution_count": 8,
      "outputs": [
        {
          "output_type": "stream",
          "text": [
            "number of training samples: 52\n",
            "dimension of feature dataset: (52, 3)\n",
            "[[2.  2.  5.6]\n",
            " [3.  1.  6. ]\n",
            " [4.  2.  0.9]\n",
            " [3.  4.  0.6]\n",
            " [4.  4.  3.5]]\n",
            "dimension of category dataset: (52,)\n",
            "[1. 1. 1. 1. 0.]\n"
          ],
          "name": "stdout"
        }
      ]
    },
    {
      "metadata": {
        "id": "8yq5h2T4hT26",
        "colab_type": "code",
        "colab": {
          "base_uri": "https://localhost:8080/",
          "height": 225
        },
        "outputId": "64185dc7-93c0-4abc-a689-dc95232f026b"
      },
      "cell_type": "code",
      "source": [
        "#load test data\n",
        "df=pd.read_csv(test_data, sep=',',header=None)\n",
        "df.shape\n",
        "print \"number of test samples:\",df.shape[0]\n",
        "\n",
        "##separate data into features and labels (numpy.array)\n",
        "temp = df.iloc[:,0:num_features]\n",
        "test_x_data = temp.values\n",
        "print \"dimension of feature dataset:\",test_x_data.shape\n",
        "print(test_x_data)\n",
        "\n",
        "temp = df.iloc[:,num_features]\n",
        "test_y_data = temp.values\n",
        "print \"dimension of category dataset:\",test_y_data.shape\n",
        "print(test_y_data)"
      ],
      "execution_count": 5,
      "outputs": [
        {
          "output_type": "stream",
          "text": [
            "number of test samples: 8\n",
            "dimension of feature dataset: (8, 3)\n",
            "[[1 1 2]\n",
            " [2 1 2]\n",
            " [3 3 2]\n",
            " [4 3 2]\n",
            " [1 3 2]\n",
            " [2 3 2]\n",
            " [3 1 2]\n",
            " [4 1 2]]\n",
            "dimension of category dataset: (8,)\n",
            "[1 1 1 1 0 0 0 0]\n"
          ],
          "name": "stdout"
        }
      ]
    },
    {
      "metadata": {
        "id": "gpN1pq3UWGT8",
        "colab_type": "code",
        "colab": {}
      },
      "cell_type": "code",
      "source": [
        "##set up network layers\n",
        "#You can think of most the tensorflow variables as actually being functions that we will call when we want to get their value. \n",
        "input_ph = tf.placeholder(tf.float32, shape=[num_features,1]) \n",
        "#This will be the place the input to the network is inserted\n",
        "#shape: number of features\n",
        "\n",
        "target_ph =  tf.placeholder(tf.float32, shape=[1,1]) \n",
        "#This will be the place the target for the network is insertedd\n",
        "#shape = number of node\n",
        "\n",
        "#First layer weights\n",
        "W1 = tf.Variable(tf.random_uniform([node_hidden01,num_features],-1,1)) \n",
        "#first layer: 3 input feautres to 10 nodes in the hidden layer\n",
        "\n",
        "b1 = tf.Variable(tf.random_uniform([node_hidden01,1],-1,1)) # \" \" biases\n",
        "#one bias to the 10 nodes in the hidden layer\n",
        "#[# nodes, # nodes], sampling from a random uniform distribution from -1 to 1 for initial weights\n",
        "\n",
        "#2nd layer\n",
        "W2 = tf.Variable(tf.random_uniform([1,node_hidden01],-1,1)) \n",
        "#second layer: 10 nodes in the first hidden layer to one node in the second\n",
        "b2 = tf.Variable(tf.random_uniform([1],-1,1))\n",
        "\n",
        "\n",
        "#####\n",
        "\n",
        "##construct the network\n",
        "h1 = tf.nn.tanh(tf.matmul(W1,input_ph)+b1)\n",
        "#y = tanh(x1w11+x2w21)\n",
        "#tf.matmul: matrix multiplication\n",
        "\n",
        "output = tf.nn.tanh(tf.matmul(W2,h1)+b2) \n",
        "#This is the actual construction of the network. \n",
        "#When we want to get the output of the network, we will tell tensorflow what to put in the input placeholder, and then we'll run this output function\n",
        "\n",
        "loss = tf.reduce_sum(tf.square(output - target_ph)) \n",
        "#This is the function we're trying to optimize. The reduce_sum is not really necessary since we only have a single output, just using it to flatten the output.\n",
        "\n",
        "optimizer = tf.train.AdamOptimizer(learning_rate) \n",
        "#optimizer = tf.train.GradientDescentOptimizer(learning_rate)\n",
        "#This is a fancy version of momentum based gradient descent optimization.\n",
        "\n",
        "train = optimizer.minimize(loss) \n",
        "#This will be how we tell the network to train on an example\n"
      ],
      "execution_count": 0,
      "outputs": []
    },
    {
      "metadata": {
        "id": "TsesbB7WyIBk",
        "colab_type": "code",
        "colab": {}
      },
      "cell_type": "code",
      "source": [
        "def test():\n",
        "    MSE = 0.0\n",
        "    for i in xrange(len(x_data)):\n",
        "      MSE += sess.run(loss,feed_dict={input_ph: x_data[i].reshape([3,1]),target_ph: y_data[i].reshape([1,1])}) #test on a test data point. feed_dict is how you pass things in to the placeholders created above\n",
        "      MSE /= len(x_data)\n",
        "    return MSE\n",
        "\n",
        "def accuracy():\n",
        "    temp =[] \n",
        "    for i in xrange(len(y_data)):\n",
        "        temp.append(sess.run(output,feed_dict={input_ph: x_data[i].reshape([3,1])}))\n",
        "    return temp\n",
        "    \n",
        "    \n",
        "def hidden():\n",
        "    temp = []\n",
        "    for i in xrange(len(y_data)):\n",
        "        temp.append(sess.run(h1,feed_dict={input_ph: x_data[i].reshape([3,1])}))\n",
        "    return temp"
      ],
      "execution_count": 0,
      "outputs": []
    },
    {
      "metadata": {
        "id": "nHlK5Rt2dwpu",
        "colab_type": "code",
        "colab": {
          "base_uri": "https://localhost:8080/",
          "height": 138
        },
        "outputId": "f3c8f0f2-cc37-465a-8757-6fccaa21714d"
      },
      "cell_type": "code",
      "source": [
        "# Launch the graph -- tell tensorflow to initialize everything.\n",
        "init = tf.global_variables_initializer()\n",
        "sess = tf.Session()\n",
        "sess.run(init) #first argument to sess.run is function to run, here we're running the initialize function\n",
        "\n",
        "# Fit the function\n",
        "print \"Pre training MSE:\", test\n",
        "ac = []\n",
        "hid = []\n",
        "los = []\n",
        "for step in xrange(600):\n",
        "  for item in xrange(nsamples):\n",
        "    sess.run(train,feed_dict={input_ph: x_data[item].reshape([3,1]),target_ph: y_data[item].reshape([1,1])}) \n",
        "  #sess.run(train,feed_dict={input_ph: x_data[step % nsamples].reshape([3,1]),target_ph: y_data[step % nsamples].reshape([1,1])}) \n",
        "  #sess.run(train): this will train the model, update the weights\n",
        "  #Run training on an example\n",
        "  ac.append(accuracy())\n",
        "  hid.append(hidden())\n",
        "  los.append(test())\n",
        "  if step % 100 == 0:\n",
        "    print \"On step %i, test MSE %f\" %(step,test())"
      ],
      "execution_count": 50,
      "outputs": [
        {
          "output_type": "stream",
          "text": [
            "Pre training MSE: <function test at 0x7f553fb25de8>\n",
            "On step 0, test MSE 0.001625\n",
            "On step 100, test MSE 0.000290\n",
            "On step 200, test MSE 0.000077\n",
            "On step 300, test MSE 0.000330\n",
            "On step 400, test MSE 0.000537\n",
            "On step 500, test MSE 0.000617\n"
          ],
          "name": "stdout"
        }
      ]
    },
    {
      "metadata": {
        "id": "7GAP-OA_Znhv",
        "colab_type": "code",
        "colab": {
          "base_uri": "https://localhost:8080/",
          "height": 136
        },
        "outputId": "2d29f7a9-d864-47f3-9513-7054116fad32"
      },
      "cell_type": "code",
      "source": [
        "# Launch the graph -- tell tensorflow to initialize everything.\n",
        "init = tf.global_variables_initializer()\n",
        "sess = tf.Session()\n",
        "sess.run(init) #first argument to sess.run is function to run, here we're running the initialize function\n",
        "\n",
        "# Fit the function\n",
        "print \"Pre training MSE:\", test\n",
        "ac = []\n",
        "hid = []\n",
        "los = []\n",
        "for step in xrange(600):\n",
        "  #load data\n",
        "  df=pd.read_csv(train_data, sep=',',header=None)\n",
        "  df.shape\n",
        "  nsamples =df.shape[0]\n",
        "  #print \"number of training samples:\",nsamples\n",
        "\n",
        "#shuffle the data\n",
        "  df_array = df.values\n",
        "  new = numpy.take(df_array,numpy.random.permutation(df_array.shape[0]),axis=0,out=df_array);\n",
        "\n",
        "##separate data into features and labels (numpy.array)\n",
        "  temp = new[:,0:3] #df.iloc[:,0:num_features]\n",
        "  x_data = temp #temp.values\n",
        "  #print \"dimension of feature dataset:\",x_data.shape\n",
        "  #print(x_data[0:5,:])\n",
        "\n",
        "  temp = new[:,3]#df.iloc[:,num_features]\n",
        "  y_data = temp #temp.values\n",
        "  #print \"dimension of category dataset:\",y_data.shape\n",
        "  #print(y_data[0:5])\n",
        "  for item in xrange(nsamples):\n",
        "    sess.run(train,feed_dict={input_ph: x_data[item].reshape([3,1]),target_ph: y_data[item].reshape([1,1])}) \n",
        "  #sess.run(train,feed_dict={input_ph: x_data[step % nsamples].reshape([3,1]),target_ph: y_data[step % nsamples].reshape([1,1])}) \n",
        "  #sess.run(train): this will train the model, update the weights\n",
        "  #Run training on an example\n",
        "  ac.append(accuracy())\n",
        "  hid.append(hidden())\n",
        "  los.append(test())\n",
        "  if step % 100 == 0:\n",
        "    print \"On step %i, test MSE %f\" %(step,test())"
      ],
      "execution_count": 11,
      "outputs": [
        {
          "output_type": "stream",
          "text": [
            "Pre training MSE: <function test at 0x7faa1eb76e60>\n",
            "On step 0, test MSE 0.017321\n",
            "On step 100, test MSE 0.013435\n",
            "On step 200, test MSE 0.000075\n",
            "On step 300, test MSE 0.015539\n",
            "On step 400, test MSE 0.002791\n",
            "On step 500, test MSE 0.003177\n"
          ],
          "name": "stdout"
        }
      ]
    },
    {
      "metadata": {
        "id": "SHiOQFuVnbGN",
        "colab_type": "code",
        "colab": {
          "base_uri": "https://localhost:8080/",
          "height": 408
        },
        "outputId": "b117a087-2c07-4c13-ddc5-ab151c559c01"
      },
      "cell_type": "code",
      "source": [
        "print \"Post training MSE:\", test()\n",
        "print \"Final weights:\"\n",
        "print(sess.run(W1),sess.run(b1),sess.run(W2),sess.run(b2))"
      ],
      "execution_count": 126,
      "outputs": [
        {
          "output_type": "stream",
          "text": [
            "Post training MSE: 0.13177053570775876\n",
            "Final weights:\n",
            "(array([[ 0.7016026 , -0.03033957, -0.26086634],\n",
            "       [ 0.14339526, -0.10746002,  0.86499155],\n",
            "       [-0.14973772, -0.90761995, -0.8750194 ],\n",
            "       [ 0.4354229 , -0.8176687 ,  0.23192316],\n",
            "       [-0.74734926,  0.88902557,  0.78700894],\n",
            "       [ 0.29869676, -0.09802695, -0.34224373],\n",
            "       [-0.34164175,  0.52325284, -0.10620359],\n",
            "       [-0.62933785, -0.3601412 , -0.54883593],\n",
            "       [ 0.2538979 ,  0.33679903, -0.9078351 ],\n",
            "       [ 0.54651475,  0.07381378, -0.8623    ]], dtype=float32), array([[-0.19767748],\n",
            "       [-0.46484253],\n",
            "       [ 0.23163249],\n",
            "       [-0.28712332],\n",
            "       [ 0.52803785],\n",
            "       [ 0.13009338],\n",
            "       [ 0.09916187],\n",
            "       [ 0.53665316],\n",
            "       [-0.81137866],\n",
            "       [ 0.27419546]], dtype=float32), array([[ 0.6003904 ,  0.84969586,  0.13887157, -0.00179676, -0.6155734 ,\n",
            "         0.34333754,  0.9029652 , -0.80969495, -0.79569644,  0.1186625 ]],\n",
            "      dtype=float32), array([-0.29324967], dtype=float32))\n"
          ],
          "name": "stdout"
        }
      ]
    },
    {
      "metadata": {
        "id": "anAlvAn1d1SU",
        "colab_type": "code",
        "colab": {
          "base_uri": "https://localhost:8080/",
          "height": 721
        },
        "outputId": "4933c042-08af-47d8-ce84-462dec8b5e3e"
      },
      "cell_type": "code",
      "source": [
        "#fig, axes = plt.subplots(2, sharex=True, figsize=(18, 9))\n",
        "#fig.suptitle('Training Metrics')\n",
        "\n",
        "#axes[0].set_ylabel(\"Loss\", fontsize=20)\n",
        "#axes[0].set_xlabel(\"epoch\", fontsize = 20)\n",
        "#axes[0].plot(los)\n",
        "\n",
        "#axes[1].set_ylabel(\"Accuracy\", fontsize=14)\n",
        "#axes[1].set_xlabel(\"Epoch\", fontsize=14)\n",
        "#axes[1].plot(ac)\n",
        "#plt.show()\n",
        "\n",
        "\n",
        "plt.plot(los)\n",
        "plt.ylabel('Loss', fontsize = 20)\n",
        "plt.xlabel('Epoch',fontsize = 20)\n",
        "plt.title('Training loss', fontsize = 20)\n",
        "plt.show()\n",
        "\n",
        "plt.imshow(hid[1][2],cmap=plt.cm.BuPu_r)\n",
        "plt.colorbar\n",
        "plt.show()"
      ],
      "execution_count": 12,
      "outputs": [
        {
          "output_type": "display_data",
          "data": {
            "image/png": "[encoded data removed]",
            "text/plain": [
              "<matplotlib.figure.Figure at 0x7faa213f7b50>"
            ]
          },
          "metadata": {
            "tags": []
          }
        },
        {
          "output_type": "display_data",
          "data": {
            "image/png": "[encoded data removed]",
            "text/plain": [
              "<matplotlib.figure.Figure at 0x7faa1ebb5750>"
            ]
          },
          "metadata": {
            "tags": []
          }
        }
      ]
    },
    {
      "metadata": {
        "id": "hzUWGuvLjgNj",
        "colab_type": "code",
        "colab": {
          "base_uri": "https://localhost:8080/",
          "height": 102
        },
        "outputId": "7dbae17e-1009-4abe-9bf9-dfdb54db1646"
      },
      "cell_type": "code",
      "source": [
        "hid[1][2]\n",
        "#len(hid[1])\n"
      ],
      "execution_count": 86,
      "outputs": [
        {
          "output_type": "execute_result",
          "data": {
            "text/plain": [
              "array([[ 0.99816144],\n",
              "       [-0.98506594],\n",
              "       [-0.98735666],\n",
              "       [ 0.97025913],\n",
              "       [-0.02666092]], dtype=float32)"
            ]
          },
          "metadata": {
            "tags": []
          },
          "execution_count": 86
        }
      ]
    },
    {
      "metadata": {
        "id": "G6VMqaOySMfU",
        "colab_type": "code",
        "colab": {
          "base_uri": "https://localhost:8080/",
          "height": 34
        },
        "outputId": "97b25070-d237-4953-9529-907c1f126e48"
      },
      "cell_type": "code",
      "source": [
        "a = numpy.array([3, 5,7,6])\n",
        "print(a[1:2])\n",
        "  "
      ],
      "execution_count": 177,
      "outputs": [
        {
          "output_type": "stream",
          "text": [
            "[5]\n"
          ],
          "name": "stdout"
        }
      ]
    }
  ]
}