{
  "nbformat": 4,
  "nbformat_minor": 0,
  "metadata": {
    "colab": {
      "name": "Untitled1.ipynb",
      "version": "0.3.2",
      "provenance": [],
      "include_colab_link": true
    },
    "kernelspec": {
      "name": "python2",
      "display_name": "Python 2"
    }
  },
  "cells": [
    {
      "cell_type": "markdown",
      "metadata": {
        "id": "view-in-github",
        "colab_type": "text"
      },
      "source": [
        "[View in Colaboratory](https://colab.research.google.com/github/pamsfwang/perceptual_learning/blob/master/stimuli_neural_model.ipynb)"
      ]
    },
    {
      "metadata": {
        "id": "vywyQdQUVjtR",
        "colab_type": "code",
        "colab": {}
      },
      "cell_type": "code",
      "source": [
        "import tensorflow as tf\n",
        "import numpy\n",
        "import os\n",
        "import pandas as pd\n",
        "import matplotlib.pyplot as plt\n"
      ],
      "execution_count": 0,
      "outputs": []
    },
    {
      "metadata": {
        "id": "78snJY1vVk-b",
        "colab_type": "code",
        "colab": {
          "base_uri": "https://localhost:8080/",
          "height": 207
        },
        "outputId": "03384796-ead1-4325-9da4-f323f1bc6e3e"
      },
      "cell_type": "code",
      "source": [
        "#Mount Google drive on Colab\n",
        "#step01\n",
        "!apt-get install -y -qq software-properties-common python-software-properties module-init-tools\n",
        "!add-apt-repository -y ppa:alessandro-strada/ppa 2>&1 > /dev/null\n",
        "!apt-get update -qq 2>&1 > /dev/null\n",
        "!apt-get -y install -qq google-drive-ocamlfuse fuse\n",
        "\n",
        "\n",
        "from google.colab import auth\n",
        "auth.authenticate_user()\n",
        "\n",
        "from oauth2client.client import GoogleCredentials\n",
        "creds = GoogleCredentials.get_application_default()\n",
        "\n",
        "import getpass\n",
        "!google-drive-ocamlfuse -headless -id={creds.client_id} -secret={creds.client_secret} < /dev/null 2>&1 | grep URL\n",
        "vcode = getpass.getpass()\n",
        "!echo {vcode} | google-drive-ocamlfuse -headless -id={creds.client_id} -secret={creds.client_secret}\n",
        "#step02: code for mounting google drive on Linux\n",
        "!mkdir -p drive\n",
        "!google-drive-ocamlfuse drive\n",
        "\n",
        "#step03: change directory to the google drive folder for the project\n",
        "os.getcwd()\n",
        "!ls\n",
        "os.chdir('./drive/Colab_files')\n",
        "os.getcwd()\n",
        "!ls"
      ],
      "execution_count": 3,
      "outputs": [
        {
          "output_type": "stream",
          "text": [
            "Please, open the following URL in a web browser: https://accounts.google.com/o/oauth2/auth?client_id=32555940559.apps.googleusercontent.com&redirect_uri=urn%3Aietf%3Awg%3Aoauth%3A2.0%3Aoob&scope=https%3A%2F%2Fwww.googleapis.com%2Fauth%2Fdrive&response_type=code&access_type=offline&approval_prompt=force\r\n",
            "··········\n",
            "Please, open the following URL in a web browser: https://accounts.google.com/o/oauth2/auth?client_id=32555940559.apps.googleusercontent.com&redirect_uri=urn%3Aietf%3Awg%3Aoauth%3A2.0%3Aoob&scope=https%3A%2F%2Fwww.googleapis.com%2Fauth%2Fdrive&response_type=code&access_type=offline&approval_prompt=force\n",
            "Please enter the verification code: Access token retrieved correctly.\n",
            "datalab  drive\n",
            "drive\t\t\t     notebooks\n",
            "jfj_stimuli_param.csv\t     stimuli_param_uniqueF3.csv\n",
            "jfj_stimuli_param_test.csv   stimuli_param_uniqueF3_test_new.csv\n",
            "jfj_stimuli_param_train.csv  stimuli_param_uniqueF3_train_new.csv\n",
            "models\n"
          ],
          "name": "stdout"
        }
      ]
    },
    {
      "metadata": {
        "id": "xqZqjlYyVveh",
        "colab_type": "code",
        "colab": {
          "base_uri": "https://localhost:8080/",
          "height": 170
        },
        "outputId": "39022f29-c668-4ba7-bc59-6b28b4f062f2"
      },
      "cell_type": "code",
      "source": [
        "#load data\n",
        "df=pd.read_csv('stimuli_param_uniqueF3_train_new.csv', sep=',',header=None)\n",
        "df.shape\n",
        "nsamples =df.shape[0]\n",
        "print \"number of samples:\",nsamples\n",
        "\n",
        "##separate data into features and labels (numpy.array)\n",
        "temp = df.iloc[:,0:3]\n",
        "x_data = temp.values\n",
        "print \"dimension of feature dataset:\",x_data.shape\n",
        "print(x_data[0:5,:])\n",
        "\n",
        "temp = df.iloc[:,3]\n",
        "y_data = temp.values\n",
        "print \"dimension of category dataset:\",y_data.shape\n",
        "print(y_data[0:5])"
      ],
      "execution_count": 79,
      "outputs": [
        {
          "output_type": "stream",
          "text": [
            "number of samples: 52\n",
            "dimension of feature dataset: (52, 3)\n",
            "[[1.  1.  2.2]\n",
            " [1.  1.  2.5]\n",
            " [1.  2.  5. ]\n",
            " [1.  2.  0.3]\n",
            " [1.  3.  3.1]]\n",
            "dimension of category dataset: (52,)\n",
            "[1 1 1 1 1]\n"
          ],
          "name": "stdout"
        }
      ]
    },
    {
      "metadata": {
        "id": "gpN1pq3UWGT8",
        "colab_type": "code",
        "colab": {}
      },
      "cell_type": "code",
      "source": [
        "#You can think of most the tensorflow variables as actually being functions that we will call when we want to get their value. \n",
        "input_ph = tf.placeholder(tf.float32, shape=[3,1]) #This will be the place the input to the network is inserted\n",
        "target_ph =  tf.placeholder(tf.float32, shape=[1,1]) #This will be the place the target for the network is insertedd\n",
        "W1 = tf.Variable(tf.random_uniform([10,3],-1,1)) #First layer weights\n",
        "b1 = tf.Variable(tf.random_uniform([10,1],-1,1)) # \" \" biases\n",
        "#[# nodes, # nodes], sampling from a random uniform distribution from -1 to 1 for initial weights\n",
        "W2 = tf.Variable(tf.random_uniform([1,10],-1,1)) #2nd layer\n",
        "b2 = tf.Variable(tf.random_uniform([1],-1,1))\n",
        "h1 = tf.nn.tanh(tf.matmul(W1,input_ph)+b1)\n",
        "output = tf.nn.tanh(tf.matmul(W2,h1)+b2) #This is the actual construction of the network. When we want to get the output of the network, we will tell tensorflow what to put in the input placeholder, and then we'll run this output function\n",
        "\n",
        "loss = tf.reduce_sum(tf.square(output - target_ph)) #This is the function we're trying to optimize. The reduce_sum is not really necessary since we only have a single output, just using it to flatten the output.\n",
        "optimizer = tf.train.AdamOptimizer(0.005) #This is a fancy version of momentum based gradient descent optimization.\n",
        "train = optimizer.minimize(loss) #This will be how we tell the network to train on an example\n"
      ],
      "execution_count": 0,
      "outputs": []
    },
    {
      "metadata": {
        "id": "iH4LASpIYKHN",
        "colab_type": "code",
        "colab": {}
      },
      "cell_type": "code",
      "source": [
        "# Launch the graph -- tell tensorflow to initialize everything.\n",
        "init = tf.global_variables_initializer()\n",
        "sess = tf.Session()\n",
        "sess.run(init) #first argument to sess.run is function to run, here we're running the initialize function\n"
      ],
      "execution_count": 0,
      "outputs": []
    },
    {
      "metadata": {
        "id": "mfkdcnOPdsrN",
        "colab_type": "code",
        "colab": {}
      },
      "cell_type": "code",
      "source": [
        "def test():\n",
        "    MSE = 0.0\n",
        "    for i in xrange(len(x_data)):\n",
        "      MSE += sess.run(loss,feed_dict={input_ph: x_data[i].reshape([3,1]),target_ph: y_data[i].reshape([1,1])}) #test on a test data point. feed_dict is how you pass things in to the placeholders created above\n",
        "      MSE /= 4\n",
        "    return MSE\n",
        "\n",
        "def accuracy():\n",
        "    ac = []\n",
        "    for i in xrange(len(test_y_data)):\n",
        "        ac[i]=sess.run(output,feed_dict={input_ph: test_x_data[i].reshape([3,1])})\n",
        "    return ac\n",
        "    \n",
        "    \n",
        "def hidden():\n",
        "    hidden = []\n",
        "    for i in xrange(len(test_y_data)):\n",
        "        hidden[i]=sess.run(h1,feed_dict={input_ph: test_x_data[i].reshape([3,1])})\n",
        "    return hidden"
      ],
      "execution_count": 0,
      "outputs": []
    },
    {
      "metadata": {
        "id": "nHlK5Rt2dwpu",
        "colab_type": "code",
        "colab": {
          "base_uri": "https://localhost:8080/",
          "height": 595
        },
        "outputId": "5a50a433-2ee3-4e62-e9e4-5884e5d5b900"
      },
      "cell_type": "code",
      "source": [
        "# Fit the function\n",
        "print \"Pre training MSE:\", test\n",
        "hi = []\n",
        "for step in xrange(1000):\n",
        "    sess.run(train,feed_dict={input_ph: x_data[step % nsamples].reshape([3,1]),target_ph: y_data[step % nsamples].reshape([1,1])}) \n",
        "    #Run training on an example\n",
        "    #hi.append(hidden())\n",
        "    if step % 100 == 0:\n",
        "\tprint \"On step %i, test MSE %f\" %(step,test())\n",
        "\n",
        "print \"Post training MSE:\", test()\n",
        "\n",
        "print \"Final weights:\"\n",
        "print(sess.run(W1),sess.run(b1),sess.run(W2),sess.run(b2))"
      ],
      "execution_count": 70,
      "outputs": [
        {
          "output_type": "stream",
          "text": [
            "Pre training MSE: <function test at 0x7f46ff8ad5f0>\n",
            "On step 0, test MSE 0.328831\n",
            "On step 100, test MSE 0.317843\n",
            "On step 200, test MSE 0.109187\n",
            "On step 300, test MSE 0.126465\n",
            "On step 400, test MSE 0.150746\n",
            "On step 500, test MSE 0.149150\n",
            "On step 600, test MSE 0.132538\n",
            "On step 700, test MSE 0.086550\n",
            "On step 800, test MSE 0.045726\n",
            "On step 900, test MSE 0.016989\n",
            "Post training MSE: 0.0050751740077935505\n",
            "Final weights:\n",
            "(array([[-0.82126236, -1.0974077 , -0.72742885],\n",
            "       [-0.5102594 ,  0.86615705,  0.56041175],\n",
            "       [-0.58490086, -1.1651294 ,  0.21690042],\n",
            "       [ 0.04502507, -1.1233195 ,  1.0100982 ],\n",
            "       [-0.6560105 ,  0.01175537,  1.0444621 ],\n",
            "       [-0.11602639, -0.27310133, -0.33843368],\n",
            "       [ 0.36227196,  0.18799226, -1.1815559 ],\n",
            "       [-0.5743607 ,  0.40260196,  0.92558235],\n",
            "       [-0.5172754 ,  0.974886  , -0.20048371],\n",
            "       [-0.84515256,  0.79922104, -0.85205144]], dtype=float32), array([[-0.39935228],\n",
            "       [ 0.08716074],\n",
            "       [ 0.46455976],\n",
            "       [ 0.99843484],\n",
            "       [ 0.18724811],\n",
            "       [ 0.736042  ],\n",
            "       [ 0.4328047 ],\n",
            "       [ 0.7741192 ],\n",
            "       [ 0.44469345],\n",
            "       [ 0.9699101 ]], dtype=float32), array([[-0.9972113 , -0.5742026 , -0.19632655,  0.4910845 ,  0.17550935,\n",
            "         0.29031214, -0.29250947, -0.77608687, -0.27280915,  0.83149827]],\n",
            "      dtype=float32), array([0.9110301], dtype=float32))\n"
          ],
          "name": "stdout"
        }
      ]
    },
    {
      "metadata": {
        "id": "anAlvAn1d1SU",
        "colab_type": "code",
        "colab": {}
      },
      "cell_type": "code",
      "source": [
        ""
      ],
      "execution_count": 0,
      "outputs": []
    }
  ]
}