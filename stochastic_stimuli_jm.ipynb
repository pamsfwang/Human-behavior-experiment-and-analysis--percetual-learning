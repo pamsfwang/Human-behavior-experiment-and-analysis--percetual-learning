{
  "nbformat": 4,
  "nbformat_minor": 0,
  "metadata": {
    "colab": {
      "name": "stochastic_stimuli_jm.ipynb",
      "version": "0.3.2",
      "provenance": [],
      "include_colab_link": true
    },
    "kernelspec": {
      "name": "python2",
      "display_name": "Python 2"
    }
  },
  "cells": [
    {
      "cell_type": "markdown",
      "metadata": {
        "id": "view-in-github",
        "colab_type": "text"
      },
      "source": [
        "[View in Colaboratory](https://colab.research.google.com/github/pamsfwang/perceptual_learning/blob/master/stochastic_stimuli_jm.ipynb)"
      ]
    },
    {
      "metadata": {
        "id": "Eyp5tqtN6u4N",
        "colab_type": "text"
      },
      "cell_type": "markdown",
      "source": [
        "**Use neural network to check learning of stimuli parameters - JM design**   \n",
        "Shao-Fang Wang 2018\n",
        "\n",
        "- tensorflow\n",
        "- three features, two categories\n",
        "- 16 training objects in total\n",
        "- one hidden layer, stochastic learning\n"
      ]
    },
    {
      "metadata": {
        "id": "9olKNL9_VPj7",
        "colab_type": "code",
        "colab": {
          "base_uri": "https://localhost:8080/",
          "height": 170
        },
        "outputId": "e542c09f-87a0-447d-de35-54db889972f8"
      },
      "cell_type": "code",
      "source": [
        "!pip install sklearn"
      ],
      "execution_count": 0,
      "outputs": [
        {
          "output_type": "stream",
          "text": [
            "Collecting sklearn\n",
            "  Downloading https://files.pythonhosted.org/packages/1e/7a/dbb3be0ce9bd5c8b7e3d87328e79063f8b263b2b1bfa4774cb1147bfcd3f/sklearn-0.0.tar.gz\n",
            "Requirement already satisfied: scikit-learn in /usr/local/lib/python2.7/dist-packages (from sklearn) (0.19.2)\n",
            "Building wheels for collected packages: sklearn\n",
            "  Running setup.py bdist_wheel for sklearn ... \u001b[?25l-\b \bdone\n",
            "\u001b[?25h  Stored in directory: /content/.cache/pip/wheels/76/03/bb/589d421d27431bcd2c6da284d5f2286c8e3b2ea3cf1594c074\n",
            "Successfully built sklearn\n",
            "Installing collected packages: sklearn\n",
            "Successfully installed sklearn-0.0\n"
          ],
          "name": "stdout"
        }
      ]
    },
    {
      "metadata": {
        "id": "vywyQdQUVjtR",
        "colab_type": "code",
        "colab": {}
      },
      "cell_type": "code",
      "source": [
        "import tensorflow as tf\n",
        "import numpy\n",
        "import os\n",
        "import pandas as pd\n",
        "\n",
        "#secondary analysis\n",
        "from sklearn.linear_model import LogisticRegression\n",
        "from sklearn.decomposition import PCA\n",
        "\n",
        "import matplotlib.pyplot as plt"
      ],
      "execution_count": 0,
      "outputs": []
    },
    {
      "metadata": {
        "id": "78snJY1vVk-b",
        "colab_type": "code",
        "colab": {
          "base_uri": "https://localhost:8080/",
          "height": 374
        },
        "outputId": "1ef4758f-3ae2-4d1c-8a53-7c003ffab32a"
      },
      "cell_type": "code",
      "source": [
        "#Mount Google drive on Colab\n",
        "#step01\n",
        "!apt-get install -y -qq software-properties-common python-software-properties module-init-tools\n",
        "!add-apt-repository -y ppa:alessandro-strada/ppa 2>&1 > /dev/null\n",
        "!apt-get update -qq 2>&1 > /dev/null\n",
        "!apt-get -y install -qq google-drive-ocamlfuse fuse\n",
        "\n",
        "\n",
        "from google.colab import auth\n",
        "auth.authenticate_user()\n",
        "\n",
        "from oauth2client.client import GoogleCredentials\n",
        "creds = GoogleCredentials.get_application_default()\n",
        "\n",
        "import getpass\n",
        "!google-drive-ocamlfuse -headless -id={creds.client_id} -secret={creds.client_secret} < /dev/null 2>&1 | grep URL\n",
        "vcode = getpass.getpass()\n",
        "!echo {vcode} | google-drive-ocamlfuse -headless -id={creds.client_id} -secret={creds.client_secret}\n",
        "#step02: code for mounting google drive on Linux\n",
        "!mkdir -p drive\n",
        "!google-drive-ocamlfuse drive\n",
        "\n",
        "#step03: change directory to the google drive folder for the project\n",
        "os.getcwd()\n",
        "!ls\n",
        "os.chdir('./drive/Colab_files')\n",
        "os.getcwd()\n",
        "!ls"
      ],
      "execution_count": 11,
      "outputs": [
        {
          "output_type": "stream",
          "text": [
            "gpg: keybox '/tmp/tmp4em9yfj1/pubring.gpg' created\n",
            "gpg: /tmp/tmp4em9yfj1/trustdb.gpg: trustdb created\n",
            "gpg: key AD5F235DF639B041: public key \"Launchpad PPA for Alessandro Strada\" imported\n",
            "gpg: Total number processed: 1\n",
            "gpg:               imported: 1\n",
            "Warning: apt-key output should not be parsed (stdout is not a terminal)\n",
            "··········\n",
            "drive\t\t\t     models\n",
            "jfj_stimuli_param.csv\t     notebooks\n",
            "jfj_stimuli_param_test.csv   stimuli_param_uniqueF3.csv\n",
            "jfj_stimuli_param_train.csv  stimuli_param_uniqueF3_test_new.csv\n",
            "jm_stimuli_param.csv\t     stimuli_param_uniqueF3_train_new.csv\n",
            "jm_stimuli_param_test.csv    stimuli_param_uniqueF3_train_new.csv.ods\n",
            "jm_stimuli_param_train.csv\n",
            "drive\t\t\t     models\n",
            "jfj_stimuli_param.csv\t     notebooks\n",
            "jfj_stimuli_param_test.csv   stimuli_param_uniqueF3.csv\n",
            "jfj_stimuli_param_train.csv  stimuli_param_uniqueF3_test_new.csv\n",
            "jm_stimuli_param.csv\t     stimuli_param_uniqueF3_train_new.csv\n",
            "jm_stimuli_param_test.csv    stimuli_param_uniqueF3_train_new.csv.ods\n",
            "jm_stimuli_param_train.csv\n"
          ],
          "name": "stdout"
        }
      ]
    },
    {
      "metadata": {
        "id": "1KNTEbVpl_Kd",
        "colab_type": "code",
        "colab": {}
      },
      "cell_type": "code",
      "source": [
        "#specify variables\n",
        "train_data = 'jm_stimuli_param_train.csv' #'stimuli_param_uniqueF3_train_new.csv' \n",
        "test_data = 'jm_stimuli_param_test.csv' #'stimuli_param_uniqueF3_test_new.csv'\n",
        "\n",
        "num_features = 3\n",
        "node_hidden01 = 6\n",
        "epoch = 2000\n",
        "learning_rate = 0.005\n",
        "initial_weight01 = -0.01\n",
        "initial_weight02 = 0.01"
      ],
      "execution_count": 0,
      "outputs": []
    },
    {
      "metadata": {
        "id": "xqZqjlYyVveh",
        "colab_type": "code",
        "colab": {
          "base_uri": "https://localhost:8080/",
          "height": 510
        },
        "outputId": "daacb929-f576-4577-e3e3-9d198cce1da3"
      },
      "cell_type": "code",
      "source": [
        "#load data\n",
        "df=pd.read_csv(train_data, sep=',',header=None)\n",
        "df.shape\n",
        "nsamples =df.shape[0]\n",
        "print \"number of training samples:\",nsamples\n",
        "\n",
        "#shuffle the data\n",
        "df_array = df.values\n",
        "new = numpy.take(df_array,numpy.random.permutation(df_array.shape[0]),axis=0,out=df_array);\n",
        "\n",
        "##separate data into features and labels (numpy.array)\n",
        "temp = new[:,0:num_features] #df.iloc[:,0:num_features]\n",
        "x_data = temp #temp.values\n",
        "print \"dimension of feature dataset:\",x_data.shape\n",
        "print(x_data[0:5,:])\n",
        "\n",
        "temp = new[:,3]#df.iloc[:,num_features]\n",
        "y_data = temp #temp.values\n",
        "print \"dimension of category dataset:\",y_data.shape\n",
        "print(y_data[0:5])\n",
        "\n",
        "\n",
        "#load test data\n",
        "df=pd.read_csv(test_data, sep=',',header=None)\n",
        "df.shape\n",
        "print \"number of test samples:\",df.shape[0]\n",
        "\n",
        "##separate data into features and labels (numpy.array)\n",
        "temp = df.iloc[:,0:num_features]\n",
        "test_x_data = temp.values\n",
        "print \"dimension of feature dataset:\",test_x_data.shape\n",
        "print(test_x_data)\n",
        "\n",
        "temp = df.iloc[:,num_features]\n",
        "test_y_data = temp.values\n",
        "print \"dimension of category dataset:\",test_y_data.shape\n",
        "print(test_y_data)"
      ],
      "execution_count": 16,
      "outputs": [
        {
          "output_type": "stream",
          "text": [
            "number of training samples: 16\n",
            "dimension of feature dataset: (16, 3)\n",
            "[[3 5 2]\n",
            " [2 2 0]\n",
            " [2 0 2]\n",
            " [3 5 0]\n",
            " [3 3 2]]\n",
            "dimension of category dataset: (16,)\n",
            "[0 1 1 0 0]\n",
            "number of test samples: 16\n",
            "dimension of feature dataset: (16, 3)\n",
            "[[2 1 0]\n",
            " [2 1 2]\n",
            " [2 1 3]\n",
            " [2 1 5]\n",
            " [2 0 1]\n",
            " [2 0 4]\n",
            " [2 2 1]\n",
            " [2 2 4]\n",
            " [3 4 0]\n",
            " [3 4 2]\n",
            " [3 4 3]\n",
            " [3 4 5]\n",
            " [3 3 1]\n",
            " [3 3 4]\n",
            " [3 5 1]\n",
            " [3 5 4]]\n",
            "dimension of category dataset: (16,)\n",
            "[1 1 1 1 1 1 1 1 0 0 0 0 0 0 0 0]\n"
          ],
          "name": "stdout"
        }
      ]
    },
    {
      "metadata": {
        "id": "a8wxhyaBNBjx",
        "colab_type": "code",
        "colab": {
          "base_uri": "https://localhost:8080/",
          "height": 34
        },
        "outputId": "d17a7c98-5990-45ad-9c46-c40833bf4e99"
      },
      "cell_type": "code",
      "source": [
        "y_data"
      ],
      "execution_count": 17,
      "outputs": [
        {
          "output_type": "execute_result",
          "data": {
            "text/plain": [
              "array([0, 1, 1, 0, 0, 1, 1, 0, 1, 0, 0, 1, 0, 1, 1, 0])"
            ]
          },
          "metadata": {
            "tags": []
          },
          "execution_count": 17
        }
      ]
    },
    {
      "metadata": {
        "id": "3qdf-WKN8cA3",
        "colab_type": "code",
        "colab": {
          "base_uri": "https://localhost:8080/",
          "height": 51
        },
        "outputId": "9eb814de-0321-483d-9e4b-30dc4fcb3cc9"
      },
      "cell_type": "code",
      "source": [
        "#logistic regression\n",
        "logisticRegr = LogisticRegression()\n",
        "logisticRegr.fit(x_data, y_data)\n",
        "predictions = logisticRegr.predict(test_x_data)\n",
        "\n",
        "acc = []\n",
        "temp = predictions+test_y_data\n",
        "for ii in xrange(len(temp)):\n",
        "  if temp[ii] ==2 or temp[ii]==0:\n",
        "    acc.append(1)\n",
        "  else:\n",
        "    acc.append(0)\n",
        "    \n",
        "accuracy_per = float(sum(acc))/float(len(acc))\n",
        "print(\"calculate accuracy :\" + repr(accuracy_per))\n",
        "#print(len(acc))\n",
        "#print(acc)\n",
        "score = logisticRegr.score(test_x_data, test_y_data)\n",
        "print(score)\n",
        "\n"
      ],
      "execution_count": 18,
      "outputs": [
        {
          "output_type": "stream",
          "text": [
            "calculate accuracy :0.9375\n",
            "0.9375\n"
          ],
          "name": "stdout"
        }
      ]
    },
    {
      "metadata": {
        "id": "gpN1pq3UWGT8",
        "colab_type": "code",
        "colab": {}
      },
      "cell_type": "code",
      "source": [
        "##set up network layers\n",
        "#You can think of most the tensorflow variables as actually being functions that we will call when we want to get their value. \n",
        "input_ph = tf.placeholder(tf.float32, shape=[num_features,1]) \n",
        "#This will be the place the input to the network is inserted\n",
        "#shape: number of features\n",
        "\n",
        "target_ph =  tf.placeholder(tf.float32, shape=[1,1]) \n",
        "#This will be the place the target for the network is insertedd\n",
        "#shape = number of node\n",
        "\n",
        "#First layer weights\n",
        "W1 = tf.Variable(tf.random_uniform([node_hidden01,num_features],initial_weight01,initial_weight02)) \n",
        "#first layer: 3 input feautres to 10 nodes in the hidden layer\n",
        "\n",
        "b1 = tf.Variable(tf.random_uniform([node_hidden01,1],initial_weight01,initial_weight02)) # \" \" biases\n",
        "#one bias to the 10 nodes in the hidden layer\n",
        "#[# nodes, # nodes], sampling from a random uniform distribution from -1 to 1 for initial weights\n",
        "\n",
        "#2nd layer\n",
        "W2 = tf.Variable(tf.random_uniform([1,node_hidden01],initial_weight01,initial_weight02)) \n",
        "#second layer: 10 nodes in the first hidden layer to one node in the second\n",
        "b2 = tf.Variable(tf.random_uniform([1],initial_weight01,initial_weight02))\n",
        "\n",
        "\n",
        "#####\n",
        "\n",
        "##construct the network\n",
        "h1 = tf.nn.tanh(tf.matmul(W1,input_ph)+b1)\n",
        "#y = tanh(x1w11+x2w21)\n",
        "#tf.matmul: matrix multiplication\n",
        "\n",
        "output = tf.nn.sigmoid(tf.matmul(W2,h1)+b2) \n",
        "#This is the actual construction of the network. \n",
        "#When we want to get the output of the network, we will tell tensorflow what to put in the input placeholder, and then we'll run this output function\n",
        "\n",
        "loss = tf.reduce_sum(tf.square(output - target_ph))\n",
        "#This is the function we're trying to optimize. The reduce_sum is not really necessary since we only have a single output, just using it to flatten the output.\n",
        "\n",
        "#optimizer = tf.train.AdamOptimizer(learning_rate) \n",
        "optimizer = tf.train.AdamOptimizer(learning_rate)\n",
        "#This is a fancy version of momentum based gradient descent optimization.\n",
        "\n",
        "train = optimizer.minimize(loss) \n",
        "#This will be how we tell the network to train on an example\n"
      ],
      "execution_count": 0,
      "outputs": []
    },
    {
      "metadata": {
        "id": "TsesbB7WyIBk",
        "colab_type": "code",
        "colab": {}
      },
      "cell_type": "code",
      "source": [
        "#Define functions for calculating loss, accuracy, and hidden layer activity\n",
        "def test():\n",
        "    MSE = 0.0\n",
        "    for i in xrange(len(x_data)):\n",
        "      MSE += sess.run(loss,feed_dict={input_ph: x_data[i].reshape([num_features,1]),target_ph: y_data[i].reshape([1,1])}) #test on a test data point. feed_dict is how you pass things in to the placeholders created above\n",
        "    MSE /= len(x_data)\n",
        "    return MSE\n",
        "\n",
        "def accuracy():\n",
        "    temp =numpy.empty((nsamples,1))\n",
        "    #acc=[]\n",
        "    for i in xrange(len(x_data)):\n",
        "        #temp.append(sess.run(output,feed_dict={input_ph: x_data[i].reshape([num_features,1])}))\n",
        "        result = sess.run(output,feed_dict={input_ph: x_data[i].reshape([num_features,1])})\n",
        "        temp[i,:] = result\n",
        "        #temp= numpy.append(temp,[result],axis=0)\n",
        "    return temp\n",
        "    \n",
        "def hidden():\n",
        "    temp = numpy.empty((nsamples,node_hidden01))\n",
        "    for i in xrange(len(y_data)):\n",
        "        #temp.append(sess.run(h1,feed_dict={input_ph: x_data[i].reshape([num_features,1])}))\n",
        "        result = sess.run(h1,feed_dict={input_ph: x_data[i].reshape([num_features,1])})\n",
        "        temp[i,:]=numpy.transpose(result)\n",
        "    return temp"
      ],
      "execution_count": 0,
      "outputs": []
    },
    {
      "metadata": {
        "id": "7GAP-OA_Znhv",
        "colab_type": "code",
        "colab": {
          "base_uri": "https://localhost:8080/",
          "height": 391
        },
        "outputId": "01fc7508-4090-4343-9ebf-f503d5115884"
      },
      "cell_type": "code",
      "source": [
        "# Launch the graph -- tell tensorflow to initialize everything.\n",
        "init = tf.global_variables_initializer()\n",
        "sess = tf.Session()\n",
        "sess.run(init) #first argument to sess.run is function to run, here we're running the initialize function\n",
        "\n",
        "# Fit the function\n",
        "print \"Pre training MSE:\", test()\n",
        "ac = numpy.empty((nsamples,epoch))\n",
        "hid = []#numpy.empty((node_hidden01,nsamples,epoch))\n",
        "los = []\n",
        "new_y = numpy.empty((nsamples,epoch))\n",
        "new_x = numpy.empty((nsamples,num_features,epoch))\n",
        "\n",
        "for step in xrange(epoch):\n",
        "  #load data\n",
        "  df=pd.read_csv(train_data, sep=',',header=None)\n",
        "  #shuffle the data\n",
        "  df_array = df.values\n",
        "  new = numpy.take(df_array,numpy.random.permutation(df_array.shape[0]),axis=0,out=df_array);\n",
        "  #separate data into features and labels (numpy.array)\n",
        "  x_data = new[:,0:num_features] #features\n",
        "  y_data = new[:,3] #labels\n",
        "  \n",
        "  #run the model \n",
        "  for item in xrange(nsamples):\n",
        "    sess.run(train,feed_dict={input_ph: x_data[item].reshape([num_features,1]),target_ph: y_data[item].reshape([1,1])}) \n",
        "  \n",
        "  \n",
        "  #save out results on each iteration\n",
        "  ac[:,step]=numpy.transpose(accuracy())\n",
        "  #ac.append(accuracy())\n",
        "  #hid[:,step]=numpy.transpose(hidden())\n",
        "  hid.append(hidden())\n",
        "  los.append(test())\n",
        "  new_y[:,step] = y_data\n",
        "  new_x[:,:,step] = x_data\n",
        "  \n",
        "  #print out loss\n",
        "  if step % 100 == 0:\n",
        "    print \"On step %i, test MSE %f\" %(step,test())\n",
        "\n",
        "print \"Post training MSE:\", test()"
      ],
      "execution_count": 22,
      "outputs": [
        {
          "output_type": "stream",
          "text": [
            "Pre training MSE: 0.2499931836500764\n",
            "On step 0, test MSE 0.248413\n",
            "On step 100, test MSE 0.003792\n",
            "On step 200, test MSE 0.000529\n",
            "On step 300, test MSE 0.000146\n",
            "On step 400, test MSE 0.000052\n",
            "On step 500, test MSE 0.000020\n",
            "On step 600, test MSE 0.000008\n",
            "On step 700, test MSE 0.000003\n",
            "On step 800, test MSE 0.000001\n",
            "On step 900, test MSE 0.000001\n",
            "On step 1000, test MSE 0.000000\n",
            "On step 1100, test MSE 0.000000\n",
            "On step 1200, test MSE 0.000000\n",
            "On step 1300, test MSE 0.000000\n",
            "On step 1400, test MSE 0.000000\n",
            "On step 1500, test MSE 0.000000\n",
            "On step 1600, test MSE 0.000000\n",
            "On step 1700, test MSE 0.000000\n",
            "On step 1800, test MSE 0.000000\n",
            "On step 1900, test MSE 0.000000\n",
            "Post training MSE: 8.807730629914382e-11\n"
          ],
          "name": "stdout"
        }
      ]
    },
    {
      "metadata": {
        "id": "anAlvAn1d1SU",
        "colab_type": "code",
        "colab": {
          "base_uri": "https://localhost:8080/",
          "height": 391
        },
        "outputId": "d87db995-5150-4fb7-b16a-e42a99de81da"
      },
      "cell_type": "code",
      "source": [
        "plt.plot(los)\n",
        "plt.ylabel('Loss', fontsize = 20)\n",
        "plt.xlabel('Epoch',fontsize = 20)\n",
        "plt.title('Training loss', fontsize = 20)\n",
        "plt.show()\n"
      ],
      "execution_count": 23,
      "outputs": [
        {
          "output_type": "display_data",
          "data": {
            "image/png": "[encoded data removed]",
            "text/plain": [
              "<matplotlib.figure.Figure at 0x7f993e278dd0>"
            ]
          },
          "metadata": {
            "tags": []
          }
        }
      ]
    },
    {
      "metadata": {
        "id": "SHiOQFuVnbGN",
        "colab_type": "code",
        "colab": {
          "base_uri": "https://localhost:8080/",
          "height": 238
        },
        "outputId": "a60492ce-add2-475d-d88a-600309bc22c6"
      },
      "cell_type": "code",
      "source": [
        "print \"Final weights:\"\n",
        "print(sess.run(W1),sess.run(b1),sess.run(W2),sess.run(b2))\n"
      ],
      "execution_count": 24,
      "outputs": [
        {
          "output_type": "stream",
          "text": [
            "Final weights:\n",
            "(array([[ 0.23311731,  0.6716521 , -0.00296011],\n",
            "       [-0.22431968, -0.6687748 ,  0.00296235],\n",
            "       [-0.22850351, -0.6700138 ,  0.0027877 ],\n",
            "       [ 0.24627328,  0.6725504 , -0.00285064],\n",
            "       [ 0.22501785,  0.6709566 , -0.00253835],\n",
            "       [-0.23019628, -0.666499  ,  0.00293434]], dtype=float32), array([[-2.216914 ],\n",
            "       [ 2.1875918],\n",
            "       [ 2.2020135],\n",
            "       [-2.2528024],\n",
            "       [-2.1967497],\n",
            "       [ 2.1969852]], dtype=float32), array([[-4.0375056,  4.2723703,  4.525243 , -4.1176033, -5.163759 ,\n",
            "         4.5543613]], dtype=float32), array([0.73975766], dtype=float32))\n"
          ],
          "name": "stdout"
        }
      ]
    },
    {
      "metadata": {
        "id": "DW_AOw_Z_W2m",
        "colab_type": "code",
        "colab": {
          "base_uri": "https://localhost:8080/",
          "height": 381
        },
        "outputId": "d2b78d06-74c2-4ab7-954b-84aebe26fa44"
      },
      "cell_type": "code",
      "source": [
        "print(\"Dimensions of hidden layer activity mtr: \"+repr(len(hid))+\" \"+ repr(len(hid[0]))+\" \"+repr(len(hid[0][0])))\n",
        "\n",
        "hid_array = numpy.asarray(hid)\n",
        "plt.imshow(numpy.reshape(hid_array[:,1,:],(node_hidden01,epoch)), aspect='auto')"
      ],
      "execution_count": 25,
      "outputs": [
        {
          "output_type": "stream",
          "text": [
            "Dimensions of hidden layer activity mtr: 2000 16 6\n"
          ],
          "name": "stdout"
        },
        {
          "output_type": "execute_result",
          "data": {
            "text/plain": [
              "<matplotlib.image.AxesImage at 0x7f99381fe290>"
            ]
          },
          "metadata": {
            "tags": []
          },
          "execution_count": 25
        },
        {
          "output_type": "display_data",
          "data": {
            "image/png": "[encoded data removed]",
            "text/plain": [
              "<matplotlib.figure.Figure at 0x7f993d3bfe90>"
            ]
          },
          "metadata": {
            "tags": []
          }
        }
      ]
    },
    {
      "metadata": {
        "id": "sIArQEytpL5Z",
        "colab_type": "code",
        "colab": {}
      },
      "cell_type": "code",
      "source": [
        "#Correlations of hidden layer activity across two categories\n",
        "final_co = [];#numpy.empty((0,epoch))\n",
        "mean_hid_zero_activity = numpy.empty((node_hidden01,epoch))\n",
        "mean_hid_one_activity = numpy.empty((node_hidden01,epoch))\n",
        "for step in xrange(epoch):\n",
        "  zero_ind = numpy.asarray(numpy.where(new_y[:,step]==0))\n",
        "  #print(zero_ind)\n",
        "  hid_zero = hid[step][zero_ind]\n",
        "  hid_zeroreshape = numpy.reshape(hid_zero,(nsamples/2,node_hidden01))\n",
        "  meanzero = numpy.mean(hid_zeroreshape,axis=0)\n",
        "  \n",
        "  one_ind = numpy.asarray(numpy.where(new_y[:,step]==1))\n",
        "  #print(one_ind)\n",
        "  hid_one = hid[step][one_ind]\n",
        "  hid_onereshape = numpy.reshape(hid_one,(nsamples/2,node_hidden01))\n",
        "  meanone = numpy.mean(hid_onereshape,axis=0)\n",
        "   \n",
        "  co = numpy.corrcoef(meanzero,meanone)\n",
        "  final_co.append(co[0,1])\n",
        "  \n",
        "  #save mean activity for each epoch\n",
        "  mean_hid_zero_activity[:,step]= meanzero\n",
        "  mean_hid_one_activity[:,step] = meanone\n",
        "  #print(co)\n",
        "#print(final_co)\n",
        "\n"
      ],
      "execution_count": 0,
      "outputs": []
    },
    {
      "metadata": {
        "id": "K86L59GY7QjN",
        "colab_type": "code",
        "colab": {
          "base_uri": "https://localhost:8080/",
          "height": 707
        },
        "outputId": "892840e5-9766-4a5a-e868-263aaca2386a"
      },
      "cell_type": "code",
      "source": [
        "plt.imshow(mean_hid_zero_activity, aspect='auto')\n",
        "plt.title('Mean hidden layer activity for category A for each epoch')\n",
        "plt.grid(False)\n",
        "plt.show()\n",
        "\n",
        "plt.imshow(mean_hid_one_activity, aspect = 'auto')\n",
        "plt.title('Mean hidden layer activity for category B for each epoch')\n",
        "plt.grid(False)\n",
        "plt.show()"
      ],
      "execution_count": 27,
      "outputs": [
        {
          "output_type": "display_data",
          "data": {
            "image/png": "[encoded data removed]",
            "text/plain": [
              "<matplotlib.figure.Figure at 0x7f993821a510>"
            ]
          },
          "metadata": {
            "tags": []
          }
        },
        {
          "output_type": "display_data",
          "data": {
            "image/png": "[encoded data removed]",
            "text/plain": [
              "<matplotlib.figure.Figure at 0x7f993ab3cb10>"
            ]
          },
          "metadata": {
            "tags": []
          }
        }
      ]
    },
    {
      "metadata": {
        "id": "kdMwiEE0otAA",
        "colab_type": "code",
        "colab": {
          "base_uri": "https://localhost:8080/",
          "height": 391
        },
        "outputId": "97b09d89-8288-494f-c0a3-d8e3f6786648"
      },
      "cell_type": "code",
      "source": [
        "f = numpy.asarray(final_co)\n",
        "x_epoch = numpy.asarray(range(1,epoch+1))\n",
        "\n",
        "plt.scatter(x_epoch,f)\n",
        "plt.ylabel('Correlations', fontsize = 20)\n",
        "plt.xlabel('Epoch',fontsize = 20)\n",
        "plt.title('Correlations across two categories', fontsize = 20)\n",
        "plt.rcParams['figure.facecolor'] = '0.00'\n",
        "plt.show()\n",
        "\n"
      ],
      "execution_count": 28,
      "outputs": [
        {
          "output_type": "display_data",
          "data": {
            "image/png": "[encoded data removed]",
            "text/plain": [
              "<matplotlib.figure.Figure at 0x7f993815e2d0>"
            ]
          },
          "metadata": {
            "tags": []
          }
        }
      ]
    },
    {
      "metadata": {
        "id": "SaCNsM4hAu2L",
        "colab_type": "code",
        "colab": {
          "base_uri": "https://localhost:8080/",
          "height": 283
        },
        "outputId": "fd04888f-b520-4573-adde-0c6d0651d84d"
      },
      "cell_type": "code",
      "source": [
        "#PAC analysis\n",
        "pca = PCA(n_components=2)\n",
        "step=1\n",
        "#for step in xrange(epoch):\n",
        "data = numpy.reshape(hid_array[step,:,:],(nsamples,node_hidden01))\n",
        "pca_result = pca.fit(data)\n",
        "print(pca.components_)\n",
        "print(pca.explained_variance_)\n",
        "print(pca_result.shape)\n",
        "plt.scatter(pca_result[:, 0], pca_result[:, 1],\n",
        "            c=digits.target, edgecolor='none', alpha=0.5,\n",
        "            cmap=plt.cm.get_cmap('spectral', 10))\n",
        "plt.xlabel('component 1')\n",
        "plt.ylabel('component 2')\n",
        "plt.colorbar();\n"
      ],
      "execution_count": 0,
      "outputs": [
        {
          "output_type": "stream",
          "text": [
            "[[-0.32378751  0.35078377  0.50431235  0.59607279 -0.03972231  0.40112444]\n",
            " [-0.52818398  0.48294071 -0.09501061 -0.20217387  0.54536101 -0.37479333]]\n",
            "[0.00142184 0.00013177]\n"
          ],
          "name": "stdout"
        },
        {
          "output_type": "error",
          "ename": "AttributeError",
          "evalue": "ignored",
          "traceback": [
            "\u001b[0;31m\u001b[0m",
            "\u001b[0;31mAttributeError\u001b[0mTraceback (most recent call last)",
            "\u001b[0;32m<ipython-input-180-a1d3e976dadf>\u001b[0m in \u001b[0;36m<module>\u001b[0;34m()\u001b[0m\n\u001b[1;32m      6\u001b[0m \u001b[0;32mprint\u001b[0m\u001b[0;34m(\u001b[0m\u001b[0mpca\u001b[0m\u001b[0;34m.\u001b[0m\u001b[0mcomponents_\u001b[0m\u001b[0;34m)\u001b[0m\u001b[0;34m\u001b[0m\u001b[0m\n\u001b[1;32m      7\u001b[0m \u001b[0;32mprint\u001b[0m\u001b[0;34m(\u001b[0m\u001b[0mpca\u001b[0m\u001b[0;34m.\u001b[0m\u001b[0mexplained_variance_\u001b[0m\u001b[0;34m)\u001b[0m\u001b[0;34m\u001b[0m\u001b[0m\n\u001b[0;32m----> 8\u001b[0;31m \u001b[0;32mprint\u001b[0m\u001b[0;34m(\u001b[0m\u001b[0mpca_result\u001b[0m\u001b[0;34m.\u001b[0m\u001b[0mshape\u001b[0m\u001b[0;34m)\u001b[0m\u001b[0;34m\u001b[0m\u001b[0m\n\u001b[0m\u001b[1;32m      9\u001b[0m plt.scatter(pca_result[:, 0], pca_result[:, 1],\n\u001b[1;32m     10\u001b[0m             \u001b[0mc\u001b[0m\u001b[0;34m=\u001b[0m\u001b[0mdigits\u001b[0m\u001b[0;34m.\u001b[0m\u001b[0mtarget\u001b[0m\u001b[0;34m,\u001b[0m \u001b[0medgecolor\u001b[0m\u001b[0;34m=\u001b[0m\u001b[0;34m'none'\u001b[0m\u001b[0;34m,\u001b[0m \u001b[0malpha\u001b[0m\u001b[0;34m=\u001b[0m\u001b[0;36m0.5\u001b[0m\u001b[0;34m,\u001b[0m\u001b[0;34m\u001b[0m\u001b[0m\n",
            "\u001b[0;31mAttributeError\u001b[0m: 'PCA' object has no attribute 'shape'"
          ]
        }
      ]
    },
    {
      "metadata": {
        "id": "_MSBhucdUoze",
        "colab_type": "code",
        "colab": {
          "base_uri": "https://localhost:8080/",
          "height": 34
        },
        "outputId": "db01aa86-e63e-4909-ca2b-a32e84344899"
      },
      "cell_type": "code",
      "source": [
        "pca_array = numpy.asarray(pca)\n",
        "type(pca)\n"
      ],
      "execution_count": 0,
      "outputs": [
        {
          "output_type": "execute_result",
          "data": {
            "text/plain": [
              "sklearn.decomposition.pca.PCA"
            ]
          },
          "metadata": {
            "tags": []
          },
          "execution_count": 186
        }
      ]
    },
    {
      "metadata": {
        "id": "iBla5I4KC7qr",
        "colab_type": "code",
        "colab": {
          "base_uri": "https://localhost:8080/",
          "height": 85
        },
        "outputId": "dbde93a9-60ce-4060-ae90-87e2cc74a6a5"
      },
      "cell_type": "code",
      "source": [
        "#x=pca_learn[new_y[:,0]==0,0]\n",
        "new_y[:,0]==0\n",
        "#x=Y_sklearn[y==name,0]"
      ],
      "execution_count": 0,
      "outputs": [
        {
          "output_type": "execute_result",
          "data": {
            "text/plain": [
              "array([ True,  True, False, False, False,  True,  True, False,  True,\n",
              "       False, False, False, False,  True, False,  True, False,  True,\n",
              "        True,  True,  True, False,  True, False, False,  True,  True,\n",
              "        True, False,  True, False, False])"
            ]
          },
          "metadata": {
            "tags": []
          },
          "execution_count": 148
        }
      ]
    },
    {
      "metadata": {
        "id": "8yq5h2T4hT26",
        "colab_type": "code",
        "colab": {
          "base_uri": "https://localhost:8080/",
          "height": 225
        },
        "outputId": "64185dc7-93c0-4abc-a689-dc95232f026b"
      },
      "cell_type": "code",
      "source": [
        "#load test data\n",
        "df=pd.read_csv(test_data, sep=',',header=None)\n",
        "df.shape\n",
        "print \"number of test samples:\",df.shape[0]\n",
        "\n",
        "##separate data into features and labels (numpy.array)\n",
        "temp = df.iloc[:,0:num_features]\n",
        "test_x_data = temp.values\n",
        "print \"dimension of feature dataset:\",test_x_data.shape\n",
        "print(test_x_data)\n",
        "\n",
        "temp = df.iloc[:,num_features]\n",
        "test_y_data = temp.values\n",
        "print \"dimension of category dataset:\",test_y_data.shape\n",
        "print(test_y_data)"
      ],
      "execution_count": 0,
      "outputs": [
        {
          "output_type": "stream",
          "text": [
            "number of test samples: 8\n",
            "dimension of feature dataset: (8, 3)\n",
            "[[1 1 2]\n",
            " [2 1 2]\n",
            " [3 3 2]\n",
            " [4 3 2]\n",
            " [1 3 2]\n",
            " [2 3 2]\n",
            " [3 1 2]\n",
            " [4 1 2]]\n",
            "dimension of category dataset: (8,)\n",
            "[1 1 1 1 0 0 0 0]\n"
          ],
          "name": "stdout"
        }
      ]
    },
    {
      "metadata": {
        "id": "nHlK5Rt2dwpu",
        "colab_type": "code",
        "colab": {
          "base_uri": "https://localhost:8080/",
          "height": 130
        },
        "outputId": "2696a385-d3d6-4e89-a492-e4d9ccd63952"
      },
      "cell_type": "code",
      "source": [
        "# Launch the graph -- tell tensorflow to initialize everything.\n",
        "init = tf.global_variables_initializer()\n",
        "sess = tf.Session()\n",
        "sess.run(init) #first argument to sess.run is function to run, here we're running the initialize function\n",
        "\n",
        "# Fit the function\n",
        "print \"Pre training MSE:\", test\n",
        "ac = []\n",
        "hid = []\n",
        "los = []\n",
        "for step in xrange(600):\n",
        "  for item in xrange(nsamples):\n",
        "    #sess.run(train,feed_dict={input_ph: x_data[item].reshape([3,1]),target_ph: y_data[item].reshape([1,1])}) \n",
        "  sess.run(train,feed_dict={input_ph: x_data[step % nsamples].reshape([num_features,1]),target_ph: y_data[step % nsamples].reshape([1,1])}) \n",
        "  #sess.run(train): this will train the model, update the weights\n",
        "  #Run training on an example\n",
        "  ac.append(accuracy())\n",
        "  hid.append(hidden())\n",
        "  los.append(test())\n",
        "  if step % 100 == 0:\n",
        "    print \"On step %i, test MSE %f\" %(step,test())"
      ],
      "execution_count": 0,
      "outputs": [
        {
          "output_type": "error",
          "ename": "IndentationError",
          "evalue": "ignored",
          "traceback": [
            "\u001b[0;36m  File \u001b[0;32m\"<ipython-input-33-6896b0994b5b>\"\u001b[0;36m, line \u001b[0;32m13\u001b[0m\n\u001b[0;31m    sess.run(train,feed_dict={input_ph: x_data[step % nsamples].reshape([3,1]),target_ph: y_data[step % nsamples].reshape([1,1])})\u001b[0m\n\u001b[0m       ^\u001b[0m\n\u001b[0;31mIndentationError\u001b[0m\u001b[0;31m:\u001b[0m expected an indented block\n"
          ]
        }
      ]
    }
  ]
}