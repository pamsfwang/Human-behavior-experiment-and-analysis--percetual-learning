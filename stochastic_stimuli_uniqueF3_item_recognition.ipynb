{
  "nbformat": 4,
  "nbformat_minor": 0,
  "metadata": {
    "colab": {
      "name": "stochastic_stimuli_uniqueF3_item_recognition.ipynb",
      "version": "0.3.2",
      "provenance": [],
      "include_colab_link": true
    },
    "kernelspec": {
      "name": "python2",
      "display_name": "Python 2"
    }
  },
  "cells": [
    {
      "cell_type": "markdown",
      "metadata": {
        "id": "view-in-github",
        "colab_type": "text"
      },
      "source": [
        "[View in Colaboratory](https://colab.research.google.com/github/pamsfwang/perceptual_learning/blob/master/stochastic_stimuli_uniqueF3_item_recognition.ipynb)"
      ]
    },
    {
      "metadata": {
        "id": "Eyp5tqtN6u4N",
        "colab_type": "text"
      },
      "cell_type": "markdown",
      "source": [
        "**Use neural network to check learning of stimuli parameters - uniqueF3 design**   \n",
        "Shao-Fang Wang 2018\n",
        "\n",
        "- tensorflow\n",
        "- three features, four levels in each feature, two categories\n",
        "- 52 training objects in total\n",
        "- one hidden layer, stochastic learning\n",
        "\n",
        "Hierarchical dendrogram:\n",
        "https://joernhees.de/blog/2015/08/26/scipy-hierarchical-clustering-and-dendrogram-tutorial/\n",
        "\n"
      ]
    },
    {
      "metadata": {
        "id": "9olKNL9_VPj7",
        "colab_type": "code",
        "colab": {
          "base_uri": "https://localhost:8080/",
          "height": 170
        },
        "outputId": "e542c09f-87a0-447d-de35-54db889972f8"
      },
      "cell_type": "code",
      "source": [
        "!pip install sklearn"
      ],
      "execution_count": 0,
      "outputs": [
        {
          "output_type": "stream",
          "text": [
            "Collecting sklearn\n",
            "  Downloading https://files.pythonhosted.org/packages/1e/7a/dbb3be0ce9bd5c8b7e3d87328e79063f8b263b2b1bfa4774cb1147bfcd3f/sklearn-0.0.tar.gz\n",
            "Requirement already satisfied: scikit-learn in /usr/local/lib/python2.7/dist-packages (from sklearn) (0.19.2)\n",
            "Building wheels for collected packages: sklearn\n",
            "  Running setup.py bdist_wheel for sklearn ... \u001b[?25l-\b \bdone\n",
            "\u001b[?25h  Stored in directory: /content/.cache/pip/wheels/76/03/bb/589d421d27431bcd2c6da284d5f2286c8e3b2ea3cf1594c074\n",
            "Successfully built sklearn\n",
            "Installing collected packages: sklearn\n",
            "Successfully installed sklearn-0.0\n"
          ],
          "name": "stdout"
        }
      ]
    },
    {
      "metadata": {
        "id": "vywyQdQUVjtR",
        "colab_type": "code",
        "colab": {}
      },
      "cell_type": "code",
      "source": [
        "import tensorflow as tf\n",
        "import numpy\n",
        "import os\n",
        "import pandas as pd\n",
        "\n",
        "#secondary analysis\n",
        "from sklearn.linear_model import LogisticRegression\n",
        "from sklearn.decomposition import PCA\n",
        "\n",
        "import matplotlib.pyplot as plt"
      ],
      "execution_count": 0,
      "outputs": []
    },
    {
      "metadata": {
        "id": "78snJY1vVk-b",
        "colab_type": "code",
        "colab": {
          "base_uri": "https://localhost:8080/",
          "height": 466
        },
        "outputId": "3006b0df-c011-48bf-ceec-83d5674adfdf"
      },
      "cell_type": "code",
      "source": [
        "#Mount Google drive on Colab\n",
        "#step01\n",
        "!apt-get install -y -qq software-properties-common python-software-properties module-init-tools\n",
        "!add-apt-repository -y ppa:alessandro-strada/ppa 2>&1 > /dev/null\n",
        "!apt-get update -qq 2>&1 > /dev/null\n",
        "!apt-get -y install -qq google-drive-ocamlfuse fuse\n",
        "\n",
        "\n",
        "from google.colab import auth\n",
        "auth.authenticate_user()\n",
        "\n",
        "from oauth2client.client import GoogleCredentials\n",
        "creds = GoogleCredentials.get_application_default()\n",
        "\n",
        "import getpass\n",
        "!google-drive-ocamlfuse -headless -id={creds.client_id} -secret={creds.client_secret} < /dev/null 2>&1 | grep URL\n",
        "vcode = getpass.getpass()\n",
        "!echo {vcode} | google-drive-ocamlfuse -headless -id={creds.client_id} -secret={creds.client_secret}\n",
        "#step02: code for mounting google drive on Linux\n",
        "!mkdir -p drive\n",
        "!google-drive-ocamlfuse drive\n",
        "\n",
        "#step03: change directory to the google drive folder for the project\n",
        "os.getcwd()\n",
        "!ls\n",
        "os.chdir('./drive/Colab_files')\n",
        "os.getcwd()\n",
        "!ls"
      ],
      "execution_count": 3,
      "outputs": [
        {
          "output_type": "stream",
          "text": [
            "gpg: keybox '/tmp/tmp9sv67fs5/pubring.gpg' created\n",
            "gpg: /tmp/tmp9sv67fs5/trustdb.gpg: trustdb created\n",
            "gpg: key AD5F235DF639B041: public key \"Launchpad PPA for Alessandro Strada\" imported\n",
            "gpg: Total number processed: 1\n",
            "gpg:               imported: 1\n",
            "Warning: apt-key output should not be parsed (stdout is not a terminal)\n",
            "drive\t\t\t\t   stimuli_param_60features_train.csv\n",
            "jfj_stimuli_param.csv\t\t   stimuli_param_uniqueF3.csv\n",
            "jfj_stimuli_param_test.csv\t   stimuli_param_uniqueF3_test.csv\n",
            "jfj_stimuli_param_train.csv\t   stimuli_param_uniqueF3_test_itemiden.csv\n",
            "jm_stimuli_param.csv\t\t   stimuli_param_uniqueF3_test_new.csv\n",
            "jm_stimuli_param_test.csv\t   stimuli_param_uniqueF3_train_itemiden.csv\n",
            "jm_stimuli_param_train.csv\t   stimuli_param_uniqueF3_train_new.csv\n",
            "models\t\t\t\t   stimuli_param_uniqueF3_train_new.csv.ods\n",
            "notebooks\t\t\t   wp_stimuli_param_train.csv\n",
            "stimuli_param_60features_test.csv\n",
            "drive\t\t\t\t   stimuli_param_60features_train.csv\n",
            "jfj_stimuli_param.csv\t\t   stimuli_param_uniqueF3.csv\n",
            "jfj_stimuli_param_test.csv\t   stimuli_param_uniqueF3_test.csv\n",
            "jfj_stimuli_param_train.csv\t   stimuli_param_uniqueF3_test_itemiden.csv\n",
            "jm_stimuli_param.csv\t\t   stimuli_param_uniqueF3_test_new.csv\n",
            "jm_stimuli_param_test.csv\t   stimuli_param_uniqueF3_train_itemiden.csv\n",
            "jm_stimuli_param_train.csv\t   stimuli_param_uniqueF3_train_new.csv\n",
            "models\t\t\t\t   stimuli_param_uniqueF3_train_new.csv.ods\n",
            "notebooks\t\t\t   wp_stimuli_param_train.csv\n",
            "stimuli_param_60features_test.csv\n"
          ],
          "name": "stdout"
        }
      ]
    },
    {
      "metadata": {
        "id": "1KNTEbVpl_Kd",
        "colab_type": "code",
        "colab": {
          "base_uri": "https://localhost:8080/",
          "height": 35
        },
        "outputId": "422261e8-546a-4918-b0df-44d10855f609"
      },
      "cell_type": "code",
      "source": [
        "#specify variables\n",
        "train_data = 'stimuli_param_uniqueF3_train_itemiden.csv' \n",
        "test_data = 'stimuli_param_uniqueF3_test_itemiden.csv'\n",
        "\n",
        "#load data\n",
        "df=pd.read_csv(train_data, sep=',',header=None)\n",
        "df.shape\n",
        "nsamples =df.shape[0]\n",
        "print \"number of training samples:\",nsamples\n",
        "\n",
        "#\n",
        "num_features_train = 3\n",
        "num_features_test = 3\n",
        "node_hidden01 = nsamples\n",
        "target_nodes = nsamples\n",
        "epoch = 5000\n",
        "learning_rate = 0.005\n",
        "initial_weight01 = -0.01\n",
        "initial_weight02 = 0.01"
      ],
      "execution_count": 4,
      "outputs": [
        {
          "output_type": "stream",
          "text": [
            "number of training samples: 52\n"
          ],
          "name": "stdout"
        }
      ]
    },
    {
      "metadata": {
        "id": "xqZqjlYyVveh",
        "colab_type": "code",
        "colab": {
          "base_uri": "https://localhost:8080/",
          "height": 1295
        },
        "outputId": "9315ed11-7050-4295-8b89-af9c62972d4d"
      },
      "cell_type": "code",
      "source": [
        "#load data\n",
        "df=pd.read_csv(train_data, sep=',',header=None)\n",
        "df.shape\n",
        "nsamples =df.shape[0]\n",
        "print \"number of training samples:\",nsamples\n",
        "\n",
        "\n",
        "#shuffle the data\n",
        "df_array = df.values\n",
        "new = numpy.take(df_array,numpy.random.permutation(df_array.shape[0]),axis=0,out=df_array);\n",
        "\n",
        "##separate data into features and labels (numpy.array)\n",
        "temp = new[:,0:num_features_train] #df.iloc[:,0:num_features]\n",
        "x_data = temp #temp.values\n",
        "print \"dimension of feature dataset:\",x_data.shape\n",
        "print(x_data[0:5,:])\n",
        "\n",
        "temp = new[:,(num_features_train+1):(num_features_train+nsamples+1)]#df.iloc[:,num_features]\n",
        "y_data = temp #temp.values\n",
        "print \"dimension of identity dataset:\",y_data.shape\n",
        "print(y_data)\n",
        "\n",
        "temp = new[:,num_features_train]\n",
        "y_data_cat = temp\n",
        "print \"dimension of category dataset:\", y_data_cat.shape\n",
        "print(y_data_cat)\n",
        "#load test data\n",
        "df=pd.read_csv(test_data, sep=',',header=None)\n",
        "df.shape\n",
        "nsamples_test = df.shape[0]\n",
        "print \"number of test samples:\",df.shape[0]\n",
        "\n",
        "##separate data into features and labels (numpy.array)\n",
        "temp = df.iloc[:,0:num_features_test]\n",
        "test_x_data = temp.values\n",
        "print \"dimension of feature dataset:\",test_x_data.shape\n",
        "print(test_x_data)\n",
        "\n",
        "temp = df.iloc[:,(num_features_test+1):(num_features_test+nsamples_test+1)]\n",
        "test_y_data = temp.values\n",
        "print \"dimension of category dataset:\",test_y_data.shape\n",
        "print(test_y_data)"
      ],
      "execution_count": 26,
      "outputs": [
        {
          "output_type": "stream",
          "text": [
            "number of training samples: 52\n",
            "dimension of feature dataset: (52, 3)\n",
            "[[2.  3.  1.8]\n",
            " [3.  4.  4.9]\n",
            " [4.  4.  3.3]\n",
            " [1.  1.  5.6]\n",
            " [1.  1.  1.3]]\n",
            "dimension of identity dataset: (52, 52)\n",
            "[[0. 0. 0. ... 0. 0. 0.]\n",
            " [0. 0. 0. ... 0. 0. 0.]\n",
            " [0. 0. 0. ... 0. 0. 0.]\n",
            " ...\n",
            " [0. 0. 0. ... 0. 0. 0.]\n",
            " [0. 0. 0. ... 0. 0. 0.]\n",
            " [0. 0. 0. ... 0. 0. 0.]]\n",
            "dimension of category dataset: (52,)\n",
            "[1. 0. 1. 0. 1. 0. 0. 0. 1. 1. 0. 1. 0. 0. 1. 1. 1. 0. 0. 1. 0. 0. 1. 0.\n",
            " 1. 1. 0. 0. 1. 0. 1. 1. 0. 0. 0. 0. 1. 1. 0. 1. 1. 0. 1. 0. 1. 1. 0. 0.\n",
            " 1. 0. 1. 1.]\n",
            "number of test samples: 26\n",
            "dimension of feature dataset: (26, 3)\n",
            "[[1.  1.  2. ]\n",
            " [1.  2.  3.5]\n",
            " [1.  3.  7.4]\n",
            " [2.  1.  4.6]\n",
            " [2.  1.  7.4]\n",
            " [2.  2.  6.5]\n",
            " [2.  2.  5.3]\n",
            " [2.  3.  1.9]\n",
            " [3.  1.  7.7]\n",
            " [3.  2.  2.1]\n",
            " [3.  3.  2. ]\n",
            " [4.  1.  5.3]\n",
            " [4.  3.  7.1]\n",
            " [1.  1.  0.6]\n",
            " [1.  3.  2.6]\n",
            " [2.  3.  3.7]\n",
            " [2.  4.  5.1]\n",
            " [2.  1.  5.2]\n",
            " [3.  3.  4.3]\n",
            " [3.  3.  5.4]\n",
            " [3.  4.  2.2]\n",
            " [3.  4.  6. ]\n",
            " [3.  2.  5. ]\n",
            " [4.  3.  5.7]\n",
            " [4.  4.  7.5]\n",
            " [4.  1.  3. ]]\n",
            "dimension of category dataset: (26, 26)\n",
            "[[1 0 0 0 0 0 0 0 0 0 0 0 0 0 0 0 0 0 0 0 0 0 0 0 0 0]\n",
            " [0 1 0 0 0 0 0 0 0 0 0 0 0 0 0 0 0 0 0 0 0 0 0 0 0 0]\n",
            " [0 0 1 0 0 0 0 0 0 0 0 0 0 0 0 0 0 0 0 0 0 0 0 0 0 0]\n",
            " [0 0 0 1 0 0 0 0 0 0 0 0 0 0 0 0 0 0 0 0 0 0 0 0 0 0]\n",
            " [0 0 0 0 1 0 0 0 0 0 0 0 0 0 0 0 0 0 0 0 0 0 0 0 0 0]\n",
            " [0 0 0 0 0 1 0 0 0 0 0 0 0 0 0 0 0 0 0 0 0 0 0 0 0 0]\n",
            " [0 0 0 0 0 0 1 0 0 0 0 0 0 0 0 0 0 0 0 0 0 0 0 0 0 0]\n",
            " [0 0 0 0 0 0 0 1 0 0 0 0 0 0 0 0 0 0 0 0 0 0 0 0 0 0]\n",
            " [0 0 0 0 0 0 0 0 1 0 0 0 0 0 0 0 0 0 0 0 0 0 0 0 0 0]\n",
            " [0 0 0 0 0 0 0 0 0 1 0 0 0 0 0 0 0 0 0 0 0 0 0 0 0 0]\n",
            " [0 0 0 0 0 0 0 0 0 0 1 0 0 0 0 0 0 0 0 0 0 0 0 0 0 0]\n",
            " [0 0 0 0 0 0 0 0 0 0 0 1 0 0 0 0 0 0 0 0 0 0 0 0 0 0]\n",
            " [0 0 0 0 0 0 0 0 0 0 0 0 1 0 0 0 0 0 0 0 0 0 0 0 0 0]\n",
            " [0 0 0 0 0 0 0 0 0 0 0 0 0 1 0 0 0 0 0 0 0 0 0 0 0 0]\n",
            " [0 0 0 0 0 0 0 0 0 0 0 0 0 0 1 0 0 0 0 0 0 0 0 0 0 0]\n",
            " [0 0 0 0 0 0 0 0 0 0 0 0 0 0 0 1 0 0 0 0 0 0 0 0 0 0]\n",
            " [0 0 0 0 0 0 0 0 0 0 0 0 0 0 0 0 1 0 0 0 0 0 0 0 0 0]\n",
            " [0 0 0 0 0 0 0 0 0 0 0 0 0 0 0 0 0 1 0 0 0 0 0 0 0 0]\n",
            " [0 0 0 0 0 0 0 0 0 0 0 0 0 0 0 0 0 0 1 0 0 0 0 0 0 0]\n",
            " [0 0 0 0 0 0 0 0 0 0 0 0 0 0 0 0 0 0 0 1 0 0 0 0 0 0]\n",
            " [0 0 0 0 0 0 0 0 0 0 0 0 0 0 0 0 0 0 0 0 1 0 0 0 0 0]\n",
            " [0 0 0 0 0 0 0 0 0 0 0 0 0 0 0 0 0 0 0 0 0 1 0 0 0 0]\n",
            " [0 0 0 0 0 0 0 0 0 0 0 0 0 0 0 0 0 0 0 0 0 0 1 0 0 0]\n",
            " [0 0 0 0 0 0 0 0 0 0 0 0 0 0 0 0 0 0 0 0 0 0 0 1 0 0]\n",
            " [0 0 0 0 0 0 0 0 0 0 0 0 0 0 0 0 0 0 0 0 0 0 0 0 1 0]\n",
            " [0 0 0 0 0 0 0 0 0 0 0 0 0 0 0 0 0 0 0 0 0 0 0 0 0 1]]\n"
          ],
          "name": "stdout"
        }
      ]
    },
    {
      "metadata": {
        "id": "JDysZGoYFW1a",
        "colab_type": "code",
        "colab": {
          "base_uri": "https://localhost:8080/",
          "height": 1664
        },
        "outputId": "28cc9fe2-9127-41aa-c044-dad1521f20ac"
      },
      "cell_type": "code",
      "source": [
        "#load data\n",
        "df=pd.read_csv(train_data, sep=',',header=None)\n",
        "df.shape\n",
        "nsamples =df.shape[0]\n",
        "print \"number of training samples:\",nsamples\n",
        "\n",
        "\n",
        "# #shuffle the data\n",
        "df_array = df.values\n",
        "\n",
        "# ##separate data into features and labels (numpy.array)\n",
        "temp = df.iloc[:,0:num_features_train]\n",
        "x_data_check = temp #temp.values\n",
        "print \"dimension of feature dataset:\",x_data_check.shape\n",
        "#print(x_data)\n",
        "\n",
        "temp =df.iloc[:,(num_features_train+1):(num_features_train+nsamples+1)]\n",
        "y_data_check = temp #temp.values\n",
        "print \"dimension of identity dataset:\",y_data_check.shape\n",
        "# #print(y_data)\n",
        "\n",
        "\n",
        "temp = df.iloc[:,num_features_train]\n",
        "y_data_cat_check = temp\n",
        "print \"dimension of category dataset:\",y_data_cat_check.shape\n",
        "print(y_data_cat_check)\n",
        "# ##\n",
        "plt.imshow(x_data_check)\n",
        "plt.grid(False)\n",
        "plt.show()\n",
        "\n",
        "plt.imshow(y_data_check)\n",
        "plt.grid(False)\n",
        "plt.show()\n",
        "\n",
        "#plt.imshow(y_data_cat_check)\n",
        "#plt.grid(False)\n",
        "#plt.show()"
      ],
      "execution_count": 27,
      "outputs": [
        {
          "output_type": "stream",
          "text": [
            "number of training samples: 52\n",
            "dimension of feature dataset: (52, 3)\n",
            "dimension of identity dataset: (52, 52)\n",
            "dimension of category dataset: (52,)\n",
            "0     1\n",
            "1     1\n",
            "2     1\n",
            "3     1\n",
            "4     1\n",
            "5     1\n",
            "6     1\n",
            "7     1\n",
            "8     1\n",
            "9     1\n",
            "10    1\n",
            "11    1\n",
            "12    1\n",
            "13    1\n",
            "14    1\n",
            "15    1\n",
            "16    1\n",
            "17    1\n",
            "18    1\n",
            "19    1\n",
            "20    1\n",
            "21    1\n",
            "22    1\n",
            "23    1\n",
            "24    1\n",
            "25    1\n",
            "26    0\n",
            "27    0\n",
            "28    0\n",
            "29    0\n",
            "30    0\n",
            "31    0\n",
            "32    0\n",
            "33    0\n",
            "34    0\n",
            "35    0\n",
            "36    0\n",
            "37    0\n",
            "38    0\n",
            "39    0\n",
            "40    0\n",
            "41    0\n",
            "42    0\n",
            "43    0\n",
            "44    0\n",
            "45    0\n",
            "46    0\n",
            "47    0\n",
            "48    0\n",
            "49    0\n",
            "50    0\n",
            "51    0\n",
            "Name: 3, dtype: int64\n"
          ],
          "name": "stdout"
        },
        {
          "output_type": "display_data",
          "data": {
            "image/png": "[encoded data removed]",
            "text/plain": [
              "<matplotlib.figure.Figure at 0x7f9c77c31590>"
            ]
          },
          "metadata": {
            "tags": []
          }
        },
        {
          "output_type": "display_data",
          "data": {
            "image/png": "[encoded data removed]",
            "text/plain": [
              "<matplotlib.figure.Figure at 0x7f9c7b119fd0>"
            ]
          },
          "metadata": {
            "tags": []
          }
        }
      ]
    },
    {
      "metadata": {
        "id": "gpN1pq3UWGT8",
        "colab_type": "code",
        "colab": {}
      },
      "cell_type": "code",
      "source": [
        "##set up network layers\n",
        "#You can think of most the tensorflow variables as actually being functions that we will call when we want to get their value. \n",
        "input_ph = tf.placeholder(tf.float32, shape=[num_features_train,1]) \n",
        "#This will be the place the input to the network is inserted\n",
        "#shape: number of features\n",
        "\n",
        "target_ph =  tf.placeholder(tf.float32, shape=[target_nodes,1]) \n",
        "#This will be the place the target for the network is insertedd\n",
        "#shape = number of node\n",
        "\n",
        "#First layer weights\n",
        "W1 = tf.Variable(tf.random_uniform([node_hidden01,num_features_train],initial_weight01,initial_weight02)) \n",
        "#first layer: 3 input feautres to 10 nodes in the hidden layer\n",
        "\n",
        "b1 = tf.Variable(tf.random_uniform([node_hidden01,1],initial_weight01,initial_weight02)) # \" \" biases\n",
        "#one bias to the 10 nodes in the hidden layer\n",
        "#[# nodes, # nodes], sampling from a random uniform distribution from -1 to 1 for initial weights\n",
        "\n",
        "#2nd layer\n",
        "W2 = tf.Variable(tf.random_uniform([target_nodes,node_hidden01],initial_weight01,initial_weight02)) \n",
        "#second layer: 10 nodes in the first hidden layer to one node in the second\n",
        "b2 = tf.Variable(tf.random_uniform([target_nodes,1],initial_weight01,initial_weight02))\n",
        "\n",
        "\n",
        "#####\n",
        "\n",
        "##construct the network\n",
        "h1 = tf.nn.tanh(tf.matmul(W1,input_ph)+b1)\n",
        "#y = tanh(x1w11+x2w21)\n",
        "#tf.matmul: matrix multiplication\n",
        "\n",
        "output = tf.nn.sigmoid(tf.matmul(W2,h1)+b2) \n",
        "#This is the actual construction of the network. \n",
        "#When we want to get the output of the network, we will tell tensorflow what to put in the input placeholder, and then we'll run this output function\n",
        "\n",
        "loss = tf.reduce_sum(tf.square(output - target_ph))\n",
        "#This is the function we're trying to optimize. The reduce_sum is not really necessary since we only have a single output, just using it to flatten the output.\n",
        "\n",
        "#optimizer = tf.train.AdamOptimizer(learning_rate) \n",
        "optimizer = tf.train.AdamOptimizer(learning_rate)\n",
        "#This is a fancy version of momentum based gradient descent optimization.\n",
        "\n",
        "train = optimizer.minimize(loss) \n",
        "#This will be how we tell the network to train on an example\n"
      ],
      "execution_count": 0,
      "outputs": []
    },
    {
      "metadata": {
        "id": "TsesbB7WyIBk",
        "colab_type": "code",
        "colab": {}
      },
      "cell_type": "code",
      "source": [
        "#Define functions for calculating loss, accuracy, and hidden layer activity\n",
        "def test():\n",
        "    MSE = 0.0\n",
        "    for i in xrange(len(x_data)):\n",
        "      MSE += sess.run(loss,feed_dict={input_ph: x_data[i,:].reshape([num_features_train,1]),target_ph: y_data[i,:].reshape([target_nodes,1])}) #test on a test data point. feed_dict is how you pass things in to the placeholders created above\n",
        "    MSE /= len(x_data)\n",
        "    return MSE\n",
        "\n",
        "def accuracy():\n",
        "    temp =numpy.empty((nsamples,1))\n",
        "    #acc=[]\n",
        "    for i in xrange(len(x_data)):\n",
        "        #temp.append(sess.run(output,feed_dict={input_ph: x_data[i].reshape([num_features,1])}))\n",
        "        result = sess.run(output,feed_dict={input_ph: x_data[i,:].reshape([num_features_train,1])})\n",
        "        temp[i,:] = result\n",
        "        #temp= numpy.append(temp,[result],axis=0)\n",
        "    return temp\n",
        "    \n",
        "def hidden():\n",
        "    temp = numpy.empty((nsamples,node_hidden01))\n",
        "    for i in xrange(len(y_data)):\n",
        "        #temp.append(sess.run(h1,feed_dict={input_ph: x_data[i].reshape([num_features,1])}))\n",
        "        result = sess.run(h1,feed_dict={input_ph: x_data[i,:].reshape([num_features_train,1])})\n",
        "        temp[i,:]=numpy.transpose(result)\n",
        "    return temp"
      ],
      "execution_count": 0,
      "outputs": []
    },
    {
      "metadata": {
        "id": "7GAP-OA_Znhv",
        "colab_type": "code",
        "colab": {}
      },
      "cell_type": "code",
      "source": [
        "# Launch the graph -- tell tensorflow to initialize everything.\n",
        "init = tf.global_variables_initializer()\n",
        "sess = tf.Session()\n",
        "sess.run(init) #first argument to sess.run is function to run, here we're running the initialize function\n",
        "\n",
        "# Fit the function\n",
        "print \"Pre training MSE:\", test()\n",
        "ac = []#numpy.empty((nsamples,epoch))\n",
        "hid = []#numpy.empty((node_hidden01,nsamples,epoch))\n",
        "los = []\n",
        "new_y = numpy.empty((nsamples,epoch))\n",
        "new_x = numpy.empty((nsamples,num_features_train,epoch))\n",
        "\n",
        "for step in xrange(epoch):\n",
        "  #load data\n",
        "  df=pd.read_csv(train_data, sep=',',header=None)\n",
        "  #shuffle the data\n",
        "  df_array = df.values\n",
        "  new = numpy.take(df_array,numpy.random.permutation(df_array.shape[0]),axis=0,out=df_array);\n",
        "  #separate data into features and labels (numpy.array)\n",
        "  x_data = new[:,0:num_features_train] #features\n",
        "  y_data = new[:,(num_features_train+1):(num_features_train+nsamples+1)] #labels\n",
        "  y_data_cat = new[:,num_features_train]\n",
        "  \n",
        "  \n",
        "  #run the model \n",
        "  for item in xrange(nsamples):\n",
        "  #run the model \n",
        "    sess.run(train,feed_dict={input_ph: x_data[item,:].reshape([num_features_train,1]),target_ph: y_data[item,:].reshape([target_nodes,1])}) \n",
        "  \n",
        "  \n",
        "  #save out results on each iteration\n",
        "  #ac[:,step]=numpy.transpose(accuracy())\n",
        "  #ac.append(accuracy())\n",
        "  #hid[:,step]=numpy.transpose(hidden())\n",
        "  hid.append(hidden())\n",
        "  los.append(test())\n",
        "  new_y[:,step] = y_data_cat\n",
        "  new_x[:,:,step] = x_data\n",
        "  \n",
        "  #print out loss\n",
        "  if step % 100 == 0:\n",
        "    print \"On step %i, test MSE %f\" %(step,test())\n",
        "\n",
        "print \"Post training MSE:\", test()"
      ],
      "execution_count": 0,
      "outputs": []
    },
    {
      "metadata": {
        "id": "anAlvAn1d1SU",
        "colab_type": "code",
        "colab": {
          "base_uri": "https://localhost:8080/",
          "height": 391
        },
        "outputId": "5d504eeb-1fe4-46f8-8f13-9f4252ac5e54"
      },
      "cell_type": "code",
      "source": [
        "plt.plot(los)\n",
        "plt.ylabel('Loss', fontsize = 20)\n",
        "plt.xlabel('Epoch',fontsize = 20)\n",
        "plt.title('Training loss', fontsize = 20)\n",
        "plt.show()\n"
      ],
      "execution_count": 17,
      "outputs": [
        {
          "output_type": "display_data",
          "data": {
            "image/png": "[encoded data removed]",
            "text/plain": [
              "<matplotlib.figure.Figure at 0x7f9c77ced8d0>"
            ]
          },
          "metadata": {
            "tags": []
          }
        }
      ]
    },
    {
      "metadata": {
        "id": "SHiOQFuVnbGN",
        "colab_type": "code",
        "colab": {
          "base_uri": "https://localhost:8080/",
          "height": 2902
        },
        "outputId": "797e9ded-1e8e-4349-f54a-f04a80551521"
      },
      "cell_type": "code",
      "source": [
        "print \"Final weights:\"\n",
        "print(sess.run(W1),sess.run(b1),sess.run(W2),sess.run(b2))\n"
      ],
      "execution_count": 18,
      "outputs": [
        {
          "output_type": "stream",
          "text": [
            "Final weights:\n",
            "(array([[ 8.49170744e-01, -6.07672572e-01,  1.05055869e+00],\n",
            "       [-1.21189609e-01,  1.18947119e-01, -9.06428881e-03],\n",
            "       [ 1.74843097e+00,  1.52255678e+00,  1.68551290e+00],\n",
            "       [ 1.92292404e+00,  2.47249937e+00,  1.83930767e+00],\n",
            "       [-3.74803042e+00,  9.63440359e-01, -4.11707342e-01],\n",
            "       [ 1.52038407e+00, -2.23322725e+00,  3.01286054e+00],\n",
            "       [-4.36082780e-01, -1.90728986e+00,  1.72556412e+00],\n",
            "       [-5.32983124e-01,  1.77796595e-02, -7.99273178e-02],\n",
            "       [ 1.94312274e-01, -2.40639001e-01,  1.09075010e-01],\n",
            "       [ 4.87508923e-01,  3.79698426e-01,  2.26586014e-01],\n",
            "       [ 1.01755217e-01,  1.29583883e+00,  9.63922441e-01],\n",
            "       [-1.56072807e+00, -1.73300540e+00, -1.75058687e+00],\n",
            "       [-1.72775388e+00, -1.56208932e+00, -1.71264112e+00],\n",
            "       [-1.12032309e-01,  8.25174823e-02,  4.14911844e-02],\n",
            "       [-2.52994383e-03,  7.42392391e-02,  1.13863975e-01],\n",
            "       [-3.31429911e+00,  1.16100848e+00,  2.50109458e+00],\n",
            "       [-3.05047899e-01,  1.68660238e-01, -2.47500688e-01],\n",
            "       [-1.75987709e+00, -1.61193752e+00, -1.81501603e+00],\n",
            "       [-1.44828022e+00, -1.90964317e+00, -1.81061709e+00],\n",
            "       [-2.48910114e-01,  2.84593165e-01, -9.64892283e-02],\n",
            "       [-5.09994030e-02,  1.27119154e-01, -8.52591321e-02],\n",
            "       [-1.00326099e-01,  2.64469590e-02,  5.03790639e-02],\n",
            "       [ 3.41795921e+00,  1.31186974e+00, -2.34096217e+00],\n",
            "       [ 1.98668599e-01, -1.10703319e-01,  1.91675667e-02],\n",
            "       [-1.89875937e+00, -1.45144713e+00, -1.76784527e+00],\n",
            "       [ 2.21531081e+00, -2.69185400e+00, -2.50596493e-01],\n",
            "       [ 7.79456422e-02, -1.42712265e-01,  9.72041562e-02],\n",
            "       [ 1.79083839e-01, -1.14340611e-01, -1.38114601e-01],\n",
            "       [ 3.37009251e-01,  1.30947924e+00, -1.52516890e+01],\n",
            "       [ 3.06263399e+00, -1.04427290e+00, -3.90546107e+00],\n",
            "       [ 1.10599554e+00, -5.02812338e+00,  1.21662867e+00],\n",
            "       [ 2.10980698e-02, -5.68052642e-02, -1.26913786e-01],\n",
            "       [ 4.85198468e-01,  1.26116478e+00,  2.28546008e-01],\n",
            "       [-3.93712193e-01, -3.49189734e+00,  3.36924052e+00],\n",
            "       [ 5.93694592e+00, -1.53924501e+00, -1.93312705e+00],\n",
            "       [ 3.79150438e+00, -4.44112539e+00,  5.94378376e+00],\n",
            "       [-2.38922906e+00, -1.80006397e+00,  2.27591252e+00],\n",
            "       [-1.83209157e+00, -1.41104364e+00, -1.74721360e+00],\n",
            "       [ 1.03292562e-01, -1.87379308e-02,  1.17476014e-02],\n",
            "       [-1.18534565e+00,  1.81501913e+00,  4.15185928e+00],\n",
            "       [ 1.41742453e-01, -2.21822277e-01, -8.96860361e-02],\n",
            "       [-3.21510935e+00,  3.89861107e+00,  6.57442570e-01],\n",
            "       [-3.81204700e+00,  7.28795826e-02,  4.93327808e+00],\n",
            "       [ 2.19096994e+00,  3.27338624e+00, -2.63651443e+00],\n",
            "       [-2.29765630e+00, -1.42863834e+00, -2.22031981e-01],\n",
            "       [ 1.61678076e+00,  4.66744810e-01,  5.13172686e-01],\n",
            "       [ 1.86959535e-01, -1.40863165e-01, -2.81353649e-02],\n",
            "       [-1.38149929e+00, -6.09598160e+00,  2.34287953e+00],\n",
            "       [-1.78031874e+00, -1.70169544e+00, -1.85759783e+00],\n",
            "       [ 5.33071339e-01,  2.70635223e+00, -9.56970692e+00],\n",
            "       [ 8.04089904e-02, -1.25314116e-01,  8.71585757e-02],\n",
            "       [-1.30983040e-01,  1.67943686e-01,  1.50375247e-01]], dtype=float32), array([[-6.701552  ],\n",
            "       [ 0.03598327],\n",
            "       [ 3.1498344 ],\n",
            "       [ 1.7547065 ],\n",
            "       [ 7.9878125 ],\n",
            "       [-1.2091872 ],\n",
            "       [-6.1334805 ],\n",
            "       [-0.18167627],\n",
            "       [-0.264818  ],\n",
            "       [ 1.330086  ],\n",
            "       [-7.89665   ],\n",
            "       [-3.162153  ],\n",
            "       [-3.0166593 ],\n",
            "       [ 0.01496045],\n",
            "       [-0.61148834],\n",
            "       [-6.426538  ],\n",
            "       [ 6.221847  ],\n",
            "       [-3.1100519 ],\n",
            "       [-3.2384083 ],\n",
            "       [ 0.130082  ],\n",
            "       [-0.07073645],\n",
            "       [ 0.22450897],\n",
            "       [-2.7690341 ],\n",
            "       [-0.40633768],\n",
            "       [-3.1688087 ],\n",
            "       [ 2.6053514 ],\n",
            "       [-0.01330718],\n",
            "       [ 0.13144429],\n",
            "       [ 0.45193255],\n",
            "       [ 3.140616  ],\n",
            "       [ 4.2518635 ],\n",
            "       [ 0.49765012],\n",
            "       [-6.3772106 ],\n",
            "       [-0.07363034],\n",
            "       [ 2.3489513 ],\n",
            "       [ 0.5741967 ],\n",
            "       [ 4.420193  ],\n",
            "       [-3.150571  ],\n",
            "       [-0.37223172],\n",
            "       [-9.358402  ],\n",
            "       [ 0.5751494 ],\n",
            "       [-0.71234053],\n",
            "       [-4.494323  ],\n",
            "       [-1.3392266 ],\n",
            "       [ 9.207049  ],\n",
            "       [ 4.525132  ],\n",
            "       [-0.10410933],\n",
            "       [-1.281525  ],\n",
            "       [-2.8039281 ],\n",
            "       [-3.3757453 ],\n",
            "       [-0.06093752],\n",
            "       [-0.56850433]], dtype=float32), array([[-8.3467394e-01,  1.9401732e-01, -3.4140095e-02, ...,\n",
            "         5.9657512e+00,  5.5433158e-02, -2.2776257e-01],\n",
            "       [-8.9408797e-01,  1.3174278e+00, -2.1070559e+00, ...,\n",
            "         1.6938181e+00, -9.7141856e-01, -5.9077168e-01],\n",
            "       [ 1.6536896e+00,  4.0924609e-01, -1.9436133e+00, ...,\n",
            "         8.3734639e-02,  5.7202011e-02,  1.8016599e-01],\n",
            "       ...,\n",
            "       [-3.5944885e-01, -2.6280710e-01, -2.0270133e+00, ...,\n",
            "        -1.8135718e-01, -6.8875349e-01, -5.0187123e-01],\n",
            "       [ 4.2565274e+00,  2.7280191e-01, -1.9663966e+00, ...,\n",
            "         1.6050477e+00,  1.2605844e-01,  8.1751861e-02],\n",
            "       [-2.9420403e-01,  1.0621476e-03, -1.0571153e+00, ...,\n",
            "        -2.6101136e-01, -6.4055377e-04, -2.2971313e-03]], dtype=float32), array([[ 0.33886477],\n",
            "       [-1.8792584 ],\n",
            "       [-1.6646146 ],\n",
            "       [-1.8213713 ],\n",
            "       [-1.3774683 ],\n",
            "       [-2.6459396 ],\n",
            "       [-1.8526224 ],\n",
            "       [-2.6747272 ],\n",
            "       [-1.6001084 ],\n",
            "       [-2.6270192 ],\n",
            "       [-1.0388306 ],\n",
            "       [-2.793662  ],\n",
            "       [-2.163765  ],\n",
            "       [-2.9886322 ],\n",
            "       [-2.3762383 ],\n",
            "       [-2.8028226 ],\n",
            "       [-1.8025457 ],\n",
            "       [-1.7165179 ],\n",
            "       [-2.4066617 ],\n",
            "       [-2.220391  ],\n",
            "       [-2.7136526 ],\n",
            "       [-1.8344556 ],\n",
            "       [-1.4974774 ],\n",
            "       [-2.0614703 ],\n",
            "       [-1.6121625 ],\n",
            "       [-1.4246023 ],\n",
            "       [-2.206725  ],\n",
            "       [-2.3777163 ],\n",
            "       [-2.2464678 ],\n",
            "       [-2.0973308 ],\n",
            "       [-1.022623  ],\n",
            "       [-1.6059507 ],\n",
            "       [-2.8814666 ],\n",
            "       [-1.6874261 ],\n",
            "       [-2.3480287 ],\n",
            "       [-2.471478  ],\n",
            "       [-2.260196  ],\n",
            "       [-1.6243721 ],\n",
            "       [-2.9202008 ],\n",
            "       [-1.1225271 ],\n",
            "       [-2.9909909 ],\n",
            "       [-2.4457085 ],\n",
            "       [-1.2645134 ],\n",
            "       [-2.0838995 ],\n",
            "       [-2.2714534 ],\n",
            "       [-1.8086864 ],\n",
            "       [-1.4800771 ],\n",
            "       [-1.6255236 ],\n",
            "       [-2.2095623 ],\n",
            "       [-1.9133251 ],\n",
            "       [-1.8049257 ],\n",
            "       [-0.9420782 ]], dtype=float32))\n"
          ],
          "name": "stdout"
        }
      ]
    },
    {
      "metadata": {
        "id": "DW_AOw_Z_W2m",
        "colab_type": "code",
        "colab": {
          "base_uri": "https://localhost:8080/",
          "height": 217
        },
        "outputId": "f3b8c1cc-79d5-4c35-d5e5-7c916ef47a0b"
      },
      "cell_type": "code",
      "source": [
        "print(\"Dimensions of hidden layer activity mtr: \"+repr(len(hid))+\" \"+ repr(len(hid[0]))+\" \"+repr(len(hid[0][0])))\n",
        "\n",
        "hid_array = numpy.asarray(hid)\n",
        "plt.imshow(numpy.reshape(hid_array[:,1,:],(node_hidden01,epoch)), aspect='auto')"
      ],
      "execution_count": 19,
      "outputs": [
        {
          "output_type": "error",
          "ename": "IndexError",
          "evalue": "ignored",
          "traceback": [
            "\u001b[0;31m\u001b[0m",
            "\u001b[0;31mIndexError\u001b[0mTraceback (most recent call last)",
            "\u001b[0;32m<ipython-input-19-1fc9cddf63aa>\u001b[0m in \u001b[0;36m<module>\u001b[0;34m()\u001b[0m\n\u001b[0;32m----> 1\u001b[0;31m \u001b[0;32mprint\u001b[0m\u001b[0;34m(\u001b[0m\u001b[0;34m\"Dimensions of hidden layer activity mtr: \"\u001b[0m\u001b[0;34m+\u001b[0m\u001b[0mrepr\u001b[0m\u001b[0;34m(\u001b[0m\u001b[0mlen\u001b[0m\u001b[0;34m(\u001b[0m\u001b[0mhid\u001b[0m\u001b[0;34m)\u001b[0m\u001b[0;34m)\u001b[0m\u001b[0;34m+\u001b[0m\u001b[0;34m\" \"\u001b[0m\u001b[0;34m+\u001b[0m \u001b[0mrepr\u001b[0m\u001b[0;34m(\u001b[0m\u001b[0mlen\u001b[0m\u001b[0;34m(\u001b[0m\u001b[0mhid\u001b[0m\u001b[0;34m[\u001b[0m\u001b[0;36m0\u001b[0m\u001b[0;34m]\u001b[0m\u001b[0;34m)\u001b[0m\u001b[0;34m)\u001b[0m\u001b[0;34m+\u001b[0m\u001b[0;34m\" \"\u001b[0m\u001b[0;34m+\u001b[0m\u001b[0mrepr\u001b[0m\u001b[0;34m(\u001b[0m\u001b[0mlen\u001b[0m\u001b[0;34m(\u001b[0m\u001b[0mhid\u001b[0m\u001b[0;34m[\u001b[0m\u001b[0;36m0\u001b[0m\u001b[0;34m]\u001b[0m\u001b[0;34m[\u001b[0m\u001b[0;36m0\u001b[0m\u001b[0;34m]\u001b[0m\u001b[0;34m)\u001b[0m\u001b[0;34m)\u001b[0m\u001b[0;34m)\u001b[0m\u001b[0;34m\u001b[0m\u001b[0m\n\u001b[0m\u001b[1;32m      2\u001b[0m \u001b[0;34m\u001b[0m\u001b[0m\n\u001b[1;32m      3\u001b[0m \u001b[0mhid_array\u001b[0m \u001b[0;34m=\u001b[0m \u001b[0mnumpy\u001b[0m\u001b[0;34m.\u001b[0m\u001b[0masarray\u001b[0m\u001b[0;34m(\u001b[0m\u001b[0mhid\u001b[0m\u001b[0;34m)\u001b[0m\u001b[0;34m\u001b[0m\u001b[0m\n\u001b[1;32m      4\u001b[0m \u001b[0mplt\u001b[0m\u001b[0;34m.\u001b[0m\u001b[0mimshow\u001b[0m\u001b[0;34m(\u001b[0m\u001b[0mnumpy\u001b[0m\u001b[0;34m.\u001b[0m\u001b[0mreshape\u001b[0m\u001b[0;34m(\u001b[0m\u001b[0mhid_array\u001b[0m\u001b[0;34m[\u001b[0m\u001b[0;34m:\u001b[0m\u001b[0;34m,\u001b[0m\u001b[0;36m1\u001b[0m\u001b[0;34m,\u001b[0m\u001b[0;34m:\u001b[0m\u001b[0;34m]\u001b[0m\u001b[0;34m,\u001b[0m\u001b[0;34m(\u001b[0m\u001b[0mnode_hidden01\u001b[0m\u001b[0;34m,\u001b[0m\u001b[0mepoch\u001b[0m\u001b[0;34m)\u001b[0m\u001b[0;34m)\u001b[0m\u001b[0;34m,\u001b[0m \u001b[0maspect\u001b[0m\u001b[0;34m=\u001b[0m\u001b[0;34m'auto'\u001b[0m\u001b[0;34m)\u001b[0m\u001b[0;34m\u001b[0m\u001b[0m\n",
            "\u001b[0;31mIndexError\u001b[0m: list index out of range"
          ]
        }
      ]
    },
    {
      "metadata": {
        "id": "sIArQEytpL5Z",
        "colab_type": "code",
        "colab": {
          "base_uri": "https://localhost:8080/",
          "height": 235
        },
        "outputId": "030a47d8-77df-4ca3-90c2-b0371ebb8d37"
      },
      "cell_type": "code",
      "source": [
        "#Correlations of hidden layer activity across two categories\n",
        "final_co = [];#numpy.empty((0,epoch))\n",
        "mean_hid_zero_activity = numpy.empty((node_hidden01,epoch))\n",
        "mean_hid_one_activity = numpy.empty((node_hidden01,epoch))\n",
        "for step in xrange(epoch):\n",
        "  zero_ind = numpy.asarray(numpy.where(new_y[:,step]==0))\n",
        "  #print(zero_ind)\n",
        "  hid_zero = hid[step][zero_ind]\n",
        "  hid_zeroreshape = numpy.reshape(hid_zero,(nsamples/2,node_hidden01))\n",
        "  meanzero = numpy.mean(hid_zeroreshape,axis=0)\n",
        "  \n",
        "  one_ind = numpy.asarray(numpy.where(new_y[:,step]==1))\n",
        "  #print(one_ind)\n",
        "  hid_one = hid[step][one_ind]\n",
        "  hid_onereshape = numpy.reshape(hid_one,(nsamples/2,node_hidden01))\n",
        "  meanone = numpy.mean(hid_onereshape,axis=0)\n",
        "   \n",
        "  co = numpy.corrcoef(meanzero,meanone)\n",
        "  final_co.append(co[0,1])\n",
        "  \n",
        "  #save mean activity for each epoch\n",
        "  mean_hid_zero_activity[:,step]= meanzero\n",
        "  mean_hid_one_activity[:,step] = meanone\n",
        "  #print(co)\n",
        "#print(final_co)\n",
        "\n"
      ],
      "execution_count": 20,
      "outputs": [
        {
          "output_type": "error",
          "ename": "IndexError",
          "evalue": "ignored",
          "traceback": [
            "\u001b[0;31m\u001b[0m",
            "\u001b[0;31mIndexError\u001b[0mTraceback (most recent call last)",
            "\u001b[0;32m<ipython-input-20-56bf8e52a9dc>\u001b[0m in \u001b[0;36m<module>\u001b[0;34m()\u001b[0m\n\u001b[1;32m      5\u001b[0m   \u001b[0mzero_ind\u001b[0m \u001b[0;34m=\u001b[0m \u001b[0mnumpy\u001b[0m\u001b[0;34m.\u001b[0m\u001b[0masarray\u001b[0m\u001b[0;34m(\u001b[0m\u001b[0mnumpy\u001b[0m\u001b[0;34m.\u001b[0m\u001b[0mwhere\u001b[0m\u001b[0;34m(\u001b[0m\u001b[0mnew_y\u001b[0m\u001b[0;34m[\u001b[0m\u001b[0;34m:\u001b[0m\u001b[0;34m,\u001b[0m\u001b[0mstep\u001b[0m\u001b[0;34m]\u001b[0m\u001b[0;34m==\u001b[0m\u001b[0;36m0\u001b[0m\u001b[0;34m)\u001b[0m\u001b[0;34m)\u001b[0m\u001b[0;34m\u001b[0m\u001b[0m\n\u001b[1;32m      6\u001b[0m   \u001b[0;31m#print(zero_ind)\u001b[0m\u001b[0;34m\u001b[0m\u001b[0;34m\u001b[0m\u001b[0m\n\u001b[0;32m----> 7\u001b[0;31m   \u001b[0mhid_zero\u001b[0m \u001b[0;34m=\u001b[0m \u001b[0mhid\u001b[0m\u001b[0;34m[\u001b[0m\u001b[0mstep\u001b[0m\u001b[0;34m]\u001b[0m\u001b[0;34m[\u001b[0m\u001b[0mzero_ind\u001b[0m\u001b[0;34m]\u001b[0m\u001b[0;34m\u001b[0m\u001b[0m\n\u001b[0m\u001b[1;32m      8\u001b[0m   \u001b[0mhid_zeroreshape\u001b[0m \u001b[0;34m=\u001b[0m \u001b[0mnumpy\u001b[0m\u001b[0;34m.\u001b[0m\u001b[0mreshape\u001b[0m\u001b[0;34m(\u001b[0m\u001b[0mhid_zero\u001b[0m\u001b[0;34m,\u001b[0m\u001b[0;34m(\u001b[0m\u001b[0mnsamples\u001b[0m\u001b[0;34m/\u001b[0m\u001b[0;36m2\u001b[0m\u001b[0;34m,\u001b[0m\u001b[0mnode_hidden01\u001b[0m\u001b[0;34m)\u001b[0m\u001b[0;34m)\u001b[0m\u001b[0;34m\u001b[0m\u001b[0m\n\u001b[1;32m      9\u001b[0m   \u001b[0mmeanzero\u001b[0m \u001b[0;34m=\u001b[0m \u001b[0mnumpy\u001b[0m\u001b[0;34m.\u001b[0m\u001b[0mmean\u001b[0m\u001b[0;34m(\u001b[0m\u001b[0mhid_zeroreshape\u001b[0m\u001b[0;34m,\u001b[0m\u001b[0maxis\u001b[0m\u001b[0;34m=\u001b[0m\u001b[0;36m0\u001b[0m\u001b[0;34m)\u001b[0m\u001b[0;34m\u001b[0m\u001b[0m\n",
            "\u001b[0;31mIndexError\u001b[0m: list index out of range"
          ]
        }
      ]
    },
    {
      "metadata": {
        "id": "K86L59GY7QjN",
        "colab_type": "code",
        "colab": {
          "base_uri": "https://localhost:8080/",
          "height": 707
        },
        "outputId": "aa9ccbec-a006-488b-e60b-fbba5ce1666f"
      },
      "cell_type": "code",
      "source": [
        "plt.imshow(mean_hid_zero_activity, aspect='auto')\n",
        "plt.title('Mean hidden layer activity for category A for each epoch')\n",
        "plt.grid(False)\n",
        "plt.show()\n",
        "\n",
        "plt.imshow(mean_hid_one_activity, aspect = 'auto')\n",
        "plt.title('Mean hidden layer activity for category B for each epoch')\n",
        "plt.grid(False)\n",
        "plt.show()"
      ],
      "execution_count": 0,
      "outputs": [
        {
          "output_type": "display_data",
          "data": {
            "image/png": "[encoded data removed]",
            "text/plain": [
              "<matplotlib.figure.Figure at 0x7f9ec54c9ed0>"
            ]
          },
          "metadata": {
            "tags": []
          }
        },
        {
          "output_type": "display_data",
          "data": {
            "image/png": "[encoded data removed]",
            "text/plain": [
              "<matplotlib.figure.Figure at 0x7f9ec50369d0>"
            ]
          },
          "metadata": {
            "tags": []
          }
        }
      ]
    },
    {
      "metadata": {
        "id": "kdMwiEE0otAA",
        "colab_type": "code",
        "colab": {
          "base_uri": "https://localhost:8080/",
          "height": 391
        },
        "outputId": "6b879994-f42b-4b9a-a519-a578053be9f9"
      },
      "cell_type": "code",
      "source": [
        "f = numpy.asarray(final_co)\n",
        "x_epoch = numpy.asarray(range(1,epoch+1))\n",
        "\n",
        "plt.scatter(x_epoch,f)\n",
        "plt.ylabel('Correlations', fontsize = 20)\n",
        "plt.xlabel('Epoch',fontsize = 20)\n",
        "plt.title('Correlations across two categories', fontsize = 20)\n",
        "plt.rcParams['figure.facecolor'] = '0.00'\n",
        "plt.show()\n",
        "\n"
      ],
      "execution_count": 0,
      "outputs": [
        {
          "output_type": "display_data",
          "data": {
            "image/png": "[encoded data removed]",
            "text/plain": [
              "<matplotlib.figure.Figure at 0x7f9ec8e75c50>"
            ]
          },
          "metadata": {
            "tags": []
          }
        }
      ]
    },
    {
      "metadata": {
        "id": "SaCNsM4hAu2L",
        "colab_type": "code",
        "colab": {
          "base_uri": "https://localhost:8080/",
          "height": 283
        },
        "outputId": "fd04888f-b520-4573-adde-0c6d0651d84d"
      },
      "cell_type": "code",
      "source": [
        "#PAC analysis\n",
        "pca = PCA(n_components=2)\n",
        "step=1\n",
        "#for step in xrange(epoch):\n",
        "data = numpy.reshape(hid_array[step,:,:],(nsamples,node_hidden01))\n",
        "pca_result = pca.fit(data)\n",
        "print(pca.components_)\n",
        "print(pca.explained_variance_)\n",
        "print(pca_result.shape)\n",
        "plt.scatter(pca_result[:, 0], pca_result[:, 1],\n",
        "            c=digits.target, edgecolor='none', alpha=0.5,\n",
        "            cmap=plt.cm.get_cmap('spectral', 10))\n",
        "plt.xlabel('component 1')\n",
        "plt.ylabel('component 2')\n",
        "plt.colorbar();\n"
      ],
      "execution_count": 0,
      "outputs": [
        {
          "output_type": "stream",
          "text": [
            "[[-0.32378751  0.35078377  0.50431235  0.59607279 -0.03972231  0.40112444]\n",
            " [-0.52818398  0.48294071 -0.09501061 -0.20217387  0.54536101 -0.37479333]]\n",
            "[0.00142184 0.00013177]\n"
          ],
          "name": "stdout"
        },
        {
          "output_type": "error",
          "ename": "AttributeError",
          "evalue": "ignored",
          "traceback": [
            "\u001b[0;31m\u001b[0m",
            "\u001b[0;31mAttributeError\u001b[0mTraceback (most recent call last)",
            "\u001b[0;32m<ipython-input-180-a1d3e976dadf>\u001b[0m in \u001b[0;36m<module>\u001b[0;34m()\u001b[0m\n\u001b[1;32m      6\u001b[0m \u001b[0;32mprint\u001b[0m\u001b[0;34m(\u001b[0m\u001b[0mpca\u001b[0m\u001b[0;34m.\u001b[0m\u001b[0mcomponents_\u001b[0m\u001b[0;34m)\u001b[0m\u001b[0;34m\u001b[0m\u001b[0m\n\u001b[1;32m      7\u001b[0m \u001b[0;32mprint\u001b[0m\u001b[0;34m(\u001b[0m\u001b[0mpca\u001b[0m\u001b[0;34m.\u001b[0m\u001b[0mexplained_variance_\u001b[0m\u001b[0;34m)\u001b[0m\u001b[0;34m\u001b[0m\u001b[0m\n\u001b[0;32m----> 8\u001b[0;31m \u001b[0;32mprint\u001b[0m\u001b[0;34m(\u001b[0m\u001b[0mpca_result\u001b[0m\u001b[0;34m.\u001b[0m\u001b[0mshape\u001b[0m\u001b[0;34m)\u001b[0m\u001b[0;34m\u001b[0m\u001b[0m\n\u001b[0m\u001b[1;32m      9\u001b[0m plt.scatter(pca_result[:, 0], pca_result[:, 1],\n\u001b[1;32m     10\u001b[0m             \u001b[0mc\u001b[0m\u001b[0;34m=\u001b[0m\u001b[0mdigits\u001b[0m\u001b[0;34m.\u001b[0m\u001b[0mtarget\u001b[0m\u001b[0;34m,\u001b[0m \u001b[0medgecolor\u001b[0m\u001b[0;34m=\u001b[0m\u001b[0;34m'none'\u001b[0m\u001b[0;34m,\u001b[0m \u001b[0malpha\u001b[0m\u001b[0;34m=\u001b[0m\u001b[0;36m0.5\u001b[0m\u001b[0;34m,\u001b[0m\u001b[0;34m\u001b[0m\u001b[0m\n",
            "\u001b[0;31mAttributeError\u001b[0m: 'PCA' object has no attribute 'shape'"
          ]
        }
      ]
    },
    {
      "metadata": {
        "id": "_MSBhucdUoze",
        "colab_type": "code",
        "colab": {
          "base_uri": "https://localhost:8080/",
          "height": 34
        },
        "outputId": "db01aa86-e63e-4909-ca2b-a32e84344899"
      },
      "cell_type": "code",
      "source": [
        "pca_array = numpy.asarray(pca)\n",
        "type(pca)\n"
      ],
      "execution_count": 0,
      "outputs": [
        {
          "output_type": "execute_result",
          "data": {
            "text/plain": [
              "sklearn.decomposition.pca.PCA"
            ]
          },
          "metadata": {
            "tags": []
          },
          "execution_count": 186
        }
      ]
    },
    {
      "metadata": {
        "id": "iBla5I4KC7qr",
        "colab_type": "code",
        "colab": {
          "base_uri": "https://localhost:8080/",
          "height": 85
        },
        "outputId": "dbde93a9-60ce-4060-ae90-87e2cc74a6a5"
      },
      "cell_type": "code",
      "source": [
        "#x=pca_learn[new_y[:,0]==0,0]\n",
        "new_y[:,0]==0\n",
        "#x=Y_sklearn[y==name,0]"
      ],
      "execution_count": 0,
      "outputs": [
        {
          "output_type": "execute_result",
          "data": {
            "text/plain": [
              "array([ True,  True, False, False, False,  True,  True, False,  True,\n",
              "       False, False, False, False,  True, False,  True, False,  True,\n",
              "        True,  True,  True, False,  True, False, False,  True,  True,\n",
              "        True, False,  True, False, False])"
            ]
          },
          "metadata": {
            "tags": []
          },
          "execution_count": 148
        }
      ]
    },
    {
      "metadata": {
        "id": "8yq5h2T4hT26",
        "colab_type": "code",
        "colab": {
          "base_uri": "https://localhost:8080/",
          "height": 225
        },
        "outputId": "64185dc7-93c0-4abc-a689-dc95232f026b"
      },
      "cell_type": "code",
      "source": [
        "#load test data\n",
        "df=pd.read_csv(test_data, sep=',',header=None)\n",
        "df.shape\n",
        "print \"number of test samples:\",df.shape[0]\n",
        "\n",
        "##separate data into features and labels (numpy.array)\n",
        "temp = df.iloc[:,0:num_features]\n",
        "test_x_data = temp.values\n",
        "print \"dimension of feature dataset:\",test_x_data.shape\n",
        "print(test_x_data)\n",
        "\n",
        "temp = df.iloc[:,num_features]\n",
        "test_y_data = temp.values\n",
        "print \"dimension of category dataset:\",test_y_data.shape\n",
        "print(test_y_data)"
      ],
      "execution_count": 0,
      "outputs": [
        {
          "output_type": "stream",
          "text": [
            "number of test samples: 8\n",
            "dimension of feature dataset: (8, 3)\n",
            "[[1 1 2]\n",
            " [2 1 2]\n",
            " [3 3 2]\n",
            " [4 3 2]\n",
            " [1 3 2]\n",
            " [2 3 2]\n",
            " [3 1 2]\n",
            " [4 1 2]]\n",
            "dimension of category dataset: (8,)\n",
            "[1 1 1 1 0 0 0 0]\n"
          ],
          "name": "stdout"
        }
      ]
    },
    {
      "metadata": {
        "id": "nHlK5Rt2dwpu",
        "colab_type": "code",
        "colab": {
          "base_uri": "https://localhost:8080/",
          "height": 130
        },
        "outputId": "2696a385-d3d6-4e89-a492-e4d9ccd63952"
      },
      "cell_type": "code",
      "source": [
        "# Launch the graph -- tell tensorflow to initialize everything.\n",
        "init = tf.global_variables_initializer()\n",
        "sess = tf.Session()\n",
        "sess.run(init) #first argument to sess.run is function to run, here we're running the initialize function\n",
        "\n",
        "# Fit the function\n",
        "print \"Pre training MSE:\", test\n",
        "ac = []\n",
        "hid = []\n",
        "los = []\n",
        "for step in xrange(600):\n",
        "  for item in xrange(nsamples):\n",
        "    #sess.run(train,feed_dict={input_ph: x_data[item].reshape([3,1]),target_ph: y_data[item].reshape([1,1])}) \n",
        "  sess.run(train,feed_dict={input_ph: x_data[step % nsamples].reshape([num_features,1]),target_ph: y_data[step % nsamples].reshape([1,1])}) \n",
        "  #sess.run(train): this will train the model, update the weights\n",
        "  #Run training on an example\n",
        "  ac.append(accuracy())\n",
        "  hid.append(hidden())\n",
        "  los.append(test())\n",
        "  if step % 100 == 0:\n",
        "    print \"On step %i, test MSE %f\" %(step,test())"
      ],
      "execution_count": 0,
      "outputs": [
        {
          "output_type": "error",
          "ename": "IndentationError",
          "evalue": "ignored",
          "traceback": [
            "\u001b[0;36m  File \u001b[0;32m\"<ipython-input-33-6896b0994b5b>\"\u001b[0;36m, line \u001b[0;32m13\u001b[0m\n\u001b[0;31m    sess.run(train,feed_dict={input_ph: x_data[step % nsamples].reshape([3,1]),target_ph: y_data[step % nsamples].reshape([1,1])})\u001b[0m\n\u001b[0m       ^\u001b[0m\n\u001b[0;31mIndentationError\u001b[0m\u001b[0;31m:\u001b[0m expected an indented block\n"
          ]
        }
      ]
    }
  ]
}