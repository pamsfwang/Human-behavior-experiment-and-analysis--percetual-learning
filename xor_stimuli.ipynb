{
 "cells": [
  {
   "cell_type": "markdown",
   "metadata": {
    "colab_type": "text",
    "id": "view-in-github"
   },
   "source": [
    "[View in Colaboratory](https://colab.research.google.com/github/pamsfwang/perceptual_learning/blob/master/xor_stimuli.ipynb)"
   ]
  },
  {
   "cell_type": "code",
   "execution_count": 0,
   "metadata": {
    "colab": {},
    "colab_type": "code",
    "id": "vywyQdQUVjtR"
   },
   "outputs": [],
   "source": [
    "import tensorflow as tf\n",
    "import numpy\n",
    "import os\n",
    "import pandas as pd\n",
    "import matplotlib.pyplot as plt\n"
   ]
  },
  {
   "cell_type": "code",
   "execution_count": 3,
   "metadata": {
    "colab": {
     "base_uri": "https://localhost:8080/",
     "height": 207
    },
    "colab_type": "code",
    "id": "78snJY1vVk-b",
    "outputId": "03384796-ead1-4325-9da4-f323f1bc6e3e"
   },
   "outputs": [
    {
     "name": "stdout",
     "output_type": "stream",
     "text": [
      "Please, open the following URL in a web browser: https://accounts.google.com/o/oauth2/auth?client_id=32555940559.apps.googleusercontent.com&redirect_uri=urn%3Aietf%3Awg%3Aoauth%3A2.0%3Aoob&scope=https%3A%2F%2Fwww.googleapis.com%2Fauth%2Fdrive&response_type=code&access_type=offline&approval_prompt=force\r\n",
      "··········\n",
      "Please, open the following URL in a web browser: https://accounts.google.com/o/oauth2/auth?client_id=32555940559.apps.googleusercontent.com&redirect_uri=urn%3Aietf%3Awg%3Aoauth%3A2.0%3Aoob&scope=https%3A%2F%2Fwww.googleapis.com%2Fauth%2Fdrive&response_type=code&access_type=offline&approval_prompt=force\n",
      "Please enter the verification code: Access token retrieved correctly.\n",
      "datalab  drive\n",
      "drive\t\t\t     notebooks\n",
      "jfj_stimuli_param.csv\t     stimuli_param_uniqueF3.csv\n",
      "jfj_stimuli_param_test.csv   stimuli_param_uniqueF3_test_new.csv\n",
      "jfj_stimuli_param_train.csv  stimuli_param_uniqueF3_train_new.csv\n",
      "models\n"
     ]
    }
   ],
   "source": [
    "#Mount Google drive on Colab\n",
    "#step01\n",
    "!apt-get install -y -qq software-properties-common python-software-properties module-init-tools\n",
    "!add-apt-repository -y ppa:alessandro-strada/ppa 2>&1 > /dev/null\n",
    "!apt-get update -qq 2>&1 > /dev/null\n",
    "!apt-get -y install -qq google-drive-ocamlfuse fuse\n",
    "\n",
    "\n",
    "from google.colab import auth\n",
    "auth.authenticate_user()\n",
    "\n",
    "from oauth2client.client import GoogleCredentials\n",
    "creds = GoogleCredentials.get_application_default()\n",
    "\n",
    "import getpass\n",
    "!google-drive-ocamlfuse -headless -id={creds.client_id} -secret={creds.client_secret} < /dev/null 2>&1 | grep URL\n",
    "vcode = getpass.getpass()\n",
    "!echo {vcode} | google-drive-ocamlfuse -headless -id={creds.client_id} -secret={creds.client_secret}\n",
    "#step02: code for mounting google drive on Linux\n",
    "!mkdir -p drive\n",
    "!google-drive-ocamlfuse drive\n",
    "\n",
    "#step03: change directory to the google drive folder for the project\n",
    "os.getcwd()\n",
    "!ls\n",
    "os.chdir('./drive/Colab_files')\n",
    "os.getcwd()\n",
    "!ls"
   ]
  },
  {
   "cell_type": "code",
   "execution_count": 0,
   "metadata": {
    "colab": {},
    "colab_type": "code",
    "id": "1KNTEbVpl_Kd"
   },
   "outputs": [],
   "source": [
    "#specify variables\n",
    "train_data = 'stimuli_param_uniqueF3_train_new.csv'\n",
    "test_data = 'stimuli_param_uniqueF3_test_new.csv'\n",
    "\n",
    "num_features = 3\n",
    "node_hidden01 = 10\n",
    "learning_rate = 0.05"
   ]
  },
  {
   "cell_type": "code",
   "execution_count": 120,
   "metadata": {
    "colab": {
     "base_uri": "https://localhost:8080/",
     "height": 170
    },
    "colab_type": "code",
    "id": "xqZqjlYyVveh",
    "outputId": "df230d6e-ead1-4eae-c846-ef47bb555197"
   },
   "outputs": [
    {
     "name": "stdout",
     "output_type": "stream",
     "text": [
      "number of training samples: 52\n",
      "dimension of feature dataset: (52, 3)\n",
      "[[1.  1.  2.2]\n",
      " [1.  1.  2.5]\n",
      " [1.  2.  5. ]\n",
      " [1.  2.  0.3]\n",
      " [1.  3.  3.1]]\n",
      "dimension of category dataset: (52,)\n",
      "[1 1 1 1 1]\n"
     ]
    }
   ],
   "source": [
    "#load data\n",
    "df=pd.read_csv(train_data, sep=',',header=None)\n",
    "df.shape\n",
    "nsamples =df.shape[0]\n",
    "print \"number of training samples:\",nsamples\n",
    "\n",
    "##separate data into features and labels (numpy.array)\n",
    "temp = df.iloc[:,0:num_features]\n",
    "x_data = temp.values\n",
    "print \"dimension of feature dataset:\",x_data.shape\n",
    "print(x_data[0:5,:])\n",
    "\n",
    "temp = df.iloc[:,num_features]\n",
    "y_data = temp.values\n",
    "print \"dimension of category dataset:\",y_data.shape\n",
    "print(y_data[0:5])"
   ]
  },
  {
   "cell_type": "code",
   "execution_count": 121,
   "metadata": {
    "colab": {
     "base_uri": "https://localhost:8080/",
     "height": 357
    },
    "colab_type": "code",
    "id": "8yq5h2T4hT26",
    "outputId": "fb37ce26-ef3f-43f8-f21b-54d308a36f80"
   },
   "outputs": [
    {
     "name": "stdout",
     "output_type": "stream",
     "text": [
      "number of test samples: 16\n",
      "dimension of feature dataset: (16, 3)\n",
      "[[1.  0.  1.2]\n",
      " [1.  1.  4.2]\n",
      " [2.  0.  5.7]\n",
      " [2.  1.  1.8]\n",
      " [2.  4.  5.7]\n",
      " [3.  0.  2.1]\n",
      " [3.  1.  5.3]\n",
      " [4.  0.  5.7]\n",
      " [1.  4.  4.2]\n",
      " [2.  3.  0. ]\n",
      " [2.  4.  1.8]\n",
      " [3.  3.  4.2]\n",
      " [3.  4.  1.6]\n",
      " [3.  0.  1.1]\n",
      " [4.  3.  6.2]\n",
      " [4.  4.  4.2]]\n",
      "dimension of category dataset: (16,)\n",
      "[1 1 1 1 1 1 1 1 0 0 0 0 0 0 0 0]\n"
     ]
    }
   ],
   "source": [
    "#load test data\n",
    "df=pd.read_csv(test_data, sep=',',header=None)\n",
    "df.shape\n",
    "print \"number of test samples:\",df.shape[0]\n",
    "\n",
    "##separate data into features and labels (numpy.array)\n",
    "temp = df.iloc[:,0:num_features]\n",
    "test_x_data = temp.values\n",
    "print \"dimension of feature dataset:\",test_x_data.shape\n",
    "print(test_x_data)\n",
    "\n",
    "temp = df.iloc[:,num_features]\n",
    "test_y_data = temp.values\n",
    "print \"dimension of category dataset:\",test_y_data.shape\n",
    "print(test_y_data)"
   ]
  },
  {
   "cell_type": "code",
   "execution_count": 0,
   "metadata": {
    "colab": {},
    "colab_type": "code",
    "id": "gpN1pq3UWGT8"
   },
   "outputs": [],
   "source": [
    "#You can think of most the tensorflow variables as actually being functions that we will call when we want to get their value. \n",
    "input_ph = tf.placeholder(tf.float32, shape=[num_features,1]) #This will be the place the input to the network is inserted\n",
    "#shape: number of features\n",
    "\n",
    "target_ph =  tf.placeholder(tf.float32, shape=[1,1]) #This will be the place the target for the network is insertedd\n",
    "#shape = number of node\n",
    "\n",
    "W1 = tf.Variable(tf.random_uniform([node_hidden01,num_features],-1,1)) #First layer weights\n",
    "#first layer: 3 input feautres to 10 nodes in the hidden layer\n",
    "\n",
    "b1 = tf.Variable(tf.random_uniform([node_hidden01,1],-1,1)) # \" \" biases\n",
    "#one node to the 10 nodes in the hidden layer\n",
    "#[# nodes, # nodes], sampling from a random uniform distribution from -1 to 1 for initial weights\n",
    "\n",
    "W2 = tf.Variable(tf.random_uniform([1,node_hidden01],-1,1)) #2nd layer\n",
    "b2 = tf.Variable(tf.random_uniform([1],-1,1))\n",
    "\n",
    "h1 = tf.nn.tanh(tf.matmul(W1,input_ph)+b1)\n",
    "#y = tanh(x1w11+x2w21)\n",
    "#tf.matmul: matrix multiplication\n",
    "\n",
    "output = tf.nn.tanh(tf.matmul(W2,h1)+b2) #This is the actual construction of the network. When we want to get the output of the network, we will tell tensorflow what to put in the input placeholder, and then we'll run this output function\n",
    "\n",
    "loss = tf.reduce_sum(tf.square(output - target_ph)) #This is the function we're trying to optimize. The reduce_sum is not really necessary since we only have a single output, just using it to flatten the output.\n",
    "optimizer = tf.train.AdamOptimizer(learning_rate) #This is a fancy version of momentum based gradient descent optimization.\n",
    "train = optimizer.minimize(loss) #This will be how we tell the network to train on an example\n"
   ]
  },
  {
   "cell_type": "code",
   "execution_count": 0,
   "metadata": {
    "colab": {},
    "colab_type": "code",
    "id": "iH4LASpIYKHN"
   },
   "outputs": [],
   "source": [
    "# Launch the graph -- tell tensorflow to initialize everything.\n",
    "init = tf.global_variables_initializer()\n",
    "sess = tf.Session()\n",
    "sess.run(init) #first argument to sess.run is function to run, here we're running the initialize function\n"
   ]
  },
  {
   "cell_type": "code",
   "execution_count": 0,
   "metadata": {
    "colab": {},
    "colab_type": "code",
    "id": "mfkdcnOPdsrN"
   },
   "outputs": [],
   "source": [
    "def test():\n",
    "    MSE = 0.0\n",
    "    for i in xrange(len(test_x_data)):\n",
    "      MSE += sess.run(loss,feed_dict={input_ph: test_x_data[i].reshape([3,1]),target_ph: test_y_data[i].reshape([1,1])}) #test on a test data point. feed_dict is how you pass things in to the placeholders created above\n",
    "      MSE /= 4\n",
    "    return MSE\n",
    "\n",
    "def accuracy():\n",
    "    temp =[] \n",
    "    for i in xrange(len(test_y_data)):\n",
    "        temp.append(sess.run(output,feed_dict={input_ph: test_x_data[i].reshape([3,1])}))\n",
    "    return temp\n",
    "    \n",
    "    \n",
    "def hidden():\n",
    "    temp = []\n",
    "    for i in xrange(len(test_y_data)):\n",
    "        temp.append(sess.run(h1,feed_dict={input_ph: test_x_data[i].reshape([3,1])}))\n",
    "    return temp"
   ]
  },
  {
   "cell_type": "code",
   "execution_count": 125,
   "metadata": {
    "colab": {
     "base_uri": "https://localhost:8080/",
     "height": 595
    },
    "colab_type": "code",
    "id": "nHlK5Rt2dwpu",
    "outputId": "1ba76612-f510-4be7-92af-bf4dc5c7d034"
   },
   "outputs": [
    {
     "name": "stdout",
     "output_type": "stream",
     "text": [
      "Pre training MSE: <function test at 0x7f46fcca8500>\n",
      "On step 0, test MSE 0.262677\n",
      "On step 100, test MSE 0.132984\n",
      "On step 200, test MSE 0.333301\n",
      "On step 300, test MSE 0.333299\n",
      "On step 400, test MSE 0.333297\n",
      "On step 500, test MSE 0.333296\n",
      "On step 600, test MSE 0.333294\n",
      "On step 700, test MSE 0.333291\n",
      "On step 800, test MSE 0.333287\n",
      "On step 900, test MSE 0.333282\n",
      "Post training MSE: 0.33327574368560653\n",
      "Final weights:\n",
      "(array([[-0.7296855 , -0.15510575, -0.89871866],\n",
      "       [ 0.49007463, -0.24390739,  1.2640802 ],\n",
      "       [-1.3769643 ,  0.11265108, -1.5781204 ],\n",
      "       [-0.09519171, -0.23981698, -0.40158165],\n",
      "       [-0.30631584,  0.5832941 ,  0.6109769 ],\n",
      "       [-0.35774532, -0.06444861, -0.33934864],\n",
      "       [-0.5260562 ,  0.65897083,  0.2961003 ],\n",
      "       [-1.3532478 , -0.21825251, -1.3706481 ],\n",
      "       [ 1.5223179 ,  1.222654  ,  1.3816328 ],\n",
      "       [-0.14999314,  1.488334  ,  0.5175745 ]], dtype=float32), array([[-1.5760164 ],\n",
      "       [ 1.4259529 ],\n",
      "       [-0.35864538],\n",
      "       [-0.39881206],\n",
      "       [ 0.96657175],\n",
      "       [-0.75693756],\n",
      "       [ 0.8771453 ],\n",
      "       [-0.54242355],\n",
      "       [ 0.8888972 ],\n",
      "       [ 0.81370014]], dtype=float32), array([[-0.74244887,  0.6072291 , -0.6003322 ,  0.08583543, -0.17321038,\n",
      "         0.16150607, -0.39898297, -0.04310157,  1.3947287 ,  1.431574  ]],\n",
      "      dtype=float32), array([1.0578212], dtype=float32))\n"
     ]
    }
   ],
   "source": [
    "# Fit the function\n",
    "print \"Pre training MSE:\", test\n",
    "ac = []\n",
    "hid = []\n",
    "los = []\n",
    "for step in xrange(1000):\n",
    "    sess.run(train,feed_dict={input_ph: x_data[step % nsamples].reshape([3,1]),target_ph: y_data[step % nsamples].reshape([1,1])}) \n",
    "    #sess.run(train): this will train the model, update the weights\n",
    "    #Run training on an example\n",
    "    ac.append(accuracy())\n",
    "    hid.append(hidden())\n",
    "    los.append(test())\n",
    "    if step % 100 == 0:\n",
    "\tprint \"On step %i, test MSE %f\" %(step,test())\n",
    " \n",
    "print \"Post training MSE:\", test()\n",
    "\n",
    "print \"Final weights:\"\n",
    "print(sess.run(W1),sess.run(b1),sess.run(W2),sess.run(b2))"
   ]
  },
  {
   "cell_type": "code",
   "execution_count": 130,
   "metadata": {
    "colab": {
     "base_uri": "https://localhost:8080/",
     "height": 602
    },
    "colab_type": "code",
    "id": "anAlvAn1d1SU",
    "outputId": "890a7169-84de-4273-9728-ff7fe316630f"
   },
   "outputs": [
    {
     "data": {
      "image/png": "[encoded data removed]",
      "text/plain": [
       "<matplotlib.figure.Figure at 0x7f46f81abe90>"
      ]
     },
     "metadata": {
      "tags": []
     },
     "output_type": "display_data"
    }
   ],
   "source": [
    "fig, axes = plt.subplots(2, sharex=True, figsize=(18, 9))\n",
    "fig.suptitle('Training Metrics')\n",
    "\n",
    "axes[0].set_ylabel(\"Loss\", fontsize=20)\n",
    "axes[0].set_xlabel(\"epoch\", fontsize = 20)\n",
    "axes[0].plot(los)\n",
    "\n",
    "#axes[1].set_ylabel(\"Accuracy\", fontsize=14)\n",
    "#axes[1].set_xlabel(\"Epoch\", fontsize=14)\n",
    "#axes[1].plot(ac)\n",
    "\n",
    "plt.show()"
   ]
  },
  {
   "cell_type": "code",
   "execution_count": 111,
   "metadata": {
    "colab": {
     "base_uri": "https://localhost:8080/",
     "height": 187
    },
    "colab_type": "code",
    "id": "hzUWGuvLjgNj",
    "outputId": "82d3eb24-2577-4acb-82c1-9b1e7c6a634b"
   },
   "outputs": [
    {
     "data": {
      "text/plain": [
       "[0.06451091810522015,\n",
       " 0.06809523417872071,\n",
       " 0.07193364825782111,\n",
       " 0.07552856143865477,\n",
       " 0.07888645475080447,\n",
       " 0.0819697087674506,\n",
       " 0.08479339879195485,\n",
       " 0.0873982359094439,\n",
       " 0.08977011490726199,\n",
       " 0.0921130979762298]"
      ]
     },
     "execution_count": 111,
     "metadata": {
      "tags": []
     },
     "output_type": "execute_result"
    }
   ],
   "source": [
    "los"
   ]
  },
  {
   "cell_type": "code",
   "execution_count": 0,
   "metadata": {
    "colab": {},
    "colab_type": "code",
    "id": "Eu4mHJYbjg1O"
   },
   "outputs": [],
   "source": []
  }
 ],
 "metadata": {
  "colab": {
   "include_colab_link": true,
   "name": "xor_stimuli.ipynb",
   "provenance": [],
   "version": "0.3.2"
  },
  "kernelspec": {
   "display_name": "Python 2",
   "language": "python",
   "name": "python2"
  },
  "language_info": {
   "codemirror_mode": {
    "name": "ipython",
    "version": 2
   },
   "file_extension": ".py",
   "mimetype": "text/x-python",
   "name": "python",
   "nbconvert_exporter": "python",
   "pygments_lexer": "ipython2",
   "version": "2.7.15"
  }
 },
 "nbformat": 4,
 "nbformat_minor": 1
}
